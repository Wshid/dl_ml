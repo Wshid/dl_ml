{
  "nbformat": 4,
  "nbformat_minor": 0,
  "metadata": {
    "colab": {
      "provenance": []
    },
    "kernelspec": {
      "name": "python3",
      "display_name": "Python 3"
    },
    "language_info": {
      "name": "python"
    }
  },
  "cells": [
    {
      "cell_type": "markdown",
      "source": [
        "# 7-1: Implementation of CNNs"
      ],
      "metadata": {
        "id": "A__cI9iWYYpE"
      }
    },
    {
      "cell_type": "markdown",
      "source": [
        "## Code.7-1-1: Implementation with Sequential Method"
      ],
      "metadata": {
        "id": "dS-AlguZqj-B"
      }
    },
    {
      "cell_type": "code",
      "execution_count": 3,
      "metadata": {
        "id": "lEOdBtPco5ar",
        "colab": {
          "base_uri": "https://localhost:8080/"
        },
        "outputId": "4a2a9f28-5acf-43a7-cd94-cbacdfecc8b0"
      },
      "outputs": [
        {
          "output_type": "stream",
          "name": "stdout",
          "text": [
            "(4, 28, 28, 3)\n",
            "(4, 10)\n"
          ]
        }
      ],
      "source": [
        "import tensorflow as tf\n",
        "\n",
        "from tensorflow.keras.models import Sequential\n",
        "from tensorflow.keras.layers import Conv2D, MaxPooling2D, Flatten, Dense\n",
        "\n",
        "N, n_H, n_W, n_C = 4, 28, 28, 3\n",
        "n_conv_neurons = [10, 20, 30]\n",
        "n_dense_neurons = [50, 30, 10]\n",
        "k_size, padding = 3, 'same'\n",
        "activation='relu'\n",
        "pool_size, pool_strides = 2, 2\n",
        "\n",
        "x = tf.random.normal(shape=(N, n_H, n_W, n_C))\n",
        "print(x.shape)\n",
        "\n",
        "# Sequential은 단순히 연접하면 모델 추가 가능\n",
        "model = Sequential()\n",
        "model.add(Conv2D(filters=n_conv_neurons[0], kernel_size=k_size, padding=padding,\n",
        "                 activation=activation))\n",
        "model.add(MaxPooling2D(pool_size=pool_size, strides=pool_strides))\n",
        "model.add(Conv2D(filters=n_conv_neurons[1], kernel_size=k_size, padding=padding,\n",
        "                 activation=activation))\n",
        "model.add(MaxPooling2D(pool_size=pool_size, strides=pool_strides))\n",
        "model.add(Conv2D(filters=n_conv_neurons[2], kernel_size=k_size, padding=padding,\n",
        "                 activation=activation))\n",
        "model.add(MaxPooling2D(pool_size=pool_size, strides=pool_strides))\n",
        "model.add(Flatten())\n",
        "model.add(Dense(units=n_dense_neurons[0], activation=activation))\n",
        "model.add(Dense(units=n_dense_neurons[1], activation=activation))\n",
        "model.add(Dense(units=n_dense_neurons[2], activation='softmax'))\n",
        "\n",
        "predictions = model(x)\n",
        "print(predictions.shape)"
      ]
    },
    {
      "cell_type": "code",
      "source": [
        "model = Sequential()\n",
        "for n_conv_neuron in n_conv_neurons:\n",
        "  model.add(Conv2D(filters=n_conv_neuron, kernel_size=k_size, padding=padding,\n",
        "                  activation=activation))\n",
        "  model.add(MaxPooling2D(pool_size=pool_size, strides=pool_strides))\n",
        "\n",
        "model.add(Flatten())\n",
        "\n",
        "for n_conv_neuron in n_dense_neurons:\n",
        "  model.add(Dense(units=n_conv_neuron, activation=activation))\n",
        "model.add(Dense(units=n_dense_neurons[-1], activation='softmax'))"
      ],
      "metadata": {
        "id": "0sC4FT-KBG9w"
      },
      "execution_count": 4,
      "outputs": []
    },
    {
      "cell_type": "markdown",
      "source": [
        "## Code.7-1-2: Implementation with Model Sub-classing"
      ],
      "metadata": {
        "id": "yj9uvNfpcvMr"
      }
    },
    {
      "cell_type": "code",
      "source": [
        "import tensorflow as tf\n",
        "\n",
        "from tensorflow.keras.models import Model\n",
        "from tensorflow.keras.layers import Conv2D, MaxPooling2D, Flatten, Dense\n",
        "\n",
        "class TestCNN(Model):\n",
        "  def __init__(self):\n",
        "    super(TestCNN, self).__init__()\n",
        "\n",
        "    self.conv1 = Conv2D(filters=n_conv_neurons[0], kernel_size=k_size, padding=padding,\n",
        "                 activation=activation)\n",
        "    self.conv1_pool = MaxPooling2D(pool_size=pool_size, strides=pool_strides)\n",
        "\n",
        "    self.conv2 = Conv2D(filters=n_conv_neurons[1], kernel_size=k_size, padding=padding,\n",
        "                 activation=activation)\n",
        "    self.conv2_pool = MaxPooling2D(pool_size=pool_size, strides=pool_strides)\n",
        "\n",
        "    self.conv3 = Conv2D(filters=n_conv_neurons[2], kernel_size=k_size, padding=padding,\n",
        "                 activation=activation)\n",
        "    self.conv3_pool = MaxPooling2D(pool_size=pool_size, strides=pool_strides)\n",
        "\n",
        "    self.flatten = Flatten()\n",
        "\n",
        "    self.dense1 = Dense(units=n_dense_neurons[0], activation=activation)\n",
        "    self.dense2 = Dense(units=n_dense_neurons[1], activation=activation)\n",
        "    self.dense3 = Dense(units=n_dense_neurons[2], activation='softmax')\n",
        "  \n",
        "  def call(self, x):\n",
        "    x = self.conv1(x)\n",
        "    print(x.shape)\n",
        "    x = self.conv1_pool(x)\n",
        "    print(x.shape)\n",
        "\n",
        "    x = self.conv2(x)\n",
        "    print(x.shape)\n",
        "    x = self.conv2_pool(x)\n",
        "    print(x.shape)\n",
        "\n",
        "    x = self.conv3(x)\n",
        "    print(x.shape)\n",
        "    x = self.conv3_pool(x)\n",
        "    print(x.shape)\n",
        "\n",
        "    x = self.flatten(x)\n",
        "    print(x.shape)\n",
        "\n",
        "    x = self.dense1(x)\n",
        "    print(x.shape)\n",
        "    x = self.dense2(x)\n",
        "    print(x.shape)\n",
        "    x = self.dense3(x)\n",
        "    print(x.shape)\n",
        "    return x\n",
        "\n",
        "\n",
        "N, n_H, n_W, n_C = 4, 28, 28, 3\n",
        "n_conv_neurons = [10, 20, 30]\n",
        "n_dense_neurons = [50, 30, 10]\n",
        "k_size, padding = 3, 'same'\n",
        "activation='relu'\n",
        "pool_size, pool_strides = 2, 2\n",
        "\n",
        "x = tf.random.normal(shape=(N, n_H, n_W, n_C))\n",
        "\n",
        "model = TestCNN()\n",
        "y = model(x)\n"
      ],
      "metadata": {
        "colab": {
          "base_uri": "https://localhost:8080/"
        },
        "id": "-NNxl2JCYtVf",
        "outputId": "0701d41a-59eb-48f7-8145-0bea27d183bb"
      },
      "execution_count": 8,
      "outputs": [
        {
          "output_type": "stream",
          "name": "stdout",
          "text": [
            "(4, 28, 28, 10)\n",
            "(4, 14, 14, 10)\n",
            "(4, 14, 14, 20)\n",
            "(4, 7, 7, 20)\n",
            "(4, 7, 7, 30)\n",
            "(4, 3, 3, 30)\n",
            "(4, 270)\n",
            "(4, 50)\n",
            "(4, 30)\n",
            "(4, 10)\n"
          ]
        }
      ]
    },
    {
      "cell_type": "markdown",
      "source": [
        "## Code.7-1-3: Implementation with Sequential + Layer Sub-classing"
      ],
      "metadata": {
        "id": "xKYQwObRdgoa"
      }
    },
    {
      "cell_type": "code",
      "source": [
        "import tensorflow as tf\n",
        "\n",
        "from tensorflow.keras.models import Sequential\n",
        "from tensorflow.keras.layers import Conv2D, MaxPooling2D, Flatten, Dense, Layer\n",
        "\n",
        "class MyConv(Layer):\n",
        "  def __init__(self, n_neuron):\n",
        "    super(MyConv, self).__init__()\n",
        "\n",
        "    self.conv = Conv2D(filters=n_neuron, kernel_size=k_size, padding=padding,\n",
        "                 activation=activation)\n",
        "    self.conv_pool = MaxPooling2D(pool_size=pool_size, strides=pool_strides)\n",
        "  \n",
        "  def call(self, x):\n",
        "    x = self.conv(x)\n",
        "    x = self.conv_pool(x)\n",
        "    return x\n",
        "\n",
        "model = Sequential()\n",
        "model.add(MyConv(n_conv_neurons[0]))\n",
        "model.add(MyConv(n_conv_neurons[1]))\n",
        "model.add(MyConv(n_conv_neurons[2]))\n",
        "model.add(Flatten())\n",
        "\n",
        "model.add(Dense(units=n_dense_neurons[0], activation=activation))\n",
        "model.add(Dense(units=n_dense_neurons[1], activation=activation))\n",
        "model.add(Dense(units=n_dense_neurons[2], activation='softmax'))"
      ],
      "metadata": {
        "id": "owSWhaBB6hFU"
      },
      "execution_count": 9,
      "outputs": []
    },
    {
      "cell_type": "markdown",
      "source": [
        "## Code.7-1-4: Implementation with Model and Layer Sub-classing"
      ],
      "metadata": {
        "id": "Q1TaqdJOJgNV"
      }
    },
    {
      "cell_type": "code",
      "source": [
        "import tensorflow as tf\n",
        "\n",
        "from tensorflow.keras.models import Sequential\n",
        "from tensorflow.keras.layers import Conv2D, MaxPooling2D, Flatten, Dense, Layer\n",
        "\n",
        "class MyConv(Layer):\n",
        "  def __init__(self, n_neuron):\n",
        "    super(MyConv, self).__init__()\n",
        "\n",
        "    self.conv = Conv2D(filters=n_neuron, kernel_size=k_size, padding=padding,\n",
        "                 activation=activation)\n",
        "    self.conv_pool = MaxPooling2D(pool_size=pool_size, strides=pool_strides)\n",
        "  \n",
        "  def call(self, x):\n",
        "    x = self.conv(x)\n",
        "    x = self.conv_pool(x)\n",
        "    return x\n",
        "\n",
        "class TestCNN(Model):\n",
        "  def __init__(self):\n",
        "    super(TestCNN, self).__init__()\n",
        "\n",
        "    self.conv1 = MyConv(n_conv_neurons[0])\n",
        "    self.conv2 = MyConv(n_conv_neurons[1])\n",
        "    self.conv3 = MyConv(n_conv_neurons[2])\n",
        "    self.flatten = Flatten()\n",
        "\n",
        "    self.dense1 = Dense(units=n_dense_neurons[0], activation=activation)\n",
        "    self.dense2 = Dense(units=n_dense_neurons[1], activation=activation)\n",
        "    self.dense3 = Dense(units=n_dense_neurons[2], activation='softmax')\n",
        "  \n",
        "  def call(self, x):\n",
        "    x = self.conv1(x)\n",
        "    x = self.conv1_pool(x)\n",
        "\n",
        "    x = self.conv2(x)\n",
        "    x = self.conv2_pool(x)\n",
        "\n",
        "    x = self.conv3(x)\n",
        "    x = self.conv3_pool(x)\n",
        "\n",
        "    x = self.flatten(x)\n",
        "\n",
        "    x = self.dense1(x)\n",
        "    x = self.dense2(x)\n",
        "    x = self.dense3(x)\n",
        "    return x\n"
      ],
      "metadata": {
        "id": "ihKfTjHZJdqA"
      },
      "execution_count": 11,
      "outputs": []
    },
    {
      "cell_type": "code",
      "source": [
        "import tensorflow as tf\n",
        "\n",
        "from tensorflow.keras.models import Sequential\n",
        "from tensorflow.keras.layers import Conv2D, MaxPooling2D, Flatten, Dense, Layer\n",
        "\n",
        "class MyConv(Layer):\n",
        "  def __init__(self, n_neuron):\n",
        "    super(MyConv, self).__init__()\n",
        "\n",
        "    self.conv = Conv2D(filters=n_neuron, kernel_size=k_size, padding=padding,\n",
        "                 activation=activation)\n",
        "    self.conv_pool = MaxPooling2D(pool_size=pool_size, strides=pool_strides)\n",
        "  \n",
        "  def call(self, x):\n",
        "    x = self.conv(x)\n",
        "    x = self.conv_pool(x)\n",
        "    return x\n",
        "\n",
        "class TestCNN(Model):\n",
        "  def __init__(self):\n",
        "    super(TestCNN, self).__init__()\n",
        "    self.fe = Sequential()\n",
        "\n",
        "    self.fe.add(MyConv(n_conv_neurons[0]))\n",
        "    self.fe.add(MyConv(n_conv_neurons[1]))\n",
        "    self.fe.add(MyConv(n_conv_neurons[2]))\n",
        "    self.fe.add(Flatten())\n",
        "\n",
        "    self.classifier = Sequential()\n",
        "    self.classifier.add(Dense(units=n_dense_neurons[0], activation=activation))\n",
        "    self.classifier.add(Dense(units=n_dense_neurons[1], activation=activation))\n",
        "    self.classifier.add(Dense(units=n_dense_neurons[2], activation='softmax'))\n",
        "  \n",
        "  def call(self, x):\n",
        "    x = self.fe(x)\n",
        "    x = self.classifier(x)\n",
        "\n",
        "    return x"
      ],
      "metadata": {
        "id": "aXK2ed-OJeqN"
      },
      "execution_count": 10,
      "outputs": []
    },
    {
      "cell_type": "code",
      "source": [],
      "metadata": {
        "id": "TECRG9jyLAH8"
      },
      "execution_count": null,
      "outputs": []
    }
  ]
}