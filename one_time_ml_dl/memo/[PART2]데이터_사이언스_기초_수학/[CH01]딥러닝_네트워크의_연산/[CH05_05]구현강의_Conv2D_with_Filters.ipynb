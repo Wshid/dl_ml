{
  "nbformat": 4,
  "nbformat_minor": 0,
  "metadata": {
    "colab": {
      "provenance": []
    },
    "kernelspec": {
      "name": "python3",
      "display_name": "Python 3"
    },
    "language_info": {
      "name": "python"
    }
  },
  "cells": [
    {
      "cell_type": "markdown",
      "source": [
        "# 5-2: Conv Layers with Filters"
      ],
      "metadata": {
        "id": "A__cI9iWYYpE"
      }
    },
    {
      "cell_type": "markdown",
      "source": [
        "## Code.5-2-1: Shapes with Filters\n",
        "- 가장 쉬운 검증 방법은 shape 검증"
      ],
      "metadata": {
        "id": "dS-AlguZqj-B"
      }
    },
    {
      "cell_type": "code",
      "execution_count": 4,
      "metadata": {
        "id": "lEOdBtPco5ar",
        "colab": {
          "base_uri": "https://localhost:8080/"
        },
        "outputId": "a35b2479-20b6-4156-c768-e3df93a489df"
      },
      "outputs": [
        {
          "output_type": "stream",
          "name": "stdout",
          "text": [
            "input images: (32, 28, 28, 3)\n",
            "W/B: (3, 3, 3, 5)/(5,)\n",
            "Output image: (32, 26, 26, 5)\n"
          ]
        }
      ],
      "source": [
        "import tensorflow as tf\n",
        "\n",
        "from tensorflow.keras.layers import Conv2D\n",
        "\n",
        "# N은 데이터의 수, 변하지 않음\n",
        "N, n_H, n_W, n_C = 32, 28, 28, 3\n",
        "n_filter = 5\n",
        "k_size = 3 # kernel, color size\n",
        "\n",
        "images = tf.random.uniform(minval=0, maxval=1,\n",
        "                           shape=((N, n_H, n_W, n_C)))\n",
        "\n",
        "conv = Conv2D(filters=n_filter, kernel_size=k_size)\n",
        "Y = conv(images)\n",
        "\n",
        "W, B = conv.get_weights()\n",
        "\n",
        "print(f\"input images: {images.shape}\")\n",
        "print(f\"W/B: {W.shape}/{B.shape}\") # kernel size (3x3x5)\n",
        "print(f\"Output image: {Y.shape}\")"
      ]
    },
    {
      "cell_type": "markdown",
      "source": [
        "## Code.5-2-2: Computations with Filters"
      ],
      "metadata": {
        "id": "mW6W4H0GYf8z"
      }
    },
    {
      "cell_type": "code",
      "source": [
        "import numpy as np\n",
        "from tensorflow.keras.layers import Conv2D\n",
        "\n",
        "N, n_H, n_W, n_C = 1, 5, 5, 3\n",
        "n_filter = 3\n",
        "k_size = 4 # kernel, color size\n",
        "images = tf.random.uniform(minval=0, maxval=1,\n",
        "                           shape=((N, n_H, n_W, n_C)))\n",
        "\n",
        "# Forward Propagation(Tensorflow)\n",
        "conv = Conv2D(filters=n_filter, kernel_size=k_size)\n",
        "Y = conv(images)\n",
        "# print(Y.shape)\n",
        "print(Y.numpy().shape)\n",
        "# print(f\"Y(Tensorflow): {Y.numpy()}\")\n",
        "# (1, 2, 2, 4) 형태를 출력\n",
        "# 마치 kernel(R,G,B)에 해당하는 값이 4로 출력됨에 따라\n",
        "# 결과는 R,G,B,_가 펼쳐진 형태로 print됨\n",
        "\n",
        "Y = np.transpose(Y.numpy().squeeze(), (2,0,1))\n",
        "print(f\"Y(Tensorflow): {Y}\")\n",
        "\n",
        "W, B = conv.get_weights()\n",
        "\n",
        "# Forward Propagation(Manual)\n",
        "images = images.numpy().squeeze()\n",
        "# print(W.shape, B.shape)\n",
        "\n",
        "Y_man = np.zeros(shape=(n_H - k_size +1, n_W - k_size + 1, n_filter))\n",
        "for c in range(n_filter):\n",
        "  c_W = W[:,:,:,c]\n",
        "  c_b = B[c]\n",
        "\n",
        "  for h in range(n_H - k_size + 1):\n",
        "    for w in range(n_W - k_size + 1):\n",
        "      window = images[h:h+k_size, w:w+k_size, :]\n",
        "      conv = np.sum(window*c_W) + c_b\n",
        "\n",
        "      Y_man[h,w,c] = conv\n",
        "\n",
        "# print(Y_man.shape)\n",
        "print(f\"Y(Manual): {np.transpose(Y_man, (2,0,1))}\")"
      ],
      "metadata": {
        "colab": {
          "base_uri": "https://localhost:8080/"
        },
        "id": "-NNxl2JCYtVf",
        "outputId": "faf2bd14-8c58-4dbd-b6db-300372d2ad97"
      },
      "execution_count": 31,
      "outputs": [
        {
          "output_type": "stream",
          "name": "stdout",
          "text": [
            "(1, 2, 2, 3)\n",
            "Y(Tensorflow): [[[-0.25422177 -0.45924386]\n",
            "  [-0.2865349  -0.45763057]]\n",
            "\n",
            " [[ 0.8020651   1.0614858 ]\n",
            "  [ 1.3265264   1.0502235 ]]\n",
            "\n",
            " [[-0.59098554 -0.9467616 ]\n",
            "  [-0.1412074  -0.4535703 ]]]\n",
            "Y(Manual): [[[-0.25422174 -0.45924383]\n",
            "  [-0.28653494 -0.45763057]]\n",
            "\n",
            " [[ 0.80206501  1.06148565]\n",
            "  [ 1.32652652  1.05022335]]\n",
            "\n",
            " [[-0.59098554 -0.94676155]\n",
            "  [-0.14120743 -0.45357037]]]\n"
          ]
        }
      ]
    },
    {
      "cell_type": "code",
      "source": [
        "import numpy as np\n",
        "images = np.random.randint(low=0, high=10, size=(2,3,4))\n",
        "# print(images)\n",
        "\n",
        "for c in range(4):\n",
        "  # channel별로 따로봐야, weight, height 형태로 볼 수 있음\n",
        "  print(images[:,:,c])\n",
        "\n",
        "# transpose: 차원 재배치\n",
        "# size=(2,3,4)를 기준으로 각각의 index는 0,1,2\n",
        "# index를 2,0,1 순으로 변경한다는 의미\n",
        "images = np.transpose(images, (2,0,1))\n",
        "# print(images.shape)\n",
        "\n",
        "for c in range(4):\n",
        "  print(images[c,:,:])"
      ],
      "metadata": {
        "colab": {
          "base_uri": "https://localhost:8080/"
        },
        "id": "owSWhaBB6hFU",
        "outputId": "b1d3619f-7131-4140-842e-252982a7c5a4"
      },
      "execution_count": 19,
      "outputs": [
        {
          "output_type": "stream",
          "name": "stdout",
          "text": [
            "[[6 1 5]\n",
            " [4 4 7]]\n",
            "[[6 0 8]\n",
            " [0 1 1]]\n",
            "[[2 2 8]\n",
            " [0 0 5]]\n",
            "[[8 1 7]\n",
            " [6 5 9]]\n",
            "[[6 1 5]\n",
            " [4 4 7]]\n",
            "[[6 0 8]\n",
            " [0 1 1]]\n",
            "[[2 2 8]\n",
            " [0 0 5]]\n",
            "[[8 1 7]\n",
            " [6 5 9]]\n"
          ]
        }
      ]
    },
    {
      "cell_type": "markdown",
      "source": [
        "# 5-3: Conv Layers with Activation Functions"
      ],
      "metadata": {
        "id": "OAbnVXA2YlSs"
      }
    },
    {
      "cell_type": "markdown",
      "source": [
        "## Code.5-3-1. Conv Layers with Activation Functions"
      ],
      "metadata": {
        "id": "w_zXn3id-dbc"
      }
    },
    {
      "cell_type": "code",
      "source": [
        "import numpy as np\n",
        "from tensorflow.keras.layers import Conv2D\n",
        "\n",
        "N, n_H, n_W, n_C = 1, 5, 5, 3\n",
        "n_filter = 3\n",
        "k_size = 4 # kernel, color size\n",
        "images = tf.random.uniform(minval=0, maxval=1,\n",
        "                           shape=((N, n_H, n_W, n_C)))\n",
        "\n",
        "# Forward Propagation(Tensorflow)\n",
        "conv = Conv2D(filters=n_filter, kernel_size=k_size, activation='sigmoid')\n",
        "Y = conv(images)\n",
        "# print(Y.shape)\n",
        "print(Y.numpy().shape)\n",
        "# print(f\"Y(Tensorflow): {Y.numpy()}\")\n",
        "# (1, 2, 2, 4) 형태를 출력\n",
        "# 마치 kernel(R,G,B)에 해당하는 값이 4로 출력됨에 따라\n",
        "# 결과는 R,G,B,_가 펼쳐진 형태로 print됨\n",
        "\n",
        "Y = np.transpose(Y.numpy().squeeze(), (2,0,1))\n",
        "print(f\"Y(Tensorflow): {Y}\")\n",
        "\n",
        "W, B = conv.get_weights()\n",
        "\n",
        "# Forward Propagation(Manual)\n",
        "images = images.numpy().squeeze()\n",
        "# print(W.shape, B.shape)\n",
        "\n",
        "Y_man = np.zeros(shape=(n_H - k_size +1, n_W - k_size + 1, n_filter))\n",
        "for c in range(n_filter):\n",
        "  c_W = W[:,:,:,c]\n",
        "  c_b = B[c]\n",
        "\n",
        "  for h in range(n_H - k_size + 1):\n",
        "    for w in range(n_W - k_size + 1):\n",
        "      window = images[h:h+k_size, w:w+k_size, :]\n",
        "      conv = np.sum(window*c_W) + c_b\n",
        "      conv = 1/(1+ np.exp(-conv))\n",
        "\n",
        "      Y_man[h,w,c] = conv\n",
        "\n",
        "# print(Y_man.shape)\n",
        "print(f\"Y(Manual): {np.transpose(Y_man, (2,0,1))}\")"
      ],
      "metadata": {
        "colab": {
          "base_uri": "https://localhost:8080/"
        },
        "id": "7ZsJeMBiYq_m",
        "outputId": "760672e5-1148-4188-8781-befd6e6f19c8"
      },
      "execution_count": 34,
      "outputs": [
        {
          "output_type": "stream",
          "name": "stdout",
          "text": [
            "(1, 2, 2, 3)\n",
            "Y(Tensorflow): [[[0.47555676 0.59177506]\n",
            "  [0.5920567  0.43577215]]\n",
            "\n",
            " [[0.38109317 0.5119858 ]\n",
            "  [0.3818958  0.4644952 ]]\n",
            "\n",
            " [[0.3690512  0.3923633 ]\n",
            "  [0.34802017 0.30564323]]]\n",
            "Y(Manual): [[[0.4755568  0.59177508]\n",
            "  [0.59205665 0.43577214]]\n",
            "\n",
            " [[0.38109319 0.5119858 ]\n",
            "  [0.38189581 0.46449519]]\n",
            "\n",
            " [[0.3690512  0.3923633 ]\n",
            "  [0.34802019 0.30564324]]]\n"
          ]
        }
      ]
    }
  ]
}