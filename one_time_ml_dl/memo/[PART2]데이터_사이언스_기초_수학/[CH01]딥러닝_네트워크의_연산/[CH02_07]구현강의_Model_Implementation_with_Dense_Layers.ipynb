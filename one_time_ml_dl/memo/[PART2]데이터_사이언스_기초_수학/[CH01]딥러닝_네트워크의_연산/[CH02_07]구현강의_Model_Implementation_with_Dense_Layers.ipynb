{
  "nbformat": 4,
  "nbformat_minor": 0,
  "metadata": {
    "colab": {
      "provenance": []
    },
    "kernelspec": {
      "name": "python3",
      "display_name": "Python 3"
    },
    "language_info": {
      "name": "python"
    }
  },
  "cells": [
    {
      "cell_type": "markdown",
      "source": [
        "# 2-3. Model Implementation"
      ],
      "metadata": {
        "id": "nXNjiuvFdaC_"
      }
    },
    {
      "cell_type": "markdown",
      "source": [
        "## *Code*.2-3-1: Model Implementation with Sequential Method"
      ],
      "metadata": {
        "id": "RQM2terudd2j"
      }
    },
    {
      "cell_type": "code",
      "source": [
        "from tensorflow.keras.layers import Dense\n",
        "\n",
        "from tensorflow.keras.models import Sequential\n",
        "\n",
        "n_neurons = [3, 4, 5, 6]\n",
        "\n",
        "# 아래 Sequential()과 유사하나, Tensorflow에서 더 다양한 기능 제공\n",
        "# model = list()\n",
        "# for n_neuron in n_neurons:\n",
        "  # model.append(Dense(units=n_neuron, activation='sigmoid'))\n",
        "\n",
        "# model 안에 여러 layer가 존재\n",
        "# 해당 layer의 관계가 sequencial, 절차적일 경우\n",
        "model = Sequential()\n",
        "# for n_neuron in n_neurons:\n",
        "#   model.add(Dense(units=n_neuron, activation='sigmoid'))\n",
        "model.add(Dense(units=10, activation='sigmoid'))\n",
        "model.add(Dense(units=20, activation='sigmoid'))"
      ],
      "metadata": {
        "id": "5vI1soPZdg6C"
      },
      "execution_count": 1,
      "outputs": []
    },
    {
      "cell_type": "markdown",
      "source": [
        "## Code.2-3-2: Model Implementation with Model-subclassing"
      ],
      "metadata": {
        "id": "4syQ6_rvdj-w"
      }
    },
    {
      "cell_type": "code",
      "source": [
        "from tensorflow.keras.layers import Dense\n",
        "\n",
        "from tensorflow.keras.models import Model\n",
        "\n",
        "# inheritance\n",
        "class TestModel(Model):\n",
        "  def __init__(self):\n",
        "    super(TestModel, self).__init__()\n",
        "\n",
        "    self.dense1 = Dense(units=10, activation='sigmoid')\n",
        "    self.dense2 = Dense(units=20, activation='sigmoid')\n",
        "  \n",
        "model = TestModel()\n",
        "print(model.dense1)\n",
        "print(model.dense2)"
      ],
      "metadata": {
        "colab": {
          "base_uri": "https://localhost:8080/"
        },
        "id": "c6riUCcStJ6I",
        "outputId": "2c85acd1-9b16-4afc-d00d-2579c3f6cb28"
      },
      "execution_count": 2,
      "outputs": [
        {
          "output_type": "stream",
          "name": "stdout",
          "text": [
            "<keras.layers.core.dense.Dense object at 0x7f6898384d90>\n",
            "<keras.layers.core.dense.Dense object at 0x7f680b64efa0>\n"
          ]
        }
      ]
    },
    {
      "cell_type": "markdown",
      "source": [
        "## *Code*.2-3-3: Forward Propagation of Models"
      ],
      "metadata": {
        "id": "gFN1C1CQdv4V"
      }
    },
    {
      "cell_type": "code",
      "source": [
        "import tensorflow as tf\n",
        "\n",
        "from tensorflow.keras.layers import Dense\n",
        "\n",
        "from tensorflow.keras.models import Model\n",
        "from tensorflow.keras.models import Sequential\n",
        "\n",
        "X = tf.random.normal(shape=(4, 10))\n",
        "\n",
        "# sequential method\n",
        "model = Sequential()\n",
        "model.add(Dense(units=10, activation='sigmoid'))\n",
        "model.add(Dense(units=20, activation='sigmoid'))\n",
        "\n",
        "# 모든 layer 통과\n",
        "Y = model(X)\n",
        "# 4개의 결과 리턴\n",
        "print(Y.numpy())\n",
        "\n",
        "# inheritance\n",
        "class TestModel(Model):\n",
        "  def __init__(self):\n",
        "    super(TestModel, self).__init__()\n",
        "\n",
        "    self.dense1 = Dense(units=10, activation='sigmoid')\n",
        "    self.dense2 = Dense(units=20, activation='sigmoid')\n",
        "  \n",
        "  # 기존 Python의 __call__과 유사, tensorflow에서 내부적으로 제공하는 DSL\n",
        "  def call(self, x):\n",
        "    x = self.dense1(x)\n",
        "    x = self.dense2(x)\n",
        "    return x\n",
        "  \n",
        "model = TestModel()\n",
        "# call이 호출됨\n",
        "Y = model(X)"
      ],
      "metadata": {
        "id": "KR6C6JMBdy6Y",
        "colab": {
          "base_uri": "https://localhost:8080/"
        },
        "outputId": "d2e5af12-05be-4d5e-bd21-9ad00bbfe3a0"
      },
      "execution_count": 8,
      "outputs": [
        {
          "output_type": "stream",
          "name": "stdout",
          "text": [
            "[[0.51134676 0.58726907 0.4921713  0.38940215 0.5883984  0.45121074\n",
            "  0.4250807  0.5547034  0.4756689  0.41116008 0.3222314  0.4593238\n",
            "  0.44480255 0.4195419  0.4661985  0.4489725  0.4176351  0.60993105\n",
            "  0.2800627  0.49565607]\n",
            " [0.53819287 0.6222056  0.46303782 0.3435041  0.51953626 0.4628493\n",
            "  0.44249082 0.55433935 0.56119436 0.41840917 0.35815805 0.5073559\n",
            "  0.5213083  0.41420475 0.43203872 0.4963438  0.34841982 0.61065584\n",
            "  0.29663852 0.58508146]\n",
            " [0.4727695  0.5589636  0.39931715 0.3702988  0.44602436 0.43581912\n",
            "  0.59636706 0.58385426 0.43804812 0.37633467 0.32061684 0.4628896\n",
            "  0.46335772 0.43419808 0.45085305 0.48509473 0.39914486 0.6259192\n",
            "  0.36025807 0.48022813]\n",
            " [0.47653273 0.5390981  0.43732032 0.41314837 0.569249   0.43034583\n",
            "  0.52731043 0.57145786 0.38624328 0.41150156 0.30757087 0.43021366\n",
            "  0.4079816  0.43311813 0.47616896 0.43398082 0.47303367 0.59677935\n",
            "  0.33970714 0.4342181 ]]\n"
          ]
        }
      ]
    },
    {
      "cell_type": "code",
      "source": [
        "# inheritance\n",
        "class TestModel(Model):\n",
        "  def __init__(self, n_neurons):\n",
        "    super(TestModel, self).__init__()\n",
        "    self.n_neurons = n_neurons\n",
        "    \n",
        "    self.dense_layers = list()\n",
        "    for n_neuron in self.n_neurons:\n",
        "      self.dense_layers.append(Dense(units=n_neuron, activation='sigmoid'))\n",
        "  \n",
        "  # 기존 Python의 __call__과 유사, tensorflow에서 내부적으로 제공하는 DSL\n",
        "  def call(self, x):\n",
        "    for dense in self.dense_layers:\n",
        "      x = dense(x)\n",
        "    return x\n",
        "  \n",
        "n_neurons = [3, 4, 5]\n",
        "model = TestModel(n_neurons)\n",
        "\n",
        "\n",
        "class TestModel(Model):\n",
        "  def __init__(self, n_neurons):\n",
        "    super(TestModel, self).__init__()\n",
        "    self.n_neurons = n_neurons\n",
        "    \n",
        "    self.model = Sequential()\n",
        "    self.model.add(Dense(units=10, activation='sigmoid'))\n",
        "    self.model.add(Dense(units=20, activation='sigmoid'))\n",
        "  \n",
        "  # 기존 Python의 __call__과 유사, tensorflow에서 내부적으로 제공하는 DSL\n",
        "  def call(self, x):\n",
        "    x = self.model(x)\n",
        "    return x\n",
        "  \n",
        "n_neurons = [3, 4, 5]\n",
        "model = TestModel(n_neurons)"
      ],
      "metadata": {
        "id": "k5mVPJQ5vIVd"
      },
      "execution_count": 11,
      "outputs": []
    },
    {
      "cell_type": "markdown",
      "source": [
        "\n",
        "## Code.2-3-4: Layers in Models\n"
      ],
      "metadata": {
        "id": "sBFycqvIdzi-"
      }
    },
    {
      "cell_type": "code",
      "source": [
        "import tensorflow as tf\n",
        "\n",
        "from tensorflow.keras.layers import Dense\n",
        "\n",
        "from tensorflow.keras.models import Sequential\n",
        "\n",
        "X = tf.random.normal(shape=(4, 10))\n",
        "\n",
        "# sequential method\n",
        "model = Sequential()\n",
        "model.add(Dense(units=10, activation='sigmoid'))\n",
        "model.add(Dense(units=20, activation='sigmoid'))\n",
        "\n",
        "Y = model(X)\n",
        "\n",
        "# list type\n",
        "print(type(model.layers))\n",
        "# dense layers in list\n",
        "print(model.layers)\n",
        "\n",
        "# 다양한 기능 확인\n",
        "dense1 = model.layers[0]\n",
        "for tmp in dir(dense1):\n",
        "  print(tmp)\n",
        "\n",
        "for layer in model.layers:\n",
        "  w,b = layer.get_weights()\n",
        "  print(w.shape, b.shape)"
      ],
      "metadata": {
        "colab": {
          "base_uri": "https://localhost:8080/"
        },
        "id": "L5KFWYd6wzQA",
        "outputId": "6cc6b278-0dc8-4b8e-c1c9-958ebb1fa3df"
      },
      "execution_count": 16,
      "outputs": [
        {
          "output_type": "stream",
          "name": "stdout",
          "text": [
            "<class 'list'>\n",
            "[<keras.layers.core.dense.Dense object at 0x7f67f8c30580>, <keras.layers.core.dense.Dense object at 0x7f67f8c70250>]\n",
            "_TF_MODULE_IGNORED_PROPERTIES\n",
            "__call__\n",
            "__class__\n",
            "__delattr__\n",
            "__dict__\n",
            "__dir__\n",
            "__doc__\n",
            "__eq__\n",
            "__format__\n",
            "__ge__\n",
            "__getattribute__\n",
            "__getstate__\n",
            "__gt__\n",
            "__hash__\n",
            "__init__\n",
            "__init_subclass__\n",
            "__le__\n",
            "__lt__\n",
            "__module__\n",
            "__ne__\n",
            "__new__\n",
            "__reduce__\n",
            "__reduce_ex__\n",
            "__repr__\n",
            "__setattr__\n",
            "__setstate__\n",
            "__sizeof__\n",
            "__str__\n",
            "__subclasshook__\n",
            "__weakref__\n",
            "_activity_regularizer\n",
            "_add_trackable\n",
            "_add_trackable_child\n",
            "_add_variable_with_custom_getter\n",
            "_auto_config\n",
            "_auto_get_config\n",
            "_auto_track_sub_layers\n",
            "_autocast\n",
            "_autographed_call\n",
            "_build_input_shape\n",
            "_call_spec\n",
            "_callable_losses\n",
            "_captured_weight_regularizer\n",
            "_cast_single_input\n",
            "_checkpoint_dependencies\n",
            "_clear_losses\n",
            "_compute_dtype\n",
            "_compute_dtype_object\n",
            "_dedup_weights\n",
            "_deferred_dependencies\n",
            "_delete_tracking\n",
            "_deserialization_dependencies\n",
            "_deserialize_from_proto\n",
            "_dtype\n",
            "_dtype_policy\n",
            "_dynamic\n",
            "_eager_losses\n",
            "_expects_mask_arg\n",
            "_expects_training_arg\n",
            "_export_to_saved_model_graph\n",
            "_flatten\n",
            "_flatten_layers\n",
            "_flatten_modules\n",
            "_functional_construction_call\n",
            "_gather_children_attribute\n",
            "_gather_saveables_for_checkpoint\n",
            "_get_cell_name\n",
            "_get_existing_metric\n",
            "_get_input_masks\n",
            "_get_node_attribute_at_index\n",
            "_get_save_spec\n",
            "_get_trainable_state\n",
            "_get_unnested_name_scope\n",
            "_handle_activity_regularization\n",
            "_handle_deferred_dependencies\n",
            "_handle_weight_regularization\n",
            "_inbound_nodes\n",
            "_inbound_nodes_value\n",
            "_infer_output_signature\n",
            "_init_call_fn_args\n",
            "_init_set_name\n",
            "_initial_weights\n",
            "_input_spec\n",
            "_instrument_layer_creation\n",
            "_instrumented_keras_api\n",
            "_instrumented_keras_layer_class\n",
            "_instrumented_keras_model_class\n",
            "_is_layer\n",
            "_keras_api_names\n",
            "_keras_api_names_v1\n",
            "_keras_tensor_symbolic_call\n",
            "_load_own_variables\n",
            "_lookup_dependency\n",
            "_losses\n",
            "_map_resources\n",
            "_maybe_build\n",
            "_maybe_cast_inputs\n",
            "_maybe_create_attribute\n",
            "_maybe_initialize_trackable\n",
            "_metrics\n",
            "_metrics_lock\n",
            "_must_restore_from_config\n",
            "_name\n",
            "_name_based_attribute_restore\n",
            "_name_based_restores\n",
            "_name_scope\n",
            "_name_scope_on_declaration\n",
            "_no_dependency\n",
            "_non_trainable_weights\n",
            "_obj_reference_counts\n",
            "_obj_reference_counts_dict\n",
            "_object_identifier\n",
            "_outbound_nodes\n",
            "_outbound_nodes_value\n",
            "_preload_simple_restoration\n",
            "_preserve_input_structure_in_config\n",
            "_restore_from_tensors\n",
            "_save_own_variables\n",
            "_saved_model_arg_spec\n",
            "_saved_model_inputs_spec\n",
            "_self_name_based_restores\n",
            "_self_saveable_object_factories\n",
            "_self_setattr_tracking\n",
            "_self_tracked_trackables\n",
            "_self_unconditional_checkpoint_dependencies\n",
            "_self_unconditional_deferred_dependencies\n",
            "_self_unconditional_dependency_names\n",
            "_self_update_uid\n",
            "_serialize_to_proto\n",
            "_serialize_to_tensors\n",
            "_set_connectivity_metadata\n",
            "_set_dtype_policy\n",
            "_set_mask_keras_history_checked\n",
            "_set_mask_metadata\n",
            "_set_save_spec\n",
            "_set_trainable_state\n",
            "_set_training_mode\n",
            "_setattr_tracking\n",
            "_should_cast_single_input\n",
            "_stateful\n",
            "_supports_masking\n",
            "_tf_api_names\n",
            "_tf_api_names_v1\n",
            "_thread_local\n",
            "_track_trackable\n",
            "_track_variable\n",
            "_track_variables\n",
            "_trackable_children\n",
            "_trackable_saved_model_saver\n",
            "_tracking_metadata\n",
            "_trainable\n",
            "_trainable_weights\n",
            "_unconditional_checkpoint_dependencies\n",
            "_unconditional_dependency_names\n",
            "_update_trackables\n",
            "_update_uid\n",
            "_updates\n",
            "_use_input_spec_as_call_signature\n",
            "activation\n",
            "activity_regularizer\n",
            "add_loss\n",
            "add_metric\n",
            "add_update\n",
            "add_variable\n",
            "add_weight\n",
            "bias\n",
            "bias_constraint\n",
            "bias_initializer\n",
            "bias_regularizer\n",
            "build\n",
            "built\n",
            "call\n",
            "compute_dtype\n",
            "compute_mask\n",
            "compute_output_shape\n",
            "compute_output_signature\n",
            "count_params\n",
            "dtype\n",
            "dtype_policy\n",
            "dynamic\n",
            "finalize_state\n",
            "from_config\n",
            "get_config\n",
            "get_input_at\n",
            "get_input_mask_at\n",
            "get_input_shape_at\n",
            "get_output_at\n",
            "get_output_mask_at\n",
            "get_output_shape_at\n",
            "get_weights\n",
            "inbound_nodes\n",
            "input\n",
            "input_mask\n",
            "input_shape\n",
            "input_spec\n",
            "kernel\n",
            "kernel_constraint\n",
            "kernel_initializer\n",
            "kernel_regularizer\n",
            "losses\n",
            "metrics\n",
            "name\n",
            "name_scope\n",
            "non_trainable_variables\n",
            "non_trainable_weights\n",
            "outbound_nodes\n",
            "output\n",
            "output_mask\n",
            "output_shape\n",
            "set_weights\n",
            "stateful\n",
            "submodules\n",
            "supports_masking\n",
            "trainable\n",
            "trainable_variables\n",
            "trainable_weights\n",
            "units\n",
            "updates\n",
            "use_bias\n",
            "variable_dtype\n",
            "variables\n",
            "weights\n",
            "with_name_scope\n",
            "(10, 10) (10,)\n",
            "(10, 20) (20,)\n"
          ]
        }
      ]
    },
    {
      "cell_type": "markdown",
      "source": [
        "## Code.2-3-5: Traninable Variables in Models"
      ],
      "metadata": {
        "id": "d33vGuLyxOqR"
      }
    },
    {
      "cell_type": "code",
      "source": [
        "import tensorflow as tf\n",
        "\n",
        "from tensorflow.keras.layers import Dense\n",
        "\n",
        "from tensorflow.keras.models import Sequential\n",
        "\n",
        "X = tf.random.normal(shape=(4, 10))\n",
        "\n",
        "# sequential method\n",
        "model = Sequential()\n",
        "model.add(Dense(units=10, activation='sigmoid'))\n",
        "model.add(Dense(units=20, activation='sigmoid'))\n",
        "\n",
        "Y = model(X)\n",
        "\n",
        "print(type(model.trainable_variables))\n",
        "print(len(model.trainable_variables))\n",
        "\n",
        "for train_var in model.trainable_variables:\n",
        "  # weight, bias 확인 가능\n",
        "  print(train_var.shape)"
      ],
      "metadata": {
        "colab": {
          "base_uri": "https://localhost:8080/"
        },
        "id": "vO9nTSKKw6Q2",
        "outputId": "889ddb63-928b-468c-9496-84ee401c34c9"
      },
      "execution_count": 17,
      "outputs": [
        {
          "output_type": "stream",
          "name": "stdout",
          "text": [
            "<class 'list'>\n",
            "4\n",
            "(10, 10)\n",
            "(10,)\n",
            "(10, 20)\n",
            "(20,)\n"
          ]
        }
      ]
    },
    {
      "cell_type": "code",
      "source": [],
      "metadata": {
        "id": "EzCwPRyOxo62"
      },
      "execution_count": null,
      "outputs": []
    }
  ]
}