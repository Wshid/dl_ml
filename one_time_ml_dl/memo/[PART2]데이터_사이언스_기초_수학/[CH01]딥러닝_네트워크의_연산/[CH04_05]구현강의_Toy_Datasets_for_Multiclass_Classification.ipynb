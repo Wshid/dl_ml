{
  "nbformat": 4,
  "nbformat_minor": 0,
  "metadata": {
    "colab": {
      "provenance": []
    },
    "kernelspec": {
      "name": "python3",
      "display_name": "Python 3"
    },
    "language_info": {
      "name": "python"
    }
  },
  "cells": [
    {
      "cell_type": "markdown",
      "source": [
        "# 4-1: Datasets\n",
        "- 원하는 데이터셋을 만드는 방법을 중심으로 작업\n",
        "- Dataset을 쪼개서 사용 -> Minibatch"
      ],
      "metadata": {
        "id": "A__cI9iWYYpE"
      }
    },
    {
      "cell_type": "markdown",
      "source": [
        "## Code.4-1-3: Dataset for Multi-class Classification"
      ],
      "metadata": {
        "id": "wnvzcl8Bhhgc"
      }
    },
    {
      "cell_type": "code",
      "execution_count": 15,
      "metadata": {
        "id": "lEOdBtPco5ar",
        "colab": {
          "base_uri": "https://localhost:8080/",
          "height": 1000
        },
        "outputId": "b891b10d-eb95-4da3-f73c-9e90c7752791"
      },
      "outputs": [
        {
          "output_type": "stream",
          "name": "stdout",
          "text": [
            "(8, 2) (8, 1)\n",
            "(16, 2) (16, 1)\n",
            "(24, 2) (24, 1)\n",
            "(32, 2) (32, 1)\n",
            "(40, 2) (40, 1)\n",
            "X(shape/dtype/data): (40, 2) / <dtype: 'float32'> \n",
            " <bound method _EagerTensorBase.numpy of <tf.Tensor: shape=(40, 2), dtype=float32, numpy=\n",
            "array([[  1.8654757 ,  15.0574045 ],\n",
            "       [  2.5625591 ,  13.2797365 ],\n",
            "       [  3.2381573 ,  15.48744   ],\n",
            "       [  3.9486861 ,  13.754726  ],\n",
            "       [  1.6349089 ,  16.07495   ],\n",
            "       [  1.5008798 ,  16.841185  ],\n",
            "       [  1.7698059 ,  14.433611  ],\n",
            "       [  3.3501692 ,  16.218409  ],\n",
            "       [  6.654274  ,   6.062427  ],\n",
            "       [  5.9893565 ,   6.20798   ],\n",
            "       [  7.34242   ,   6.124387  ],\n",
            "       [  5.915077  ,   6.445309  ],\n",
            "       [  5.2874727 ,   6.2928476 ],\n",
            "       [  4.9309773 ,   6.234832  ],\n",
            "       [  4.901337  ,   7.15812   ],\n",
            "       [  6.229378  ,   6.1485825 ],\n",
            "       [ -2.248004  , -11.495452  ],\n",
            "       [ -0.4060428 ,  -9.89374   ],\n",
            "       [ -2.0482702 , -10.208726  ],\n",
            "       [ -3.5263386 ,  -9.305565  ],\n",
            "       [ -0.31700915,  -7.8918023 ],\n",
            "       [ -0.8856844 ,  -8.728142  ],\n",
            "       [ -1.2992209 , -10.669287  ],\n",
            "       [ -1.5168185 ,  -8.1796465 ],\n",
            "       [ -6.1008515 ,  -5.252135  ],\n",
            "       [ -7.1450653 ,  -3.642557  ],\n",
            "       [ -7.8652287 ,  -4.517535  ],\n",
            "       [ -8.381987  ,  -4.715123  ],\n",
            "       [ -7.6877646 ,  -5.86655   ],\n",
            "       [ -8.193502  ,  -4.239868  ],\n",
            "       [ -8.254897  ,  -5.5878553 ],\n",
            "       [ -7.932994  ,  -4.4607444 ],\n",
            "       [  3.7877407 ,  -4.6515384 ],\n",
            "       [  2.7543123 ,  -5.945161  ],\n",
            "       [  1.8994975 ,  -5.83614   ],\n",
            "       [  6.077638  ,  -4.473489  ],\n",
            "       [  4.098672  ,  -4.8679404 ],\n",
            "       [  4.37656   ,  -4.071759  ],\n",
            "       [  1.6588926 ,  -4.2931876 ],\n",
            "       [  2.0953457 ,  -4.1100698 ]], dtype=float32)>>\n",
            "Y(shape/dtype/data): (40, 1) / <dtype: 'int32'> \n",
            " <bound method _EagerTensorBase.numpy of <tf.Tensor: shape=(40, 1), dtype=int32, numpy=\n",
            "array([[0],\n",
            "       [0],\n",
            "       [0],\n",
            "       [0],\n",
            "       [0],\n",
            "       [0],\n",
            "       [0],\n",
            "       [0],\n",
            "       [1],\n",
            "       [1],\n",
            "       [1],\n",
            "       [1],\n",
            "       [1],\n",
            "       [1],\n",
            "       [1],\n",
            "       [1],\n",
            "       [2],\n",
            "       [2],\n",
            "       [2],\n",
            "       [2],\n",
            "       [2],\n",
            "       [2],\n",
            "       [2],\n",
            "       [2],\n",
            "       [3],\n",
            "       [3],\n",
            "       [3],\n",
            "       [3],\n",
            "       [3],\n",
            "       [3],\n",
            "       [3],\n",
            "       [3],\n",
            "       [4],\n",
            "       [4],\n",
            "       [4],\n",
            "       [4],\n",
            "       [4],\n",
            "       [4],\n",
            "       [4],\n",
            "       [4]], dtype=int32)>>\n"
          ]
        },
        {
          "output_type": "display_data",
          "data": {
            "text/plain": [
              "<Figure size 360x360 with 1 Axes>"
            ],
            "image/png": "[encoded data removed]"
          },
          "metadata": {}
        }
      ],
      "source": [
        "# one-hot vector\n",
        "import tensorflow as tf\n",
        "\n",
        "import matplotlib.pyplot as plt\n",
        "\n",
        "plt.style.use('seaborn')\n",
        "\n",
        "N, n_feature = 8, 2\n",
        "n_class = 5\n",
        "\n",
        "X = tf.zeros(shape=(0, n_feature))\n",
        "Y = tf.zeros(shape=(0,1), dtype=tf.int32)\n",
        "\n",
        "fig, ax = plt.subplots(figsize=(5,5))\n",
        "for class_idx in range(n_class):\n",
        "  # print(class_idx)\n",
        "  center = tf.random.uniform(minval=-15, maxval=15, shape=(2, ))\n",
        "  # print(center)\n",
        "  # ax.scatter(center[0], center[1])\n",
        "\n",
        "  x1 = center[0] + tf.random.normal(shape=(N,1))\n",
        "  x2 = center[1] + tf.random.normal(shape=(N,1))\n",
        "\n",
        "  # ax.scatter(x1.numpy(), x2.numpy())\n",
        "\n",
        "  x = tf.concat((x1, x2), axis=1)\n",
        "  y = class_idx*tf.ones(shape=(N,1), dtype=tf.int32)\n",
        "  # print(x.shape, y.shape)\n",
        "\n",
        "  ax.scatter(x[:, 0].numpy(), x[:, 1].numpy(), alpha=0.3)\n",
        "\n",
        "  X = tf.concat((X, x), axis=0)\n",
        "  Y = tf.concat((Y, y), axis=0)\n",
        "\n",
        "  print(X.shape, Y.shape)\n",
        "\n",
        "print(f\"X(shape/dtype/data): {X.shape} / {X.dtype} \\n {X.numpy}\")\n",
        "print(f\"Y(shape/dtype/data): {Y.shape} / {Y.dtype} \\n {Y.numpy}\")"
      ]
    },
    {
      "cell_type": "markdown",
      "source": [
        "## Code.4-1-4: Dataset for Multi-class Classification with One-hot Encoding"
      ],
      "metadata": {
        "id": "mW6W4H0GYf8z"
      }
    },
    {
      "cell_type": "code",
      "source": [
        "import tensorflow as tf\n",
        "\n",
        "import matplotlib.pyplot as plt\n",
        "\n",
        "plt.style.use('seaborn')\n",
        "\n",
        "N, n_feature = 8, 2\n",
        "n_class = 3\n",
        "\n",
        "X = tf.zeros(shape=(0, n_feature))\n",
        "# matrix가 아닌 vector로 만들어주기 위해, 위 코드에 비해 (, 1)을 제거\n",
        "Y = tf.zeros(shape=(0, ), dtype=tf.int32)\n",
        "\n",
        "fig, ax = plt.subplots(figsize=(5,5))\n",
        "for class_idx in range(n_class):\n",
        "  center = tf.random.uniform(minval=-15, maxval=15, shape=(2, ))\n",
        "\n",
        "  x1 = center[0] + tf.random.normal(shape=(N,1))\n",
        "  x2 = center[1] + tf.random.normal(shape=(N,1))\n",
        "\n",
        "  x = tf.concat((x1, x2), axis=1)\n",
        "  # matrix가 아닌 vector로 만들어주기 위해, 위 코드에 비해 (, 1)을 제거\n",
        "  y = class_idx*tf.ones(shape=(N, ), dtype=tf.int32)\n",
        "\n",
        "\n",
        "  ax.scatter(x[:, 0].numpy(), x[:, 1].numpy(), alpha=0.3)\n",
        "\n",
        "  X = tf.concat((X, x), axis=0)\n",
        "  Y = tf.concat((Y, y), axis=0)\n",
        "\n",
        "  print(X.shape, Y.shape)\n",
        "\n",
        "# onehot vector로 만드는 과정\n",
        "Y = tf.one_hot(Y, depth=n_class, dtype=tf.int32)\n",
        "print(f\"X(shape/dtype/data): {X.shape} / {X.dtype} \\n {X.numpy}\")\n",
        "print(f\"Y(shape/dtype/data): {Y.shape} / {Y.dtype} \\n {Y.numpy}\")"
      ],
      "metadata": {
        "colab": {
          "base_uri": "https://localhost:8080/",
          "height": 1000
        },
        "id": "-NNxl2JCYtVf",
        "outputId": "da19d206-9849-4260-f5a6-6e9d13083e3d"
      },
      "execution_count": 13,
      "outputs": [
        {
          "output_type": "stream",
          "name": "stdout",
          "text": [
            "(8, 2) (8,)\n",
            "(16, 2) (16,)\n",
            "(24, 2) (24,)\n",
            "X(shape/dtype/data): (24, 2) / <dtype: 'float32'> \n",
            " <bound method _EagerTensorBase.numpy of <tf.Tensor: shape=(24, 2), dtype=float32, numpy=\n",
            "array([[  9.257736 , -12.350459 ],\n",
            "       [  9.4926605, -14.159916 ],\n",
            "       [ 10.91981  , -15.345842 ],\n",
            "       [  8.972004 , -13.404624 ],\n",
            "       [ 10.129067 , -16.933094 ],\n",
            "       [  9.6203985, -14.488137 ],\n",
            "       [  8.246199 , -13.52028  ],\n",
            "       [  8.771754 , -14.84087  ],\n",
            "       [ -6.02463  ,  12.336746 ],\n",
            "       [ -8.649187 ,  11.473146 ],\n",
            "       [ -8.549901 ,  10.996392 ],\n",
            "       [ -6.486434 ,  13.060534 ],\n",
            "       [ -6.972928 ,  11.393589 ],\n",
            "       [ -6.3638353,  10.559794 ],\n",
            "       [ -8.771652 ,   9.955722 ],\n",
            "       [ -5.5799413,  11.99158  ],\n",
            "       [ -7.6777153,   5.305892 ],\n",
            "       [ -5.7882276,   4.0930743],\n",
            "       [ -6.4741774,   5.089675 ],\n",
            "       [ -5.2996273,   5.2536445],\n",
            "       [ -5.6694107,   3.6377215],\n",
            "       [ -6.2594337,   5.029003 ],\n",
            "       [ -5.814186 ,   4.412496 ],\n",
            "       [ -6.717653 ,   5.8548846]], dtype=float32)>>\n",
            "Y(shape/dtype/data): (24, 3) / <dtype: 'int32'> \n",
            " <bound method _EagerTensorBase.numpy of <tf.Tensor: shape=(24, 3), dtype=int32, numpy=\n",
            "array([[1, 0, 0],\n",
            "       [1, 0, 0],\n",
            "       [1, 0, 0],\n",
            "       [1, 0, 0],\n",
            "       [1, 0, 0],\n",
            "       [1, 0, 0],\n",
            "       [1, 0, 0],\n",
            "       [1, 0, 0],\n",
            "       [0, 1, 0],\n",
            "       [0, 1, 0],\n",
            "       [0, 1, 0],\n",
            "       [0, 1, 0],\n",
            "       [0, 1, 0],\n",
            "       [0, 1, 0],\n",
            "       [0, 1, 0],\n",
            "       [0, 1, 0],\n",
            "       [0, 0, 1],\n",
            "       [0, 0, 1],\n",
            "       [0, 0, 1],\n",
            "       [0, 0, 1],\n",
            "       [0, 0, 1],\n",
            "       [0, 0, 1],\n",
            "       [0, 0, 1],\n",
            "       [0, 0, 1]], dtype=int32)>>\n"
          ]
        },
        {
          "output_type": "display_data",
          "data": {
            "text/plain": [
              "<Figure size 360x360 with 1 Axes>"
            ],
            "image/png": "[encoded data removed]"
          },
          "metadata": {}
        }
      ]
    },
    {
      "cell_type": "markdown",
      "source": [
        "## Code.4-1-5: Dataset Objects"
      ],
      "metadata": {
        "id": "frzOOptPHGfA"
      }
    },
    {
      "cell_type": "code",
      "source": [
        "import tensorflow as tf\n",
        "\n",
        "N, n_feature = 100, 5\n",
        "batch_size = 32\n",
        "\n",
        "t_weights = tf.constant([1, 2, 3, 4, 5], dtype=tf.float32)\n",
        "t_bias = tf.constant([10], dtype=tf.float32)\n",
        "\n",
        "X = tf.random.normal(mean=0, stddev=1, shape=(N, n_feature))\n",
        "Y = tf.reduce_sum(t_weights*X, axis=1) + t_bias\n",
        "\n",
        "# for batch_idx in range( N // batch_size):\n",
        "#   x = X[batch_idx * batch_size : (batch_idx +1)*batch_size, ...]\n",
        "#   y = Y[batch_idx * batch_size : (batch_idx + 1)*batch_size, ...]\n",
        "\n",
        "#   print(x.shape, y.shape)\n",
        "\n",
        "# dataset을 만드는 방법중 제일 간단한 방법\n",
        "# x,y를 먼저 구한후, 아래 메서드 호출\n",
        "# 단, slice가 작을때만 가능함(클 경우 부하 발생)\n",
        "dataset = tf.data.Dataset.from_tensor_slices((X, Y))\n",
        "dataset = dataset.batch(batch_size).shuffle(100)\n",
        "# dataset = dataset.batch(batch_size)\n",
        "\n",
        "for x, y in dataset:\n",
        "  print(x.shape, y.shape)"
      ],
      "metadata": {
        "colab": {
          "base_uri": "https://localhost:8080/"
        },
        "id": "5qBbMGiSGetO",
        "outputId": "455f9f79-f7e7-4614-f6a6-723bfab7434c"
      },
      "execution_count": 19,
      "outputs": [
        {
          "output_type": "stream",
          "name": "stdout",
          "text": [
            "(32, 5) (32,)\n",
            "(32, 5) (32,)\n",
            "(32, 5) (32,)\n",
            "(4, 5) (4,)\n"
          ]
        }
      ]
    },
    {
      "cell_type": "code",
      "source": [],
      "metadata": {
        "id": "EvssmKVxHZxq"
      },
      "execution_count": null,
      "outputs": []
    }
  ]
}