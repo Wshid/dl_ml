{
  "cells": [
    {
      "cell_type": "markdown",
      "metadata": {
        "id": "nXNjiuvFdaC_"
      },
      "source": [
        "# 2-1: Dense Layers"
      ]
    },
    {
      "cell_type": "markdown",
      "metadata": {
        "id": "RQM2terudd2j"
      },
      "source": [
        "## *Code*.2-1-1: Shapes of Dense Layers"
      ]
    },
    {
      "cell_type": "code",
      "execution_count": null,
      "metadata": {
        "colab": {
          "base_uri": "https://localhost:8080/"
        },
        "id": "5vI1soPZdg6C",
        "outputId": "ae6943f1-8aa4-4dc0-8826-dbf061590979"
      },
      "outputs": [
        {
          "name": "stdout",
          "output_type": "stream",
          "text": [
            "===== Input/Weight/Bias =====\n",
            "X: (4, 10)\n",
            "W: (10, 3)\n",
            "B: (3,)\n",
            "Y: (4, 3)\n",
            "[[ 0.37309587  0.5083232   0.57203555]\n",
            " [-0.20396599  0.41426826 -0.6501371 ]\n",
            " [-0.04777634 -0.14888108  0.59533775]\n",
            " [-0.3140095   0.28504556  0.5382954 ]\n",
            " [ 0.28961533  0.515494   -0.22214508]\n",
            " [ 0.49318564  0.42322326  0.08159399]\n",
            " [ 0.3615675  -0.54739183  0.2144661 ]\n",
            " [ 0.11891192 -0.4982126   0.360515  ]\n",
            " [-0.63547677  0.19937742 -0.55581915]\n",
            " [-0.5465478   0.18854302  0.08994973]]\n",
            "Y(Tensorflow): \n",
            " [[0.58275586 0.3564469  0.9363217 ]\n",
            " [0.941601   0.29220355 0.7902023 ]\n",
            " [0.6787915  0.5817162  0.39256167]\n",
            " [0.12157147 0.45740062 0.5984683 ]]\n",
            "Y(with matrix multiplication: \n",
            " [[0.5827559  0.3564469  0.9363217 ]\n",
            " [0.941601   0.29220355 0.7902024 ]\n",
            " [0.6787915  0.5817161  0.39256167]\n",
            " [0.12157147 0.4574006  0.59846836]]\n",
            "Y(with dot producs): \n",
            " [[0.58275592 0.35644683 0.93632167]\n",
            " [0.94160098 0.2922035  0.79020233]\n",
            " [0.67879154 0.58171617 0.39256164]\n",
            " [0.12157145 0.45740062 0.59846832]]\n"
          ]
        }
      ],
      "source": [
        "import numpy as np\n",
        "import tensorflow as tf\n",
        "from tensorflow.math import exp\n",
        "from tensorflow.linalg import matmul\n",
        "from tensorflow.keras.layers import Dense\n",
        "\n",
        "# X = ((->x^(1))^T (->x^(2))^T ... (->x^(N))^T) 의 input 생성\n",
        "N, n_feature = 4, 10\n",
        "X = tf.random.normal(shape=(N, n_feature))\n",
        "\n",
        "n_neuron = 3\n",
        "dense = Dense(units=n_neuron, activation='sigmoid')\n",
        "\n",
        "# X 통과, 이 dense layer는 3개의 뉴런을 가짐\n",
        "# 하나의 neuron은 weight vector(10), bias(3)을 가지며\n",
        "# 최종적으로 W = 10 x 3, bias = vector(3)을 가짐\n",
        "Y_tf = dense(X)\n",
        "\n",
        "# 실제 이론처럼 생성되었는지 검증\n",
        "W, B = dense.get_weights()\n",
        "print('===== Input/Weight/Bias =====')\n",
        "print(f\"X: {X.shape}\")\n",
        "print(f\"W: {W.shape}\")\n",
        "print(f\"B: {B.shape}\")\n",
        "\n",
        "# output vector = 1 x 3\n",
        "print(f\"Y: {Y_tf.shape}\")\n",
        "# 하나의 컬럼당, 하나의 neuron의 weight을 의미 \n",
        "print(W)\n",
        "\n",
        "print(f\"Y(Tensorflow): \\n {Y_tf.numpy()}\")\n",
        "\n",
        "# calculate with matrix multiplication\n",
        "Z = matmul(X, W) + B\n",
        "Y_man_matmul = 1/(1 + exp(-Z))\n",
        "print(f\"Y(with matrix multiplication: \\n {Y_man_matmul.numpy()}\")\n",
        "\n",
        "# calculate with dot products\n",
        "Y_man_vec = np.zeros(shape=(N, n_neuron)) # 4 x 3\n",
        "for x_idx in range(N):\n",
        "  x= X[x_idx]\n",
        "\n",
        "  for nu_idx in range(n_neuron):\n",
        "    w, b = W[:, nu_idx], B[nu_idx]\n",
        "    z = tf.reduce_sum(x * w) + b\n",
        "    a = 1/(1 + np.exp(-z))\n",
        "    Y_man_vec[x_idx,nu_idx] = a\n",
        "\n",
        "print(f\"Y(with dot producs): \\n {Y_man_vec}\")"
      ]
    },
    {
      "cell_type": "markdown",
      "metadata": {
        "id": "4syQ6_rvdj-w"
      },
      "source": [
        "## Code.2-1-2: Output Calculations"
      ]
    },
    {
      "cell_type": "markdown",
      "metadata": {
        "id": "x6_1RIfOdstu"
      },
      "source": [
        "# 2-2: Cascaded Dense Layers"
      ]
    },
    {
      "cell_type": "markdown",
      "metadata": {
        "id": "gFN1C1CQdv4V"
      },
      "source": [
        "## *Code*.2-1-2: Shapes of Cascaded Dense Layers"
      ]
    },
    {
      "cell_type": "code",
      "execution_count": 10,
      "metadata": {
        "colab": {
          "base_uri": "https://localhost:8080/"
        },
        "id": "KR6C6JMBdy6Y",
        "outputId": "7fee8653-94a2-4fad-fafd-ba9d09a53d2d"
      },
      "outputs": [
        {
          "name": "stdout",
          "output_type": "stream",
          "text": [
            "X: (4, 10)\n",
            "\n",
            "W1: (10, 3)\n",
            "\n",
            "B1: (3,)\n",
            "\n",
            "A1: (4, 3)\n",
            "\n",
            "W2: (3, 5)\n",
            "\n",
            "B2: (5,)\n",
            "\n",
            "Y: (4, 5)\n",
            "\n"
          ]
        }
      ],
      "source": [
        "import tensorflow as tf\n",
        "\n",
        "from tensorflow.keras.layers import Dense\n",
        "\n",
        "N, n_feature = 4, 10\n",
        "X = tf.random.normal(shape=(N, n_feature))\n",
        "\n",
        "# 첫번째 layer에는 3개의 neuron\n",
        "# 두번째 layer에는 5개의 neuron\n",
        "n_neurons = [3,5]\n",
        "dense1 = Dense(units=n_neurons[0], activation='sigmoid')\n",
        "dense2 = Dense(units=n_neurons[1], activation='sigmoid')\n",
        "\n",
        "# forward propagation\n",
        "A1 = dense1(X)\n",
        "Y = dense2(A1)\n",
        "\n",
        "# get weight/bias\n",
        "W1, B1 = dense1.get_weights()\n",
        "W2, B2 = dense2.get_weights()\n",
        "\n",
        "print(f\"X: {X.shape}\\n\")\n",
        "print(f\"W1: {W1.shape}\\n\")\n",
        "print(f\"B1: {B1.shape}\\n\")\n",
        "print(f\"A1: {A1.shape}\\n\")\n",
        "\n",
        "print(f\"W2: {W2.shape}\\n\")\n",
        "print(f\"B2: {B2.shape}\\n\")\n",
        "print(f\"Y: {Y.shape}\\n\")"
      ]
    },
    {
      "cell_type": "markdown",
      "metadata": {
        "id": "sBFycqvIdzi-"
      },
      "source": [
        "\n",
        "## Code.2-2-2: Dense Layers with Python List\n"
      ]
    },
    {
      "cell_type": "code",
      "execution_count": 15,
      "metadata": {
        "colab": {
          "base_uri": "https://localhost:8080/"
        },
        "id": "wUuJL-uNd2lR",
        "outputId": "90116db1-fd12-4a69-d2c7-f3ab9f862fce"
      },
      "outputs": [
        {
          "name": "stdout",
          "output_type": "stream",
          "text": [
            "10\n",
            "20\n",
            "30\n",
            "40\n",
            "50\n",
            "60\n",
            "70\n",
            "80\n",
            "90\n",
            "100\n",
            "Input: (4, 10)\n",
            "After dense layer: 1\n",
            "(4, 10) \n",
            "\n",
            "After dense layer: 2\n",
            "(4, 20) \n",
            "\n",
            "After dense layer: 3\n",
            "(4, 30) \n",
            "\n",
            "After dense layer: 4\n",
            "(4, 40) \n",
            "\n",
            "After dense layer: 5\n",
            "(4, 50) \n",
            "\n",
            "After dense layer: 6\n",
            "(4, 60) \n",
            "\n",
            "After dense layer: 7\n",
            "(4, 70) \n",
            "\n",
            "After dense layer: 8\n",
            "(4, 80) \n",
            "\n",
            "After dense layer: 9\n",
            "(4, 90) \n",
            "\n",
            "After dense layer: 10\n",
            "(4, 100) \n",
            "\n"
          ]
        }
      ],
      "source": [
        "import tensorflow as tf\n",
        "\n",
        "from tensorflow.keras.layers import Dense\n",
        "\n",
        "N, n_feature = 4, 10\n",
        "X = tf.random.normal(shape=(N, n_feature))\n",
        "\n",
        "# 여러개의 Dense Layer를 활용할때 python list를 활용하는 방법\n",
        "n_neurons = [10, 20, 30, 40, 50, 60, 70, 80, 90, 100]\n",
        "\n",
        "dense_layers = list()\n",
        "# 10개의 dense layer(object) 존재\n",
        "for n_neuron in n_neurons:\n",
        "  print(n_neuron)\n",
        "  dense = Dense(units=n_neuron, activation='relu')\n",
        "  dense_layers.append(dense)\n",
        "\n",
        "print(f\"Input: {X.shape}\")\n",
        "for dense_idx, dense in enumerate(dense_layers):\n",
        "  X = dense(X)\n",
        "  print(f\"After dense layer: {dense_idx+1}\")\n",
        "  print(f\"{X.shape} \\n\")\n",
        "\n",
        "Y = X"
      ]
    },
    {
      "cell_type": "markdown",
      "metadata": {
        "id": "S5qhR5aSnLMu"
      },
      "source": [
        "\n",
        "## Code.2-2-3: Output Calculations"
      ]
    },
    {
      "cell_type": "code",
      "execution_count": 24,
      "metadata": {
        "colab": {
          "base_uri": "https://localhost:8080/"
        },
        "id": "8U2lYkn5oXVn",
        "outputId": "371e7535-f759-4bf2-b6b2-c1b0b1d4a02a"
      },
      "outputs": [
        {
          "name": "stdout",
          "output_type": "stream",
          "text": [
            "3\n",
            "4\n",
            "5\n",
            "Y(Tensorflow): \n",
            " [[0.68722385 0.5434971  0.56987685 0.5091848  0.41130427]\n",
            " [0.6696428  0.5908019  0.5510873  0.4835227  0.39039767]\n",
            " [0.69718885 0.53936    0.5714452  0.50411856 0.41936702]\n",
            " [0.66156363 0.6007167  0.54580283 0.47864518 0.3855614 ]]\n",
            "Y(Manual): \n",
            " [[0.68722385 0.5434971  0.56987685 0.5091848  0.41130427]\n",
            " [0.6696428  0.5908019  0.5510873  0.4835227  0.39039767]\n",
            " [0.69718885 0.53936    0.5714452  0.50411856 0.41936702]\n",
            " [0.66156363 0.6007167  0.54580283 0.47864518 0.3855614 ]]\n"
          ]
        }
      ],
      "source": [
        "import tensorflow as tf\n",
        "\n",
        "from tensorflow.math import exp\n",
        "from tensorflow.linalg import matmul\n",
        "\n",
        "from tensorflow.keras.layers import Dense\n",
        "\n",
        "N, n_feature = 4, 10\n",
        "X = tf.random.normal(shape=(N, n_feature))\n",
        "# 초기 입력값이 계속 overwrite되기 때문에 사전 복사\n",
        "X_cp = tf.identity(X)\n",
        "\n",
        "n_neurons = [3, 4, 5]\n",
        "\n",
        "dense_layers = list()\n",
        "# 10개의 dense layer(object) 존재\n",
        "for n_neuron in n_neurons:\n",
        "  print(n_neuron)\n",
        "  dense = Dense(units=n_neuron, activation='sigmoid')\n",
        "  dense_layers.append(dense)\n",
        "\n",
        "# forward propagation(Tensorflow)\n",
        "W, B = list(), list()\n",
        "for dense_idx, dense in enumerate(dense_layers):\n",
        "  X = dense(X)\n",
        "  w, b= dense.get_weights()\n",
        "\n",
        "  W.append(w)\n",
        "  B.append(b)\n",
        "print(f\"Y(Tensorflow): \\n {X.numpy()}\")\n",
        "\n",
        "# forward propagation(Manual)\n",
        "for layer_idx in range(len(n_neurons)):\n",
        "  w, b = W[layer_idx], B[layer_idx]\n",
        "\n",
        "  X_cp = matmul(X_cp, w) + b\n",
        "  X_cp = 1/(1 + exp(-X_cp))\n",
        "\n",
        "print(f\"Y(Manual): \\n {X.numpy()}\")"
      ]
    }
  ],
  "metadata": {
    "colab": {
      "provenance": []
    },
    "kernelspec": {
      "display_name": "Python 3",
      "language": "python",
      "name": "python3"
    },
    "language_info": {
      "name": "python",
      "version": "3.10.6"
    },
    "vscode": {
      "interpreter": {
        "hash": "b0fa6594d8f4cbf19f97940f81e996739fb7646882a419484c72d19e05852a7e"
      }
    }
  },
  "nbformat": 4,
  "nbformat_minor": 0
}
