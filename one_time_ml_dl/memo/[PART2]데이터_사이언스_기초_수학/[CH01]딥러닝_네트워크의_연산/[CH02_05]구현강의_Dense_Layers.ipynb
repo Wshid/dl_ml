{
  "cells": [
    {
      "cell_type": "markdown",
      "metadata": {
        "id": "nXNjiuvFdaC_"
      },
      "source": [
        "# 2-1: Dense Layers"
      ]
    },
    {
      "cell_type": "markdown",
      "metadata": {
        "id": "RQM2terudd2j"
      },
      "source": [
        "## *Code*.2-1-1: Shapes of Dense Layers"
      ]
    },
    {
      "cell_type": "code",
      "execution_count": null,
      "metadata": {
        "colab": {
          "base_uri": "https://localhost:8080/"
        },
        "id": "5vI1soPZdg6C",
        "outputId": "ae6943f1-8aa4-4dc0-8826-dbf061590979"
      },
      "outputs": [
        {
          "name": "stdout",
          "output_type": "stream",
          "text": [
            "===== Input/Weight/Bias =====\n",
            "X: (4, 10)\n",
            "W: (10, 3)\n",
            "B: (3,)\n",
            "Y: (4, 3)\n",
            "[[ 0.37309587  0.5083232   0.57203555]\n",
            " [-0.20396599  0.41426826 -0.6501371 ]\n",
            " [-0.04777634 -0.14888108  0.59533775]\n",
            " [-0.3140095   0.28504556  0.5382954 ]\n",
            " [ 0.28961533  0.515494   -0.22214508]\n",
            " [ 0.49318564  0.42322326  0.08159399]\n",
            " [ 0.3615675  -0.54739183  0.2144661 ]\n",
            " [ 0.11891192 -0.4982126   0.360515  ]\n",
            " [-0.63547677  0.19937742 -0.55581915]\n",
            " [-0.5465478   0.18854302  0.08994973]]\n",
            "Y(Tensorflow): \n",
            " [[0.58275586 0.3564469  0.9363217 ]\n",
            " [0.941601   0.29220355 0.7902023 ]\n",
            " [0.6787915  0.5817162  0.39256167]\n",
            " [0.12157147 0.45740062 0.5984683 ]]\n",
            "Y(with matrix multiplication: \n",
            " [[0.5827559  0.3564469  0.9363217 ]\n",
            " [0.941601   0.29220355 0.7902024 ]\n",
            " [0.6787915  0.5817161  0.39256167]\n",
            " [0.12157147 0.4574006  0.59846836]]\n",
            "Y(with dot producs): \n",
            " [[0.58275592 0.35644683 0.93632167]\n",
            " [0.94160098 0.2922035  0.79020233]\n",
            " [0.67879154 0.58171617 0.39256164]\n",
            " [0.12157145 0.45740062 0.59846832]]\n"
          ]
        }
      ],
      "source": [
        "import numpy as np\n",
        "import tensorflow as tf\n",
        "from tensorflow.math import exp\n",
        "from tensorflow.linalg import matmul\n",
        "from tensorflow.keras.layers import Dense\n",
        "\n",
        "# X = ((->x^(1))^T (->x^(2))^T ... (->x^(N))^T) 의 input 생성\n",
        "N, n_feature = 4, 10\n",
        "X = tf.random.normal(shape=(N, n_feature))\n",
        "\n",
        "n_neuron = 3\n",
        "dense = Dense(units=n_neuron, activation='sigmoid')\n",
        "\n",
        "# X 통과, 이 dense layer는 3개의 뉴런을 가짐\n",
        "# 하나의 neuron은 weight vector(10), bias(3)을 가지며\n",
        "# 최종적으로 W = 10 x 3, bias = vector(3)을 가짐\n",
        "Y_tf = dense(X)\n",
        "\n",
        "# 실제 이론처럼 생성되었는지 검증\n",
        "W, B = dense.get_weights()\n",
        "print('===== Input/Weight/Bias =====')\n",
        "print(f\"X: {X.shape}\")\n",
        "print(f\"W: {W.shape}\")\n",
        "print(f\"B: {B.shape}\")\n",
        "\n",
        "# output vector = 1 x 3\n",
        "print(f\"Y: {Y_tf.shape}\")\n",
        "# 하나의 컬럼당, 하나의 neuron의 weight을 의미 \n",
        "print(W)\n",
        "\n",
        "print(f\"Y(Tensorflow): \\n {Y_tf.numpy()}\")\n",
        "\n",
        "# calculate with matrix multiplication\n",
        "Z = matmul(X, W) + B\n",
        "Y_man_matmul = 1/(1 + exp(-Z))\n",
        "print(f\"Y(with matrix multiplication: \\n {Y_man_matmul.numpy()}\")\n",
        "\n",
        "# calculate with dot products\n",
        "Y_man_vec = np.zeros(shape=(N, n_neuron)) # 4 x 3\n",
        "for x_idx in range(N):\n",
        "  x= X[x_idx]\n",
        "\n",
        "  for nu_idx in range(n_neuron):\n",
        "    w, b = W[:, nu_idx], B[nu_idx]\n",
        "    z = tf.reduce_sum(x * w) + b\n",
        "    a = 1/(1 + np.exp(-z))\n",
        "    Y_man_vec[x_idx,nu_idx] = a\n",
        "\n",
        "print(f\"Y(with dot producs): \\n {Y_man_vec}\")"
      ]
    }
  ],
  "metadata": {
    "colab": {
      "provenance": []
    },
    "kernelspec": {
      "display_name": "Python 3",
      "language": "python",
      "name": "python3"
    },
    "language_info": {
      "name": "python",
      "version": "3.10.6"
    },
    "vscode": {
      "interpreter": {
        "hash": "b0fa6594d8f4cbf19f97940f81e996739fb7646882a419484c72d19e05852a7e"
      }
    }
  },
  "nbformat": 4,
  "nbformat_minor": 0
}
