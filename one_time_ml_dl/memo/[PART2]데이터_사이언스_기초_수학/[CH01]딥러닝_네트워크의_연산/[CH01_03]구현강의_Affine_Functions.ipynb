{
  "nbformat": 4,
  "nbformat_minor": 0,
  "metadata": {
    "colab": {
      "provenance": []
    },
    "kernelspec": {
      "name": "python3",
      "display_name": "Python 3"
    },
    "language_info": {
      "name": "python"
    }
  },
  "cells": [
    {
      "cell_type": "markdown",
      "source": [
        "### Code.1-1-1: Affine Function"
      ],
      "metadata": {
        "id": "A__cI9iWYYpE"
      }
    },
    {
      "cell_type": "code",
      "execution_count": 8,
      "metadata": {
        "id": "lEOdBtPco5ar",
        "colab": {
          "base_uri": "https://localhost:8080/"
        },
        "outputId": "76252bec-541b-4ed7-8741-01d8d94784e4"
      },
      "outputs": [
        {
          "output_type": "stream",
          "name": "stdout",
          "text": [
            "===== Input/Weight/Bias =====\n",
            "x: (1, 1)\n",
            "[[10.]]\n",
            "\n",
            "W: (1, 1)\n",
            "[[0.96020997]]\n",
            "\n",
            "b: (1,)\n",
            "[0.]\n",
            "\n",
            "===== Outputs =====\n",
            "y(Tensorflow): (1, 1)\n",
            "[[9.602099]]\n",
            "\n",
            "y(Manual): (1, 1)\n",
            "[[9.602099]]\n",
            "\n"
          ]
        }
      ],
      "source": [
        "import tensorflow as tf\n",
        "\n",
        "from tensorflow.keras.layers import Dense\n",
        "\n",
        "# vector가 아닌 matrix 형태로 생성 [[10.]]\n",
        "# x는 input\n",
        "x = tf.constant([[10.]]) # input setting, input은 Matrix 형태로 주어야 함\n",
        "\n",
        "# w, b를 줌\n",
        "# 하나의 dense layer 생성(units=1)\n",
        "# dense = Dense(units=1) # imp. an affine function\n",
        "dense = Dense(units=1, activation='linear') # default: linear\n",
        "\n",
        "# z = x*w + b\n",
        "# dense 연산을 수행하기 전까지, w, b는 초기화되지 x\n",
        "y_tf = dense(x) # y 값을 연산, forward propagation + params initialization\n",
        "\n",
        "W, B = dense.get_weights() # get weight, bias\n",
        "\n",
        "# y_tf가 matfix이기 때문에, matrix multipulication 필요\n",
        "# 행렬 곱셈을 증명하는 과정\n",
        "y_man = tf.linalg.matmul(x, W) + B # forward propagation(manual)\n",
        "\n",
        "# print result\n",
        "print('===== Input/Weight/Bias =====')\n",
        "print(f'x: {x.shape}\\n{x.numpy()}\\n')\n",
        "print(f'W: {W.shape}\\n{W}\\n')\n",
        "print(f'b: {B.shape}\\n{B}\\n')\n",
        "\n",
        "\n",
        "print('===== Outputs =====')\n",
        "print(f'y(Tensorflow): {y_tf.shape}\\n{y_tf.numpy()}\\n')\n",
        "print(f'y(Manual): {y_man.shape}\\n{y_man.numpy()}\\n')"
      ]
    },
    {
      "cell_type": "markdown",
      "source": [
        "### Code.1-1-1: Params Initialization"
      ],
      "metadata": {
        "id": "mW6W4H0GYf8z"
      }
    },
    {
      "cell_type": "code",
      "source": [
        "import tensorflow as tf\n",
        "\n",
        "from tensorflow.keras.layers import Dense\n",
        "from tensorflow.keras.initializers import Constant\n",
        "\n",
        "\n",
        "x = tf.constant([[10.]]) # input setting, input은 Matrix 형태로 주어야 함\n",
        "\n",
        "# weight/bias setting\n",
        "# weight와 bias를 manual하게 생성\n",
        "w, b = tf.constant(10.), tf.constant(20.)\n",
        "# tensor 값이 아닌, tensor를 초기화 하기 위한 객체임(그대로 사용 불가)\n",
        "w_init, b_init = Constant(w), Constant(b)\n",
        "\n",
        "# imp. an affine function\n",
        "dense = Dense(units=1,\n",
        "              activation='linear', \n",
        "              kernel_initializer=w_init,\n",
        "              bias_initializer=b_init\n",
        "              )\n",
        "\n",
        "y_tf = dense(x)\n",
        "print(y_tf) # tensor=120, 10*10 + 20\n",
        "W, B = dense.get_weights()\n",
        "\n",
        "# print results\n",
        "print(f'W: {W.shape}\\n{W}\\n')\n",
        "print(f'b: {B.shape}\\n{B}\\n')\n",
        "print(w_init, b_init)"
      ],
      "metadata": {
        "colab": {
          "base_uri": "https://localhost:8080/"
        },
        "id": "-NNxl2JCYtVf",
        "outputId": "ad88ea5e-ebc9-42c2-c78d-6ea7bcd5d47a"
      },
      "execution_count": 19,
      "outputs": [
        {
          "output_type": "stream",
          "name": "stdout",
          "text": [
            "tf.Tensor([[120.]], shape=(1, 1), dtype=float32)\n",
            "W: (1, 1)\n",
            "[[10.]]\n",
            "\n",
            "b: (1,)\n",
            "[20.]\n",
            "\n",
            "<keras.initializers.initializers_v2.Constant object at 0x7fcfb1178670> <keras.initializers.initializers_v2.Constant object at 0x7fcfaaa9d6d0>\n"
          ]
        }
      ]
    },
    {
      "cell_type": "markdown",
      "source": [
        "## 1.2: Affine Functions with N Features"
      ],
      "metadata": {
        "id": "OAbnVXA2YlSs"
      }
    },
    {
      "cell_type": "markdown",
      "source": [
        "### Code.1-2-1: Affine Functions with n Features"
      ],
      "metadata": {
        "id": "j7HrqKiHYosq"
      }
    },
    {
      "cell_type": "code",
      "source": [
        "import tensorflow as tf\n",
        "\n",
        "from tensorflow.keras.layers import Dense\n",
        "\n",
        "# uniform: 0~10 까지 값을 골고루 추출\n",
        "x=tf.random.uniform(shape=(1, 10), minval=0, maxval=10)\n",
        "print(x.shape, '\\n', x)\n",
        "\n",
        "dense = Dense(units=1)\n",
        "\n",
        "# 해당 시점에 x의 상태를 보고 (10, 1), 1 형태의 W, b 생성\n",
        "# x와 transpose한 형태로 ->w 생성\n",
        "y_tf = dense(x)\n",
        "\n",
        "W, B = dense.get_weights()\n",
        "\n",
        "# 내용 검증을 위한 manual 연산\n",
        "# z = x*W + B\n",
        "y_man = tf.linalg.matmul(x, W) + B\n",
        "\n",
        "# print result\n",
        "print('===== Input/Weight/Bias =====')\n",
        "print(f'x: {x.shape}\\n{x.numpy()}\\n')\n",
        "print(f'W: {W.shape}\\n{W}\\n')\n",
        "print(f'b: {B.shape}\\n{B}\\n')\n",
        "\n",
        "\n",
        "print('===== Outputs =====')\n",
        "print(f'y(Tensorflow): {y_tf.shape}\\n{y_tf.numpy()}\\n')\n",
        "print(f'y(Manual): {y_man.shape}\\n{y_man.numpy()}\\n')"
      ],
      "metadata": {
        "colab": {
          "base_uri": "https://localhost:8080/"
        },
        "id": "7ZsJeMBiYq_m",
        "outputId": "7123fca5-a384-480a-cfe3-e0e43e7b6591"
      },
      "execution_count": 27,
      "outputs": [
        {
          "output_type": "stream",
          "name": "stdout",
          "text": [
            "(1, 10) \n",
            " tf.Tensor(\n",
            "[[1.1354065 9.470696  9.7195635 2.368126  9.49297   9.681764  4.704883\n",
            "  6.1133003 7.919662  7.7857304]], shape=(1, 10), dtype=float32)\n",
            "===== Input/Weight/Bias =====\n",
            "x: (1, 10)\n",
            "[[1.1354065 9.470696  9.7195635 2.368126  9.49297   9.681764  4.704883\n",
            "  6.1133003 7.919662  7.7857304]]\n",
            "\n",
            "W: (10, 1)\n",
            "[[-0.27847493]\n",
            " [ 0.21436703]\n",
            " [-0.21050924]\n",
            " [-0.53775144]\n",
            " [-0.3315008 ]\n",
            " [ 0.07441759]\n",
            " [-0.70547473]\n",
            " [ 0.5499378 ]\n",
            " [ 0.18493801]\n",
            " [ 0.6325504 ]]\n",
            "\n",
            "b: (1,)\n",
            "[0.]\n",
            "\n",
            "===== Outputs =====\n",
            "y(Tensorflow): (1, 1)\n",
            "[[2.4003406]]\n",
            "\n",
            "y(Manual): (1, 1)\n",
            "[[2.4003406]]\n",
            "\n"
          ]
        }
      ]
    },
    {
      "cell_type": "code",
      "source": [],
      "metadata": {
        "id": "1fdlRCgibaLt"
      },
      "execution_count": null,
      "outputs": []
    }
  ]
}