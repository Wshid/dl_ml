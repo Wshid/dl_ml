{
  "nbformat": 4,
  "nbformat_minor": 0,
  "metadata": {
    "colab": {
      "provenance": []
    },
    "kernelspec": {
      "name": "python3",
      "display_name": "Python 3"
    },
    "language_info": {
      "name": "python"
    }
  },
  "cells": [
    {
      "cell_type": "markdown",
      "source": [
        "# 6-1: Max/Avg Pooling"
      ],
      "metadata": {
        "id": "A__cI9iWYYpE"
      }
    },
    {
      "cell_type": "markdown",
      "source": [
        "## Code.6-1-1: Max Pooling"
      ],
      "metadata": {
        "id": "dS-AlguZqj-B"
      }
    },
    {
      "cell_type": "code",
      "execution_count": 7,
      "metadata": {
        "id": "lEOdBtPco5ar",
        "colab": {
          "base_uri": "https://localhost:8080/"
        },
        "outputId": "bdf348a2-ef07-4c59-a499-2b12c2acb65c"
      },
      "outputs": [
        {
          "output_type": "stream",
          "name": "stdout",
          "text": [
            "x: (1, 10, 1)\n",
            "[ 1.5459614   0.8055384  -0.2364404  -0.01395386  0.40516183 -0.9007081\n",
            " -0.65948164  0.76827824 -0.36108506 -0.4274324 ]\n",
            "pooled_max(Tensorflow: (1, 9, 1)\n",
            "[ 1.5459614   0.8055384  -0.01395386  0.40516183  0.40516183 -0.65948164\n",
            "  0.76827824  0.76827824 -0.36108506]\n",
            "pooled_max(Manual): (9,)\n",
            "[ 1.54596138  0.80553842 -0.01395386  0.40516183  0.40516183 -0.65948164\n",
            "  0.76827824  0.76827824 -0.36108506]\n"
          ]
        }
      ],
      "source": [
        "import numpy as np\n",
        "import tensorflow as tf\n",
        "\n",
        "from tensorflow.keras.layers import MaxPooling1D\n",
        "\n",
        "L, f, s = 10, 2, 1\n",
        "\n",
        "x = tf.random.normal(shape=(1,L,1))\n",
        "pool_max = MaxPooling1D(pool_size=f, strides=s)\n",
        "pooled_max = pool_max(x)\n",
        "\n",
        "print(f\"x: {x.shape}\\n{x.numpy().flatten()}\")\n",
        "print(f\"pooled_max(Tensorflow: {pooled_max.shape}\\n{pooled_max.numpy().flatten()}\")\n",
        "# X[0], x[1]에서 큰 값이 pooled_max[0]에 들어감\n",
        "# X[1], X[2]중 큰 값이 pooled_max[1]에 들어감\n",
        "\n",
        "x = x.numpy().flatten()\n",
        "pooled_max_man = np.zeros((L -f + 1, ))\n",
        "for i in range(L-f+1):\n",
        "  window = x[i:i+f]\n",
        "  pooled_max_man[i] = np.max(window)\n",
        "\n",
        "print(f\"pooled_max(Manual): {pooled_max_man.shape}\\n{pooled_max_man}\")"
      ]
    },
    {
      "cell_type": "markdown",
      "source": [
        "## Code.6-1-2: Average Pooling\n",
        "- MaxPooling1D -> AveragePooling1D로 변경"
      ],
      "metadata": {
        "id": "mW6W4H0GYf8z"
      }
    },
    {
      "cell_type": "code",
      "source": [
        "import numpy as np\n",
        "import tensorflow as tf\n",
        "\n",
        "from tensorflow.keras.layers import AveragePooling1D\n",
        "\n",
        "L, f, s = 10, 2, 1\n",
        "\n",
        "x = tf.random.normal(shape=(1,L,1))\n",
        "pool_avg = AveragePooling1D(pool_size=f, strides=s)\n",
        "pooled_avg = pool_avg(x)\n",
        "\n",
        "print(f\"x: {x.shape}\\n{x.numpy().flatten()}\")\n",
        "print(f\"pooled_max(Tensorflow: {pooled_avg.shape}\\n{pooled_avg.numpy().flatten()}\")\n",
        "\n",
        "x = x.numpy().flatten()\n",
        "pooled_avg_man = np.zeros((L -f + 1, ))\n",
        "for i in range(L-f+1):\n",
        "  window = x[i:i+f]\n",
        "  # np.mean을 사용\n",
        "  pooled_avg_man[i] = np.mean(window)\n",
        "\n",
        "print(f\"pooled_avg(Manual): {pooled_avg_man.shape}\\n{pooled_avg_man}\")"
      ],
      "metadata": {
        "colab": {
          "base_uri": "https://localhost:8080/"
        },
        "id": "-NNxl2JCYtVf",
        "outputId": "9f0e4107-2296-45e9-85ea-4067fc629a55"
      },
      "execution_count": 10,
      "outputs": [
        {
          "output_type": "stream",
          "name": "stdout",
          "text": [
            "x: (1, 10, 1)\n",
            "[-0.13637772 -0.46194535 -1.6872281  -1.4459666   0.5508127   0.2935276\n",
            " -0.40580183 -1.0686089  -1.9519523   1.0728288 ]\n",
            "pooled_max(Tensorflow: (1, 9, 1)\n",
            "[-0.29916155 -1.0745867  -1.5665973  -0.44757694  0.42217016 -0.05613711\n",
            " -0.7372054  -1.5102806  -0.43956178]\n",
            "pooled_avg(Manual): (9,)\n",
            "[-0.29916155 -1.07458675 -1.56659734 -0.44757694  0.42217016 -0.05613711\n",
            " -0.73720539 -1.51028061 -0.43956178]\n"
          ]
        }
      ]
    },
    {
      "cell_type": "markdown",
      "source": [
        "# 6-2: 2D Max/Avg Pooling"
      ],
      "metadata": {
        "id": "wvrXMXa1SMi7"
      }
    },
    {
      "cell_type": "markdown",
      "source": [
        "## Code.6-2-1: 2D Max Pooling"
      ],
      "metadata": {
        "id": "UVEMhAnASQUU"
      }
    },
    {
      "cell_type": "code",
      "source": [
        "import numpy as np\n",
        "import tensorflow as tf\n",
        "\n",
        "from tensorflow.keras.layers import MaxPooling2D\n",
        "\n",
        "N, n_H, n_W, n_C = 1, 5, 5, 1\n",
        "f, s = 2, 1\n",
        "\n",
        "x = tf.random.normal(shape=(N, n_H, n_W, n_C))\n",
        "pool_max = MaxPooling2D(pool_size=f, strides=s)\n",
        "pooled_max = pool_max(x)\n",
        "\n",
        "# X의 인접 4개의 원소의 가장 큰 값이 pooled_max의 하나로 귀결\n",
        "print(f\"x: {x.shape}\\n{x.numpy().squeeze()}\")\n",
        "print(f\"pooled_max(Tensorflow: {pooled_max.shape}\\n{pooled_max.numpy().squeeze()}\")\n",
        "\n",
        "x = x.numpy().squeeze()\n",
        "pooled_max_man = np.zeros(shape=(n_H -f + 1, n_W -f + 1))\n",
        "for i in range(n_H -f + 1):\n",
        "  for j in range(n_W - f + 1):\n",
        "    window = x[i:i+f, j:j+f]\n",
        "    pooled_max_man[i, j] = np.max(window)\n",
        "\n",
        "print(f\"pooled_max(Manual): {pooled_max_man.shape}\\n{pooled_max_man}\")"
      ],
      "metadata": {
        "colab": {
          "base_uri": "https://localhost:8080/"
        },
        "id": "owSWhaBB6hFU",
        "outputId": "166f0411-dbb9-453f-8486-351b42b9abd5"
      },
      "execution_count": 16,
      "outputs": [
        {
          "output_type": "stream",
          "name": "stdout",
          "text": [
            "x: (1, 5, 5, 1)\n",
            "[[-0.5607652   0.0617762   0.9109229   1.5853728   1.8214817 ]\n",
            " [-0.5145496   0.16694617 -0.3177714   0.7596231   0.7290873 ]\n",
            " [-0.8604334   1.527618    0.908652   -0.09826467 -0.3260797 ]\n",
            " [-0.30398038  0.89429486  1.3196851  -0.9951535  -0.5313618 ]\n",
            " [ 0.5857642  -1.3249868  -0.16299419 -1.2727414   0.677228  ]]\n",
            "pooled_max(Tensorflow: (1, 4, 4, 1)\n",
            "[[ 0.16694617  0.9109229   1.5853728   1.8214817 ]\n",
            " [ 1.527618    1.527618    0.908652    0.7596231 ]\n",
            " [ 1.527618    1.527618    1.3196851  -0.09826467]\n",
            " [ 0.89429486  1.3196851   1.3196851   0.677228  ]]\n",
            "pooled_max(Manual): (4, 4)\n",
            "[[ 0.16694617  0.91092288  1.58537281  1.8214817 ]\n",
            " [ 1.52761805  1.52761805  0.90865201  0.75962311]\n",
            " [ 1.52761805  1.52761805  1.3196851  -0.09826467]\n",
            " [ 0.89429486  1.3196851   1.3196851   0.67722797]]\n"
          ]
        }
      ]
    },
    {
      "cell_type": "markdown",
      "source": [
        "## Code.6-2-1: 2D Average Pooling"
      ],
      "metadata": {
        "id": "w_zXn3id-dbc"
      }
    },
    {
      "cell_type": "code",
      "source": [
        "import numpy as np\n",
        "import tensorflow as tf\n",
        "\n",
        "from tensorflow.keras.layers import AveragePooling2D\n",
        "\n",
        "N, n_H, n_W, n_C = 1, 5, 5, 1\n",
        "f, s = 2, 1\n",
        "\n",
        "x = tf.random.normal(shape=(N, n_H, n_W, n_C))\n",
        "pool_avg = AveragePooling2D(pool_size=f, strides=s)\n",
        "pooled_avg = pool_max(x)\n",
        "\n",
        "# X의 인접 4개의 원소의 가장 큰 값이 pooled_max의 하나로 귀결\n",
        "print(f\"x: {x.shape}\\n{x.numpy().squeeze()}\")\n",
        "print(f\"pooled_avg(Tensorflow: {pooled_avg.shape}\\n{pooled_avg.numpy().squeeze()}\")\n",
        "\n",
        "x = x.numpy().squeeze()\n",
        "pooled_avg_man = np.zeros(shape=(n_H -f + 1, n_W -f + 1))\n",
        "for i in range(n_H -f + 1):\n",
        "  for j in range(n_W - f + 1):\n",
        "    window = x[i:i+f, j:j+f]\n",
        "    pooled_avg_man[i, j] = np.max(window)\n",
        "\n",
        "print(f\"pooled_avg(Manual): {pooled_avg_man.shape}\\n{pooled_avg_man}\")"
      ],
      "metadata": {
        "colab": {
          "base_uri": "https://localhost:8080/"
        },
        "id": "7ZsJeMBiYq_m",
        "outputId": "88966e83-076c-409c-ff8c-310e8ac4cdb3"
      },
      "execution_count": 19,
      "outputs": [
        {
          "output_type": "stream",
          "name": "stdout",
          "text": [
            "x: (1, 5, 5, 1)\n",
            "[[-0.37739685  0.12936793 -0.07290127 -0.430454   -0.8371021 ]\n",
            " [-1.2261372   0.6314146   0.26232037  0.8495148   0.27755046]\n",
            " [ 0.42827898  0.46426526 -0.17955576 -0.60707486 -0.48140225]\n",
            " [ 0.00477986  1.0105821   0.2827803  -0.90951693 -0.9202095 ]\n",
            " [-1.2784076   0.22387998 -0.08198547  0.18604328  0.10331965]]\n",
            "pooled_avg(Tensorflow: (1, 4, 4, 1)\n",
            "[[ 0.6314146   0.6314146   0.8495148   0.8495148 ]\n",
            " [ 0.6314146   0.6314146   0.8495148   0.8495148 ]\n",
            " [ 1.0105821   1.0105821   0.2827803  -0.48140225]\n",
            " [ 1.0105821   1.0105821   0.2827803   0.18604328]]\n",
            "pooled_avg(Manual): (4, 4)\n",
            "[[ 0.63141459  0.63141459  0.84951478  0.84951478]\n",
            " [ 0.63141459  0.63141459  0.84951478  0.84951478]\n",
            " [ 1.01058209  1.01058209  0.28278029 -0.48140225]\n",
            " [ 1.01058209  1.01058209  0.28278029  0.18604328]]\n"
          ]
        }
      ]
    },
    {
      "cell_type": "code",
      "source": [],
      "metadata": {
        "id": "w-usBthpTsvF"
      },
      "execution_count": null,
      "outputs": []
    }
  ]
}