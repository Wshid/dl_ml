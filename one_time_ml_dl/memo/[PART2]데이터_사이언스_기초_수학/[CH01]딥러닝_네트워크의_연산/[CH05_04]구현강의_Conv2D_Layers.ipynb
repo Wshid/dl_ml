{
  "nbformat": 4,
  "nbformat_minor": 0,
  "metadata": {
    "colab": {
      "provenance": []
    },
    "kernelspec": {
      "name": "python3",
      "display_name": "Python 3"
    },
    "language_info": {
      "name": "python"
    }
  },
  "cells": [
    {
      "cell_type": "markdown",
      "source": [
        "# 5-1: Conv Layers"
      ],
      "metadata": {
        "id": "A__cI9iWYYpE"
      }
    },
    {
      "cell_type": "markdown",
      "source": [
        "## Code.5-1-1: Shapes of Conv Layers"
      ],
      "metadata": {
        "id": "dS-AlguZqj-B"
      }
    },
    {
      "cell_type": "code",
      "execution_count": 7,
      "metadata": {
        "id": "lEOdBtPco5ar",
        "colab": {
          "base_uri": "https://localhost:8080/"
        },
        "outputId": "52268f48-6541-4f40-e2ca-cbcd03e5ae3d"
      },
      "outputs": [
        {
          "output_type": "stream",
          "name": "stdout",
          "text": [
            "(1, 28, 28, 5)\n",
            "(3, 3, 5, 1)\n",
            "(1,)\n",
            "(1, 26, 26, 1)\n"
          ]
        }
      ],
      "source": [
        "import tensorflow as tf\n",
        "\n",
        "from tensorflow.keras.layers import Conv2D\n",
        "\n",
        "# 4차원이 사용됨\n",
        "# 갯수, 높이, 너비, 색\n",
        "N, n_H, n_W, n_C = 1, 28, 28, 5\n",
        "n_filter = 1\n",
        "f_size = 3 # filter size\n",
        "\n",
        "images = tf.random.uniform(minval=0, maxval=1,\n",
        "                           shape=((N, n_H, n_W, n_C)))\n",
        "\n",
        "conv = Conv2D(filters=n_filter, kernel_size=f_size)\n",
        "y = conv(images)\n",
        "\n",
        "W, B = conv.get_weights()\n",
        "\n",
        "print(images.shape)\n",
        "print(W.shape) # kernel size (3x3x5)\n",
        "print(B.shape)\n",
        "print(y.shape) # 결과로 하나의 이미지 생성 26x26"
      ]
    },
    {
      "cell_type": "markdown",
      "source": [
        "## Code.5-1-2: Correlation Calculation"
      ],
      "metadata": {
        "id": "mW6W4H0GYf8z"
      }
    },
    {
      "cell_type": "code",
      "source": [
        "import tensorflow as tf\n",
        "import numpy as np\n",
        "from tensorflow.keras.layers import Conv2D\n",
        "\n",
        "# 4차원이 사용됨\n",
        "# 갯수, 높이, 너비, 색\n",
        "N, n_H, n_W, n_C = 1, 5, 5, 1\n",
        "n_filter = 1\n",
        "k_size = 3 # filter size\n",
        "\n",
        "images = tf.random.uniform(minval=0, maxval=1,\n",
        "                           shape=((N, n_H, n_W, n_C)))\n",
        "\n",
        "conv = Conv2D(filters=n_filter, kernel_size=f_size)\n",
        "y = conv(images)\n",
        "# numpy().squeeze() -> 1을 제거\n",
        "## e.g. (1, 26, 26, 1) -> (26, 26)\n",
        "print(f\"Y(Tensorflow): {y.numpy().squeeze()}\")\n",
        "\n",
        "W, B = conv.get_weights()\n",
        "\n",
        "images = images.numpy().squeeze()\n",
        "W = W.squeeze()\n",
        "# print(images.shape)\n",
        "# print(W.shape)\n",
        "# print(B.shape)\n",
        "y_man = np.zeros(shape=(n_H - k_size + 1, n_W - k_size + 1))\n",
        "for i in range(n_H - k_size +1):\n",
        "  for j in range(n_W - k_size + 1):\n",
        "    window = images[i:i+k_size,j:j+k_size]\n",
        "    y_man[i,j] = np.sum(window*W) + B\n",
        "\n",
        "print(f\"Y(Manual): {y_man}\")"
      ],
      "metadata": {
        "colab": {
          "base_uri": "https://localhost:8080/"
        },
        "id": "-NNxl2JCYtVf",
        "outputId": "90cf7b5b-ac90-4bf0-89a1-e08c36041c47"
      },
      "execution_count": 23,
      "outputs": [
        {
          "output_type": "stream",
          "name": "stdout",
          "text": [
            "Y(Tensorflow): [[-0.33534825  0.2108254  -0.29154325]\n",
            " [ 0.03141999 -0.35618237 -0.0872623 ]\n",
            " [ 0.46976927 -0.10988952 -0.15373021]]\n",
            "Y(Manual): [[-0.33534828  0.2108254  -0.29154328]\n",
            " [ 0.03141999 -0.3561824  -0.08726229]\n",
            " [ 0.46976927 -0.10988951 -0.15373024]]\n"
          ]
        }
      ]
    },
    {
      "cell_type": "markdown",
      "source": [
        "## Code.5-1-3. Correlation with n-channel"
      ],
      "metadata": {
        "id": "OAbnVXA2YlSs"
      }
    },
    {
      "cell_type": "code",
      "source": [
        "import tensorflow as tf\n",
        "import numpy as np\n",
        "from tensorflow.keras.layers import Conv2D\n",
        "\n",
        "# 4차원이 사용됨\n",
        "# 갯수, 높이, 너비, 색\n",
        "N, n_H, n_W, n_C = 1, 5, 5, 3\n",
        "n_filter = 1\n",
        "k_size = 3 # filter size\n",
        "\n",
        "images = tf.random.uniform(minval=0, maxval=1,\n",
        "                           shape=((N, n_H, n_W, n_C)))\n",
        "\n",
        "conv = Conv2D(filters=n_filter, kernel_size=f_size)\n",
        "y = conv(images)\n",
        "# numpy().squeeze() -> 1을 제거\n",
        "## e.g. (1, 26, 26, 1) -> (26, 26)\n",
        "print(f\"Y(Tensorflow): {y.numpy().squeeze()}\")\n",
        "\n",
        "W, B = conv.get_weights()\n",
        "\n",
        "images = images.numpy().squeeze()\n",
        "W = W.squeeze()\n",
        "# print(images.shape)\n",
        "y_man = np.zeros(shape=(n_H - k_size + 1, n_W - k_size + 1))\n",
        "for i in range(n_H - k_size +1):\n",
        "  for j in range(n_W - k_size + 1):\n",
        "    window = images[i:i+k_size,j:j+k_size, :]\n",
        "    y_man[i,j] = np.sum(window*W) + B\n",
        "\n",
        "print(f\"Y(Manual): {y_man}\")"
      ],
      "metadata": {
        "colab": {
          "base_uri": "https://localhost:8080/"
        },
        "id": "7ZsJeMBiYq_m",
        "outputId": "a5997b07-ec31-4481-fda8-13da374d05da"
      },
      "execution_count": 24,
      "outputs": [
        {
          "output_type": "stream",
          "name": "stdout",
          "text": [
            "Y(Tensorflow): [[0.63634044 0.7204193  0.6446288 ]\n",
            " [0.4445445  0.6329689  0.33772513]\n",
            " [0.31513533 0.7005405  0.4827827 ]]\n",
            "Y(Manual): [[0.63634044 0.72041941 0.64462876]\n",
            " [0.44454455 0.63296902 0.33772519]\n",
            " [0.31513539 0.70054048 0.48278266]]\n"
          ]
        }
      ]
    }
  ]
}