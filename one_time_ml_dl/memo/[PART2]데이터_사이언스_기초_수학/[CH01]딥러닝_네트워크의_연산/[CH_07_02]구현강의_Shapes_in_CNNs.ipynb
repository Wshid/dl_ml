{
  "nbformat": 4,
  "nbformat_minor": 0,
  "metadata": {
    "colab": {
      "provenance": []
    },
    "kernelspec": {
      "name": "python3",
      "display_name": "Python 3"
    },
    "language_info": {
      "name": "python"
    }
  },
  "cells": [
    {
      "cell_type": "markdown",
      "source": [
        "# 7-1: Shapes in CNNs\n",
        "- 아래 paragraph는 순차 실행 필요(conv, dense, loss)"
      ],
      "metadata": {
        "id": "A__cI9iWYYpE"
      }
    },
    {
      "cell_type": "markdown",
      "source": [
        "## Code.7-1-1: Shapes in the Feature Extractors"
      ],
      "metadata": {
        "id": "dS-AlguZqj-B"
      }
    },
    {
      "cell_type": "code",
      "execution_count": 13,
      "metadata": {
        "id": "lEOdBtPco5ar",
        "colab": {
          "base_uri": "https://localhost:8080/"
        },
        "outputId": "1e2ae7c0-fcdc-4718-fdea-857c50ea23d7"
      },
      "outputs": [
        {
          "output_type": "stream",
          "name": "stdout",
          "text": [
            "Input: (32, 28, 28, 3)\n",
            "\n",
            "W/B: (3, 3, 3, 5)/(5,)\n",
            "After conv1: (32, 28, 28, 5)\n",
            "After conv1_pool: (32, 14, 14, 5)\n",
            "W/B: (3, 3, 5, 5)/(5,)\n",
            "After conv2: (32, 14, 14, 5)\n",
            "After conv2_pool: (32, 7, 7, 5)\n",
            "After flatten: (32, 245)\n"
          ]
        }
      ],
      "source": [
        "import tensorflow as tf\n",
        "\n",
        "from tensorflow.keras.layers import Conv2D, MaxPooling2D, Flatten\n",
        "\n",
        "N, n_H, n_W, n_c = 32, 28, 28, 3\n",
        "n_conv_filter = 5\n",
        "k_size = 3\n",
        "pool_size, pool_strides = 2, 2\n",
        "batch_size = 32\n",
        "\n",
        "x = tf.random.normal(shape=(N, n_H, n_W, n_c))\n",
        "\n",
        "conv1 = Conv2D(filters= n_conv_filter, kernel_size=k_size,\n",
        "              padding='same', activation='relu')\n",
        "conv1_pool = MaxPooling2D(pool_size=pool_size, strides=pool_strides)\n",
        "\n",
        "conv2 = Conv2D(filters= n_conv_filter, kernel_size=k_size,\n",
        "              padding='same', activation='relu')\n",
        "conv2_pool = MaxPooling2D(pool_size=pool_size, strides=pool_strides)\n",
        "\n",
        "flatten = Flatten()\n",
        "print(f\"Input: {x.shape}\\n\")\n",
        "\n",
        "x = conv1(x)\n",
        "W, B = conv1.get_weights()\n",
        "print(f\"W/B: {W.shape}/{B.shape}\")\n",
        "# neuron의 갯수에 따라 3 -> 5로 변경\n",
        "print(f\"After conv1: {x.shape}\")\n",
        "x = conv1_pool(x)\n",
        "# max pooling에 따라 사이즈 28 -> 14로 변경\n",
        "print(f\"After conv1_pool: {x.shape}\")\n",
        "\n",
        "x = conv2(x)\n",
        "W, B = conv2.get_weights()\n",
        "print(f\"W/B: {W.shape}/{B.shape}\")\n",
        "print(f\"After conv2: {x.shape}\")\n",
        "x = conv2_pool(x)\n",
        "print(f\"After conv2_pool: {x.shape}\")\n",
        "\n",
        "x = flatten(x)\n",
        "# flatten layer를 지나면서 (7, 7, 5)가 모두 곱해진 245가 도출\n",
        "print(f\"After flatten: {x.shape}\")"
      ]
    },
    {
      "cell_type": "markdown",
      "source": [
        "## Code.7-1-2: Shapes in the Clasifier"
      ],
      "metadata": {
        "id": "yj9uvNfpcvMr"
      }
    },
    {
      "cell_type": "code",
      "source": [
        "from tensorflow.keras.layers import Dense\n",
        "\n",
        "n_neurons = [50, 25, 10]\n",
        "\n",
        "dense1 = Dense(units=n_neurons[0], activation='relu')\n",
        "dense2 = Dense(units=n_neurons[1], activation='relu')\n",
        "# 마지막 dense layer의 activation은 softmax로 변경 필요\n",
        "dense3 = Dense(units=n_neurons[2], activation='softmax')\n",
        "\n",
        "# 245 -> 50 -> 25 -> 10과 같이 사이즈가 변경됨\n",
        "print(f\"Input Feature: {x.shape}\\n\")\n",
        "x = dense1(x)\n",
        "W, B = dense1.get_weights()\n",
        "print(f\"W/B: {W.shape}/{B.shape}\")\n",
        "print(f\"After dense1: {x.shape}\\n\")\n",
        "\n",
        "x = dense2(x)\n",
        "W, B = dense2.get_weights()\n",
        "print(f\"W/B: {W.shape}/{B.shape}\")\n",
        "print(f\"After dense2: {x.shape}\\n\")\n",
        "x = dense3(x)\n",
        "\n",
        "W, B = dense3.get_weights()\n",
        "print(f\"W/B: {W.shape}/{B.shape}\")\n",
        "print(f\"After dense3: {x.shape}\\n\")"
      ],
      "metadata": {
        "colab": {
          "base_uri": "https://localhost:8080/"
        },
        "id": "-NNxl2JCYtVf",
        "outputId": "b217c0dc-6843-4194-fcdc-92eeff56c7bd"
      },
      "execution_count": 14,
      "outputs": [
        {
          "output_type": "stream",
          "name": "stdout",
          "text": [
            "Input Feature: (32, 245)\n",
            "\n",
            "W/B: (245, 50)/(50,)\n",
            "After dense1: (32, 50)\n",
            "\n",
            "W/B: (50, 25)/(25,)\n",
            "After dense2: (32, 25)\n",
            "\n",
            "W/B: (25, 10)/(10,)\n",
            "After dense3: (32, 10)\n",
            "\n"
          ]
        }
      ]
    },
    {
      "cell_type": "markdown",
      "source": [
        "## Code.7-1-3: Shapes in the Loss Functions"
      ],
      "metadata": {
        "id": "xKYQwObRdgoa"
      }
    },
    {
      "cell_type": "code",
      "source": [
        "from tensorflow.keras.losses import CategoricalCrossentropy\n",
        "\n",
        "y = tf.random.uniform(minval=0, maxval=10,\n",
        "                      shape=(32,),\n",
        "                      dtype=tf.int32)\n",
        "\n",
        "y = tf.one_hot(y, depth=10)\n",
        "loss_object = CategoricalCrossentropy()\n",
        "loss = loss_object(y, x)\n",
        "print(loss.shape)\n",
        "print(loss)"
      ],
      "metadata": {
        "colab": {
          "base_uri": "https://localhost:8080/"
        },
        "id": "owSWhaBB6hFU",
        "outputId": "6f31eee0-3ad8-4e3d-f6c9-e433d214384e"
      },
      "execution_count": 20,
      "outputs": [
        {
          "output_type": "stream",
          "name": "stdout",
          "text": [
            "()\n",
            "tf.Tensor(2.5008223, shape=(), dtype=float32)\n"
          ]
        }
      ]
    }
  ]
}