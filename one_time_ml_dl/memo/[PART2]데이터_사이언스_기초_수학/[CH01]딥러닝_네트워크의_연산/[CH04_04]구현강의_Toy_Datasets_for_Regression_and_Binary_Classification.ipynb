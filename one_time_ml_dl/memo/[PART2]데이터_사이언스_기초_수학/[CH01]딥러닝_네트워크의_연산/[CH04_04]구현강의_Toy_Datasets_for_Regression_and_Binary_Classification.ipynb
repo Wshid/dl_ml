{
  "nbformat": 4,
  "nbformat_minor": 0,
  "metadata": {
    "colab": {
      "provenance": []
    },
    "kernelspec": {
      "name": "python3",
      "display_name": "Python 3"
    },
    "language_info": {
      "name": "python"
    }
  },
  "cells": [
    {
      "cell_type": "markdown",
      "source": [
        "# 4-1: Datasets\n",
        "- 원하는 데이터셋을 만드는 방법을 중심으로 작업\n",
        "- Dataset을 쪼개서 사용 -> Minibatch"
      ],
      "metadata": {
        "id": "A__cI9iWYYpE"
      }
    },
    {
      "cell_type": "markdown",
      "source": [
        "## Code.4-1-1: Dataset for Regression"
      ],
      "metadata": {
        "id": "wnvzcl8Bhhgc"
      }
    },
    {
      "cell_type": "code",
      "execution_count": null,
      "metadata": {
        "id": "lEOdBtPco5ar",
        "colab": {
          "base_uri": "https://localhost:8080/"
        },
        "outputId": "fb15907b-70ba-4d2e-80e5-ca19bb150c27"
      },
      "outputs": [
        {
          "output_type": "stream",
          "name": "stdout",
          "text": [
            "tf.Tensor([1. 2. 3. 4. 5.], shape=(5,), dtype=float32)\n",
            "tf.Tensor([10.], shape=(1,), dtype=float32)\n",
            "(8, 5) (5,) (1,)\n",
            "X(shape/dtype/data): (8, 5) / <dtype: 'float32'> \n",
            " <bound method _EagerTensorBase.numpy of <tf.Tensor: shape=(8, 5), dtype=float32, numpy=\n",
            "array([[ 0.38013113,  0.02481292, -1.2147615 ,  0.08325492, -0.06607852],\n",
            "       [-0.6023226 , -0.12577854,  0.44385794,  0.09283901,  0.61280924],\n",
            "       [ 1.622178  ,  1.0945451 , -0.5179834 ,  0.32299107,  0.04143976],\n",
            "       [-0.20255233, -0.07608757, -0.12386128,  2.5107954 ,  0.83958566],\n",
            "       [-0.17557956, -2.0125186 , -0.3844421 , -0.8078473 , -1.6375234 ],\n",
            "       [ 0.00691745,  0.12919182,  1.2423631 , -0.54613954, -0.06957775],\n",
            "       [-1.2073375 ,  0.51631683, -1.2019142 , -1.2838805 , -1.9230932 ],\n",
            "       [ 1.0377922 ,  0.85911614,  0.08332924, -0.0306763 , -0.73843324]],\n",
            "      dtype=float32)>>\n",
            "Y(shape/dtype/data): (8,) / <dtype: 'float32'> \n",
            " <bound method _EagerTensorBase.numpy of <tf.Tensor: shape=(8,), dtype=float32, numpy=\n",
            "array([ 6.7880993, 13.913096 , 13.756481 , 23.514797 , -6.772949 ,\n",
            "       11.459944 , -8.531433 ,  9.19114  ], dtype=float32)>>\n"
          ]
        }
      ],
      "source": [
        "import tensorflow as tf\n",
        "\n",
        "N, n_feature = 8, 5\n",
        "t_weights = tf.constant([1, 2, 3, 4, 5], dtype=tf.float32)\n",
        "t_bias = tf.constant([10], dtype=tf.float32)\n",
        "\n",
        "print(t_weights)\n",
        "print(t_bias)\n",
        "\n",
        "# 8x5\n",
        "X = tf.random.normal(mean=0, stddev=1, shape=(N, n_feature))\n",
        "print(X.shape, t_weights.shape, t_bias.shape)\n",
        "\n",
        "# Y = t_weights * X + t_bias\n",
        "# print(f\"{X.shape}\\n{X}\")\n",
        "# print(f\"{Y.shape}\\n{Y}\")\n",
        "\n",
        "# axis=1을 기준으로 합계 구하기(X축 기준)\n",
        "Y = tf.reduce_sum(t_weights*X, axis=1) + t_bias\n",
        "# print(X.shape, Y.shape)\n",
        "print(f\"X(shape/dtype/data): {X.shape} / {X.dtype} \\n {X.numpy}\")\n",
        "print(f\"Y(shape/dtype/data): {Y.shape} / {Y.dtype} \\n {Y.numpy}\")\n",
        "\n",
        "# linear regression 식\n",
        "# y = 1*x1 + 2*x2 + ... 5*x5 + 10\n",
        "# \\hat{y} = w1x1 + w2x2 + ... + w5x5 + b\n",
        "# 위 아래가 유사할 수록 학습이 잘 되는 것"
      ]
    },
    {
      "cell_type": "markdown",
      "source": [
        "## Code.4-1-2: Dataset for Binary Classification"
      ],
      "metadata": {
        "id": "mW6W4H0GYf8z"
      }
    },
    {
      "cell_type": "code",
      "source": [
        "import tensorflow as tf\n",
        "\n",
        "N, n_feature = 8, 5\n",
        "t_weights = tf.constant([1, 2, 3, 4, 5], dtype=tf.float32)\n",
        "t_bias = tf.constant([10], dtype=tf.float32)\n",
        "\n",
        "print(t_weights)\n",
        "print(t_bias)\n",
        "\n",
        "# 8x5\n",
        "X = tf.random.normal(mean=0, stddev=1, shape=(N, n_feature))\n",
        "Y = tf.reduce_sum(t_weights*X, axis=1) + t_bias\n",
        "print(Y)\n",
        "# 5보다 클경우, 아닐 경우에 따라 True, False -> bool 변경\n",
        "Y = Y > 5\n",
        "print(Y)\n",
        "Y = tf.cast(Y, tf.int32)\n",
        "print(Y)\n",
        "\n",
        "print(f\"X(shape/dtype/data): {X.shape} / {X.dtype} \\n {X.numpy}\")\n",
        "print(f\"Y(shape/dtype/data): {Y.shape} / {Y.dtype} \\n {Y.numpy}\")\n"
      ],
      "metadata": {
        "colab": {
          "base_uri": "https://localhost:8080/"
        },
        "id": "-NNxl2JCYtVf",
        "outputId": "eeeba3f4-96d7-4aeb-fd5c-634838112825"
      },
      "execution_count": null,
      "outputs": [
        {
          "output_type": "stream",
          "name": "stdout",
          "text": [
            "tf.Tensor([1. 2. 3. 4. 5.], shape=(5,), dtype=float32)\n",
            "tf.Tensor([10.], shape=(1,), dtype=float32)\n",
            "tf.Tensor(\n",
            "[13.921053    7.8079963  -4.326666   16.776485   -0.66728973  4.8418226\n",
            "  4.6454306   7.821409  ], shape=(8,), dtype=float32)\n",
            "tf.Tensor([ True  True False  True False False False  True], shape=(8,), dtype=bool)\n",
            "tf.Tensor([1 1 0 1 0 0 0 1], shape=(8,), dtype=int32)\n",
            "X(shape/dtype/data): (8, 5) / <dtype: 'float32'> \n",
            " <bound method _EagerTensorBase.numpy of <tf.Tensor: shape=(8, 5), dtype=float32, numpy=\n",
            "array([[ 1.6628288 ,  0.18992615, -0.59344774, -0.15649576,  0.85693973],\n",
            "       [-0.8558225 ,  0.10739316,  0.60196954,  0.28160006, -0.8966553 ],\n",
            "       [ 0.48276547, -0.31818023, -0.7626572 , -1.5525278 , -1.1349976 ],\n",
            "       [-0.9008737 ,  1.3472229 ,  1.2136518 , -1.0241427 ,  1.0877059 ],\n",
            "       [-1.490965  , -1.8689486 , -1.4615862 ,  0.8635986 , -0.90161276],\n",
            "       [ 1.8893863 ,  0.73389894, -0.9030624 , -0.1937437 , -1.0062399 ],\n",
            "       [ 0.4924372 ,  0.06823647, -1.8218291 , -0.8228628 ,  0.55469185],\n",
            "       [ 1.473474  , -1.7357115 , -0.94135386,  0.48790547,  0.13835953]],\n",
            "      dtype=float32)>>\n",
            "Y(shape/dtype/data): (8,) / <dtype: 'int32'> \n",
            " <bound method _EagerTensorBase.numpy of <tf.Tensor: shape=(8,), dtype=int32, numpy=array([1, 1, 0, 1, 0, 0, 0, 1], dtype=int32)>>\n"
          ]
        }
      ]
    }
  ]
}