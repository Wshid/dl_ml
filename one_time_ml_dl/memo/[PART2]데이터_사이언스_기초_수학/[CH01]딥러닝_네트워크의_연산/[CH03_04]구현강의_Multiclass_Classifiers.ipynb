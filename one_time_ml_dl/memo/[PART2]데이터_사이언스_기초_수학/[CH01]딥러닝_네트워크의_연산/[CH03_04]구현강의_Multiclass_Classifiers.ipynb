{
  "nbformat": 4,
  "nbformat_minor": 0,
  "metadata": {
    "colab": {
      "provenance": []
    },
    "kernelspec": {
      "name": "python3",
      "display_name": "Python 3"
    },
    "language_info": {
      "name": "python"
    }
  },
  "cells": [
    {
      "cell_type": "markdown",
      "source": [
        "# 3-4: Softmax Layers"
      ],
      "metadata": {
        "id": "A__cI9iWYYpE"
      }
    },
    {
      "cell_type": "markdown",
      "source": [
        "## Code.3-4-1: IO of Softmax"
      ],
      "metadata": {
        "id": "6qKgS8hacoL2"
      }
    },
    {
      "cell_type": "code",
      "execution_count": 8,
      "metadata": {
        "id": "lEOdBtPco5ar",
        "colab": {
          "base_uri": "https://localhost:8080/"
        },
        "outputId": "18d9e569-3a8b-44c1-96cc-583964830dc3"
      },
      "outputs": [
        {
          "output_type": "stream",
          "name": "stdout",
          "text": [
            "Logits: [[ 6.314373    4.7562027   4.999547    8.19455     9.9824295 ]\n",
            " [-5.6707525   3.2387085   0.83780766 -0.16671658 -5.6197786 ]]\n",
            "\n",
            "Probabilities: [[2.1182222e-02 4.4593005e-03 5.6878724e-03 1.3884231e-01 8.2982826e-01]\n",
            " [1.2018849e-04 8.8959557e-01 8.0629624e-02 2.9528087e-02 1.2647379e-04]]\n",
            "\n",
            "Sum of softmax values: [1.         0.99999994]\n",
            "\n"
          ]
        }
      ],
      "source": [
        "import tensorflow as tf\n",
        "from tensorflow.keras.layers import Activation\n",
        "\n",
        "# random한 값 생성\n",
        "# data sample이 2x5\n",
        "logit = tf.random.uniform(shape=(2, 5), minval=-10, maxval=10)\n",
        "\n",
        "softmax_value = Activation('softmax')(logit)\n",
        "# axis=0 y축 방향, axis=1 x축 방향\n",
        "# x축 방향으로 합 구하기(probability vector)\n",
        "softmax_sum = tf.reduce_sum(softmax_value, axis=1)\n",
        "\n",
        "print(f\"Logits: {logit.numpy()}\\n\")\n",
        "print(f\"Probabilities: {softmax_value.numpy()}\\n\")\n",
        "print(f\"Sum of softmax values: {softmax_sum}\\n\")"
      ]
    },
    {
      "cell_type": "markdown",
      "source": [
        "## Code.3-4-2: Softmax in Dense Layers"
      ],
      "metadata": {
        "id": "mW6W4H0GYf8z"
      }
    },
    {
      "cell_type": "code",
      "source": [
        "import tensorflow as tf\n",
        "from tensorflow.keras.layers import Dense\n",
        "\n",
        "# 총 8개의 input vector\n",
        "logit = tf.random.uniform(shape=(8, 5), minval=-10, maxval=10)\n",
        "dense = Dense(units=8, activation='softmax')\n",
        "\n",
        "Y = dense(logit)\n",
        "# softmax한 결과는 8개의 값을 가짐(모두 합은 1)\n",
        "print(tf.reduce_sum(Y, axis=1))"
      ],
      "metadata": {
        "colab": {
          "base_uri": "https://localhost:8080/"
        },
        "id": "-NNxl2JCYtVf",
        "outputId": "38511e5c-2208-4d0e-d13b-f1d4299e2252"
      },
      "execution_count": 12,
      "outputs": [
        {
          "output_type": "stream",
          "name": "stdout",
          "text": [
            "tf.Tensor(\n",
            "[1.0000001  0.99999994 0.99999994 0.99999994 0.99999994 0.99999994\n",
            " 0.9999998  0.99999994], shape=(8,), dtype=float32)\n"
          ]
        }
      ]
    },
    {
      "cell_type": "markdown",
      "source": [
        "# 3-5: Multi-class Classifiers"
      ],
      "metadata": {
        "id": "OAbnVXA2YlSs"
      }
    },
    {
      "cell_type": "markdown",
      "source": [
        "## Code.3-5-1. Multi-class Classifiers"
      ],
      "metadata": {
        "id": "j7HrqKiHYosq"
      }
    },
    {
      "cell_type": "code",
      "source": [
        "from os import X_OK\n",
        "import tensorflow as tf\n",
        "\n",
        "from tensorflow.keras.models import Model\n",
        "from tensorflow.keras.layers import Dense\n",
        "\n",
        "class TestModel(Model):\n",
        "  def __init__(self):\n",
        "      super(TestModel, self).__init__()\n",
        "\n",
        "      self.dense1 = Dense(units=8, activation='relu')\n",
        "      self.dense2 = Dense(units=5, activation='relu')\n",
        "      self.dense3 = Dense(units=3, activation='softmax')\n",
        "  \n",
        "  def call(self, x):\n",
        "    print(f\"X: {x.shape}\\n{x.numpy()}\\n\")\n",
        "\n",
        "    x = self.dense1(x)\n",
        "    print(f\"A1: {x.shape}\\n{x.numpy()}\\n\")\n",
        "\n",
        "    x = self.dense2(x)\n",
        "    print(f\"A2: {x.shape}\\n{x.numpy()}\\n\")\n",
        "\n",
        "    x = self.dense3(x)\n",
        "    print(f\"Y: {x.shape}\\n{x.numpy()}\\n\")\n",
        "    print(f\"Sum of Vectors: {tf.reduce_sum(x, axis=1)}\")\n",
        "    return x\n",
        "\n",
        "model = TestModel()\n",
        "\n",
        "X = tf.random.uniform(shape=(8,5), minval=-10, maxval=10)\n",
        "Y = model(X)"
      ],
      "metadata": {
        "colab": {
          "base_uri": "https://localhost:8080/"
        },
        "id": "7ZsJeMBiYq_m",
        "outputId": "37d521ba-6552-4f18-dd3c-6d418c73716a"
      },
      "execution_count": 19,
      "outputs": [
        {
          "output_type": "stream",
          "name": "stdout",
          "text": [
            "X: (8, 5)\n",
            "[[ 8.532597    6.5482864  -2.4861956  -1.171072   -8.764059  ]\n",
            " [ 1.1601973   3.2508354   2.170844    5.666218   -1.1224918 ]\n",
            " [ 5.2533865  -9.79589    -8.313572    1.8250008   7.3636246 ]\n",
            " [-1.3443546   2.2697659   5.0504856   9.597977    1.6550274 ]\n",
            " [-5.040753   -6.810715    9.495438    3.5235357   7.6127014 ]\n",
            " [ 8.018381    0.3058529  -9.075866    8.479118    7.1896076 ]\n",
            " [-4.487176    1.1392193   8.26194     4.7328043   9.557953  ]\n",
            " [ 7.563629    0.2349453  -0.06254387  5.0587606  -4.8412037 ]]\n",
            "\n",
            "A1: (8, 8)\n",
            "[[ 0.          3.1628828   0.79899037  0.          1.8499618   2.0633633\n",
            "   2.6267092   7.2305083 ]\n",
            " [ 0.8973994   0.          0.34951705  0.          0.          0.5565973\n",
            "   1.02226     1.3726143 ]\n",
            " [ 7.242556    4.9662743   3.0804212   0.         13.409496    0.\n",
            "  10.51971     0.        ]\n",
            " [ 4.6874194   0.          0.41024658  0.          0.          0.\n",
            "   0.778545    0.        ]\n",
            " [ 7.31331     0.          0.714099    0.          0.          0.\n",
            "   0.          0.        ]\n",
            " [ 5.3194523   0.          1.6550305   0.          7.190267    0.\n",
            "  10.495537    3.557562  ]\n",
            " [ 4.324453    0.          0.          0.          0.          0.\n",
            "   0.          0.        ]\n",
            " [ 0.          2.7170155   2.9625413   0.          1.836669    0.\n",
            "   6.841138    3.7797394 ]]\n",
            "\n",
            "A2: (8, 5)\n",
            "[[ 0.          0.          0.          3.526309    0.        ]\n",
            " [ 0.          0.          0.          0.55303276  0.        ]\n",
            " [ 0.         11.077203    0.          0.          0.        ]\n",
            " [ 0.          0.          0.          0.34740147  0.        ]\n",
            " [ 0.          0.          0.          1.3971509   0.        ]\n",
            " [ 0.          5.589499    0.          0.          0.        ]\n",
            " [ 0.          0.          0.          0.5668535   0.        ]\n",
            " [ 0.          1.030854    0.          0.          0.        ]]\n",
            "\n",
            "Y: (8, 3)\n",
            "[[1.8573688e-02 4.3084255e-01 5.5058378e-01]\n",
            " [2.3047394e-01 3.7736478e-01 3.9216116e-01]\n",
            " [3.2789583e-04 5.2596517e-02 9.4707555e-01]\n",
            " [2.6599520e-01 3.6256921e-01 3.7143555e-01]\n",
            " [1.2040665e-01 4.1844714e-01 4.6114618e-01]\n",
            " [1.4344811e-02 1.8596786e-01 7.9968733e-01]\n",
            " [2.2820947e-01 3.7828994e-01 3.9350060e-01]\n",
            " [2.1261925e-01 3.4105334e-01 4.4632736e-01]]\n",
            "\n",
            "Sum of Vectors: [1.         0.9999999  0.99999994 1.         0.99999994 1.\n",
            " 1.         0.9999999 ]\n"
          ]
        }
      ]
    },
    {
      "cell_type": "code",
      "source": [],
      "metadata": {
        "id": "1fdlRCgibaLt"
      },
      "execution_count": null,
      "outputs": []
    }
  ]
}