{
  "nbformat": 4,
  "nbformat_minor": 0,
  "metadata": {
    "colab": {
      "provenance": []
    },
    "kernelspec": {
      "name": "python3",
      "display_name": "Python 3"
    },
    "language_info": {
      "name": "python"
    }
  },
  "cells": [
    {
      "cell_type": "markdown",
      "source": [
        "# 5-4: Models with Conv Layers"
      ],
      "metadata": {
        "id": "A__cI9iWYYpE"
      }
    },
    {
      "cell_type": "markdown",
      "source": [
        "## Code.5-4-1: Models with Sequential Method"
      ],
      "metadata": {
        "id": "dS-AlguZqj-B"
      }
    },
    {
      "cell_type": "code",
      "execution_count": 8,
      "metadata": {
        "id": "lEOdBtPco5ar",
        "colab": {
          "base_uri": "https://localhost:8080/"
        },
        "outputId": "9af77dda-3ee6-4975-ac3d-178508aa07ac"
      },
      "outputs": [
        {
          "output_type": "stream",
          "name": "stdout",
          "text": [
            "Input: (32, 28, 28, 3)\n",
            "Output: (32, 22, 22, 30)\n",
            "(3, 3, 3, 10) (10,)\n",
            "(3, 3, 10, 20) (20,)\n",
            "(3, 3, 20, 30) (30,)\n",
            "===\n",
            "(3, 3, 3, 10)\n",
            "(10,)\n",
            "(3, 3, 10, 20)\n",
            "(20,)\n",
            "(3, 3, 20, 30)\n",
            "(30,)\n"
          ]
        }
      ],
      "source": [
        "import tensorflow as tf\n",
        "\n",
        "from tensorflow.keras.models import Sequential\n",
        "from tensorflow.keras.layers import Conv2D\n",
        "\n",
        "n_neurons = [10, 20, 30]\n",
        "\n",
        "model = Sequential()\n",
        "# Conv layer를 쌓는 형태\n",
        "model.add(Conv2D(filters=n_neurons[0], kernel_size=3, activation='relu'))\n",
        "model.add(Conv2D(filters=n_neurons[1], kernel_size=3, activation='relu'))\n",
        "model.add(Conv2D(filters=n_neurons[2], kernel_size=3, activation='relu'))\n",
        "\n",
        "x = tf.random.normal(shape=(32, 28, 28, 3))\n",
        "predictions = model(x)\n",
        "\n",
        "print(f\"Input: {x.shape}\")\n",
        "print(f\"Output: {predictions.shape}\")\n",
        "\n",
        "for layer in model.layers:\n",
        "  W, B = layer.get_weights()\n",
        "  print(W.shape, B.shape)\n",
        "\n",
        "print(\"===\")\n",
        "trainable_variables = model.trainable_variables\n",
        "for train_var in trainable_variables:\n",
        "  print(train_var.shape)"
      ]
    },
    {
      "cell_type": "markdown",
      "source": [
        "## Code.5-4-2: Models with Model Sub-classing"
      ],
      "metadata": {
        "id": "mW6W4H0GYf8z"
      }
    },
    {
      "cell_type": "code",
      "source": [
        "import tensorflow as tf\n",
        "\n",
        "from tensorflow.keras.models import Model\n",
        "from tensorflow.keras.layers import Conv2D\n",
        "\n",
        "n_neurons = [10, 20, 30]\n",
        "\n",
        "class TestModel(Model):\n",
        "  def __init__(self):\n",
        "    super(TestModel, self).__init__()\n",
        "    global n_neurons\n",
        "    \n",
        "    self.conv_layers = []\n",
        "    for n_neuron in n_neurons:\n",
        "      self.conv_layers.append(Conv2D(filters=n_neuron, kernel_size=3, activation='relu'))\n",
        "    \n",
        "  def call(self, x):\n",
        "    print(f\"Input: {x.shape}\")\n",
        "    # test code의 장점 존재\n",
        "    ## 중간마다 print구문으로 값 debug 가능\n",
        "    print(\"\\n===== Conv Layers =====\\n\")\n",
        "    for conv_layer in self.conv_layers:\n",
        "      x = conv_layer(x)\n",
        "      W, B = conv_layer.get_weights()\n",
        "      print(f\"W/B {W.shape}/{B.shape}\")\n",
        "      print(f\"X: {x.shape}\\n\")\n",
        "    return x\n",
        "\n",
        "\n",
        "model = TestModel()\n",
        "x = tf.random.normal(shape=(32, 28, 28, 3))\n",
        "predictions = model(x)\n",
        "\n",
        "print(f\"Input: {x.shape}\")\n",
        "print(f\"Output: {predictions.shape}\")\n",
        "\n",
        "for layer in model.layers:\n",
        "  W, B = layer.get_weights()\n",
        "  print(W.shape, B.shape)\n",
        "\n",
        "print(\"===\")\n",
        "trainable_variables = model.trainable_variables\n",
        "for train_var in trainable_variables:\n",
        "  print(train_var.shape)"
      ],
      "metadata": {
        "colab": {
          "base_uri": "https://localhost:8080/"
        },
        "id": "-NNxl2JCYtVf",
        "outputId": "574c308f-aa8a-4978-8852-e931292b8fe2"
      },
      "execution_count": 17,
      "outputs": [
        {
          "output_type": "stream",
          "name": "stdout",
          "text": [
            "Input: (32, 28, 28, 3)\n",
            "\n",
            "===== Conv Layers =====\n",
            "\n",
            "W/B (3, 3, 3, 10)/(10,)\n",
            "X: (32, 26, 26, 10)\n",
            "\n",
            "W/B (3, 3, 10, 20)/(20,)\n",
            "X: (32, 24, 24, 20)\n",
            "\n",
            "W/B (3, 3, 20, 30)/(30,)\n",
            "X: (32, 22, 22, 30)\n",
            "\n",
            "Input: (32, 28, 28, 3)\n",
            "Output: (32, 22, 22, 30)\n",
            "(3, 3, 3, 10) (10,)\n",
            "(3, 3, 10, 20) (20,)\n",
            "(3, 3, 20, 30) (30,)\n",
            "===\n",
            "(3, 3, 3, 10)\n",
            "(10,)\n",
            "(3, 3, 10, 20)\n",
            "(20,)\n",
            "(3, 3, 20, 30)\n",
            "(30,)\n"
          ]
        }
      ]
    },
    {
      "cell_type": "code",
      "source": [
        "# 위 모델의 다른 구현 방법\n",
        "import tensorflow as tf\n",
        "\n",
        "from tensorflow.keras.models import Model\n",
        "from tensorflow.keras.layers import Conv2D\n",
        "\n",
        "n_neurons = [10, 20, 30]\n",
        "\n",
        "class TestModel(Model):\n",
        "  def __init__(self):\n",
        "    super(TestModel, self).__init__()\n",
        "    global n_neurons\n",
        "    \n",
        "    self.conv1 = Conv2D(filters=n_neurons[0], kernel_size=3, activation='relu')\n",
        "    self.conv2 = Conv2D(filters=n_neurons[1], kernel_size=3, activation='relu')\n",
        "    self.conv3 = Conv2D(filters=n_neurons[2], kernel_size=3, activation='relu')\n",
        "    \n",
        "  def call(self, x):\n",
        "    x = self.conv1(x)\n",
        "    x = self.conv2(x)\n",
        "    x = self.conv3(x)\n",
        "    return x"
      ],
      "metadata": {
        "id": "Ot6aYEL005gp"
      },
      "execution_count": 21,
      "outputs": []
    }
  ]
}