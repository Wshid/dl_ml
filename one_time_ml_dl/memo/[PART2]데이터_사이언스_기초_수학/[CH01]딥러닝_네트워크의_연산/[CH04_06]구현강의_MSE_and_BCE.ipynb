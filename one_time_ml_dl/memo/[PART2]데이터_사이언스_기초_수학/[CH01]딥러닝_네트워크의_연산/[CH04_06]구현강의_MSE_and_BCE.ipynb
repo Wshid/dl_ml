{
  "nbformat": 4,
  "nbformat_minor": 0,
  "metadata": {
    "colab": {
      "provenance": []
    },
    "kernelspec": {
      "name": "python3",
      "display_name": "Python 3"
    },
    "language_info": {
      "name": "python"
    }
  },
  "cells": [
    {
      "cell_type": "markdown",
      "source": [
        "# 4-2: Mean Squared Error"
      ],
      "metadata": {
        "id": "A__cI9iWYYpE"
      }
    },
    {
      "cell_type": "markdown",
      "source": [
        "## Code.4-2-1: MSE Calculation"
      ],
      "metadata": {
        "id": "wnvzcl8Bhhgc"
      }
    },
    {
      "cell_type": "code",
      "execution_count": 7,
      "metadata": {
        "id": "lEOdBtPco5ar",
        "colab": {
          "base_uri": "https://localhost:8080/"
        },
        "outputId": "e2228f99-1a00-42e7-da82-3b8ed80489ea"
      },
      "outputs": [
        {
          "output_type": "stream",
          "name": "stdout",
          "text": [
            "(32, 1) (32, 1)\n",
            "MSE(Tensorflow): 1.8083000183105469\n",
            "MSE(Manual): 1.8083000183105469\n"
          ]
        }
      ],
      "source": [
        "import tensorflow as tf\n",
        "\n",
        "from tensorflow.keras.losses import MeanSquaredError\n",
        "\n",
        "loss_object = MeanSquaredError()\n",
        "\n",
        "batch_size = 32\n",
        "predictions = tf.random.normal(shape=(batch_size, 1))\n",
        "labels = tf.random.normal(shape=(batch_size, 1))\n",
        "\n",
        "print(predictions.shape, labels.shape)\n",
        "\n",
        "mse = loss_object(labels, predictions)\n",
        "mse_manual = tf.reduce_mean(tf.math.pow(labels - predictions, 2))\n",
        "\n",
        "# 동일한 값 확인\n",
        "print(f\"MSE(Tensorflow): {mse.numpy()}\")\n",
        "print(f\"MSE(Manual): {mse_manual.numpy()}\")"
      ]
    },
    {
      "cell_type": "markdown",
      "source": [
        "## Code.4-2-2: MSE with Model/Dataset"
      ],
      "metadata": {
        "id": "mW6W4H0GYf8z"
      }
    },
    {
      "cell_type": "code",
      "source": [
        "import tensorflow as tf\n",
        "\n",
        "from tensorflow.keras.layers import Dense\n",
        "from tensorflow.keras.losses import MeanSquaredError\n",
        "\n",
        "N, n_feature = 100, 5\n",
        "batch_size = 32\n",
        "\n",
        "X = tf.random.normal(shape=(N, n_feature))\n",
        "Y = tf.random.normal(shape=(N, 1))\n",
        "\n",
        "dataset = tf.data.Dataset.from_tensor_slices((X,Y))\n",
        "dataset = dataset.batch(batch_size)\n",
        "\n",
        "model = Dense(units=1, activation='linear')\n",
        "loss_object = MeanSquaredError()\n",
        "\n",
        "for x, y in dataset:\n",
        "  predictions = model(x)\n",
        "  # Y값과 prediction 값의 비교\n",
        "  loss = loss_object(y, predictions)\n",
        "  print(loss.numpy())\n"
      ],
      "metadata": {
        "colab": {
          "base_uri": "https://localhost:8080/"
        },
        "id": "-NNxl2JCYtVf",
        "outputId": "04bcac87-134b-490f-8c36-1ec52449f559"
      },
      "execution_count": 9,
      "outputs": [
        {
          "output_type": "stream",
          "name": "stdout",
          "text": [
            "2.734713\n",
            "2.7557015\n",
            "1.7667396\n",
            "0.38062194\n"
          ]
        }
      ]
    },
    {
      "cell_type": "markdown",
      "source": [
        "# 4.3: Binary Cross Entropy"
      ],
      "metadata": {
        "id": "F79uzzjeLvO5"
      }
    },
    {
      "cell_type": "markdown",
      "source": [
        "## Code.4-3-1: BCE Calculation"
      ],
      "metadata": {
        "id": "tavJaNhUL5Nz"
      }
    },
    {
      "cell_type": "code",
      "source": [
        "import tensorflow as tf\n",
        "\n",
        "from tensorflow.keras.losses import BinaryCrossentropy\n",
        "\n",
        "batch_size = 32\n",
        "n_class = 2\n",
        "\n",
        "# \\hat{y}\n",
        "predictions = tf.random.uniform(shape=(batch_size, 1),\n",
        "                                minval=0, maxval=1,\n",
        "                                dtype=tf.float32)\n",
        "labels = tf.random.uniform(shape=(batch_size, 1),\n",
        "                           minval=0, maxval=n_class,\n",
        "                           dtype=tf.int32)\n",
        "\n",
        "# print(predictions)\n",
        "# print(labels)\n",
        "loss_object = BinaryCrossentropy()\n",
        "# labels는 0또는 1값이 들어가며, prediction에는 확률이 들어감\n",
        "loss = loss_object(labels, predictions)\n",
        "\n",
        "lables = tf.cast(labels, tf.float32)\n",
        "bce_man = -(lables*tf.math.log(predictions) + (1-lables)*tf.math.log(1- predictions))\n",
        "bce_man = tf.reduce_mean(bce_man)\n",
        "\n",
        "# 값이 동일함\n",
        "print(\"BCE(Tensorflow): \", loss.numpy())\n",
        "print(\"BCE(Manual): \", bce_man.numpy())"
      ],
      "metadata": {
        "colab": {
          "base_uri": "https://localhost:8080/"
        },
        "id": "M7GU9XmBLnBt",
        "outputId": "765625a3-04f0-47f8-e247-906a9728feb0"
      },
      "execution_count": 15,
      "outputs": [
        {
          "output_type": "stream",
          "name": "stdout",
          "text": [
            "BCE(Tensorflow):  0.5870708\n",
            "BCE(Manual):  0.58707106\n"
          ]
        }
      ]
    },
    {
      "cell_type": "markdown",
      "source": [
        "## Code.4-3-2: BCE with Model/Dataset"
      ],
      "metadata": {
        "id": "Thk2gwiKNdfZ"
      }
    },
    {
      "cell_type": "code",
      "source": [
        "import tensorflow as tf\n",
        "\n",
        "from tensorflow.keras.layers import Dense\n",
        "from tensorflow.keras.losses import BinaryCrossentropy\n",
        "\n",
        "N, n_feature = 100, 5\n",
        "t_weights = tf.constant([1,2,3,4,5], dtype=tf.float32)\n",
        "t_bias = tf.constant([10], dtype=tf.float32)\n",
        "\n",
        "X = tf.random.normal(mean=0, stddev=1, shape=(N, n_feature))\n",
        "Y = tf.reduce_sum(t_weights*X, axis=1) + t_bias\n",
        "Y = tf.cast(Y > 5, tf.int32)\n",
        "\n",
        "dataset = tf.data.Dataset.from_tensor_slices((X,Y))\n",
        "# minibatch를 가져오기\n",
        "dataset = dataset.batch(batch_size)\n",
        "\n",
        "model = Dense(units=1, activation='sigmoid')\n",
        "loss_object = BinaryCrossentropy()\n",
        "\n",
        "for x, y in dataset:\n",
        "  predictions = model(x)\n",
        "  loss = loss_object(y, predictions)\n",
        "  print(loss.numpy())"
      ],
      "metadata": {
        "colab": {
          "base_uri": "https://localhost:8080/"
        },
        "id": "YBx0s6cDMZux",
        "outputId": "9a66b1ca-2528-4188-95ad-053c4d3981ec"
      },
      "execution_count": 17,
      "outputs": [
        {
          "output_type": "stream",
          "name": "stdout",
          "text": [
            "0.542995\n",
            "0.62669116\n",
            "0.6186099\n",
            "0.58159256\n"
          ]
        }
      ]
    }
  ]
}