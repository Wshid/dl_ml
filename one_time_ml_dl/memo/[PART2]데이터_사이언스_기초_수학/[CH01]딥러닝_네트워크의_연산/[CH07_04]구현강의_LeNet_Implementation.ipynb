{
  "nbformat": 4,
  "nbformat_minor": 0,
  "metadata": {
    "colab": {
      "provenance": []
    },
    "kernelspec": {
      "name": "python3",
      "display_name": "Python 3"
    },
    "language_info": {
      "name": "python"
    }
  },
  "cells": [
    {
      "cell_type": "markdown",
      "source": [
        "# 7-2: Implementation of LeNet\n",
        "- LeNet: 사람의 손글씨를 0~9까지 식별하는 네트워크\n",
        "- 이론에서 확인했던 LeNet의 표를 기준으로 코드 작성"
      ],
      "metadata": {
        "id": "A__cI9iWYYpE"
      }
    },
    {
      "cell_type": "markdown",
      "source": [
        "## Code.7-2-1: LeNet with Model Sub-classing"
      ],
      "metadata": {
        "id": "dS-AlguZqj-B"
      }
    },
    {
      "cell_type": "code",
      "execution_count": 9,
      "metadata": {
        "id": "lEOdBtPco5ar",
        "colab": {
          "base_uri": "https://localhost:8080/"
        },
        "outputId": "c98f775e-6090-470a-e659-d8e915f40b51"
      },
      "outputs": [
        {
          "output_type": "stream",
          "name": "stdout",
          "text": [
            "x: (32, 28, 28, 1)\n",
            "x: (32, 28, 28, 6)\n",
            "x: (32, 14, 14, 6)\n",
            "x: (32, 10, 10, 16)\n",
            "x: (32, 5, 5, 16)\n",
            "x: (32, 1, 1, 120)\n",
            "x: (32, 120)\n",
            "x: (32, 84)\n",
            "x: (32, 10)\n"
          ]
        }
      ],
      "source": [
        "import tensorflow as tf\n",
        "from tensorflow.keras.models import Model\n",
        "\n",
        "from tensorflow.keras.layers import Conv2D\n",
        "from tensorflow.keras.layers import AveragePooling2D\n",
        "from tensorflow.keras.layers import Flatten\n",
        "from tensorflow.keras.layers import Dense\n",
        "\n",
        "class LeNet(Model):\n",
        "  def __init__(self):\n",
        "    super(LeNet, self).__init__()\n",
        "\n",
        "    self.conv1 = Conv2D(filters=6, kernel_size=5, padding='same',\n",
        "                        activation='tanh')\n",
        "    self.conv1_pool = AveragePooling2D(pool_size=2, strides=2)\n",
        "\n",
        "    self.conv2 = Conv2D(filters=16, kernel_size=5, padding='valid',\n",
        "                        activation='tanh')\n",
        "    self.conv2_pool = AveragePooling2D(pool_size=2, strides=2)\n",
        "\n",
        "    self.conv3 = Conv2D(filters=120, kernel_size=5, padding='valid',\n",
        "                        activation='tanh')\n",
        "    self.flatten = Flatten()\n",
        "\n",
        "    self.dense1 = Dense(units=84, activation='tanh')\n",
        "    self.dense2 = Dense(units=10, activation='softmax')\n",
        "  \n",
        "  def call(self, x):\n",
        "    print(f\"x: {x.shape}\")\n",
        "\n",
        "    x = self.conv1(x)\n",
        "    print(f\"x: {x.shape}\")\n",
        "    x = self.conv1_pool(x)\n",
        "    print(f\"x: {x.shape}\")\n",
        "\n",
        "    x = self.conv2(x)\n",
        "    print(f\"x: {x.shape}\")\n",
        "    x = self.conv2_pool(x)\n",
        "    print(f\"x: {x.shape}\")\n",
        "\n",
        "    x = self.conv3(x)\n",
        "    print(f\"x: {x.shape}\")\n",
        "    x = self.flatten(x)\n",
        "    print(f\"x: {x.shape}\")\n",
        "\n",
        "    x = self.dense1(x)\n",
        "    print(f\"x: {x.shape}\")\n",
        "    x = self.dense2(x)\n",
        "    print(f\"x: {x.shape}\")\n",
        "\n",
        "model=LeNet()\n",
        "\n",
        "x = tf.random.normal(shape=(32, 28, 28, 1))\n",
        "predictions = model(x)"
      ]
    },
    {
      "cell_type": "markdown",
      "source": [
        "## Code.7-2-2: LeNet with Hybrid Method"
      ],
      "metadata": {
        "id": "yj9uvNfpcvMr"
      }
    },
    {
      "cell_type": "code",
      "source": [
        "import tensorflow as tf\n",
        "from tensorflow.keras.models import Model\n",
        "from tensorflow.keras.layers import Layer\n",
        "\n",
        "from tensorflow.keras.layers import Conv2D\n",
        "from tensorflow.keras.layers import AveragePooling2D\n",
        "from tensorflow.keras.layers import Flatten\n",
        "from tensorflow.keras.layers import Dense\n",
        "\n",
        "class ConvLayer(Layer):\n",
        "  def __init__(self, filters, padding, pool=True):\n",
        "    super(ConvLayer, self).__init__()\n",
        "    self.pool = pool\n",
        "\n",
        "    self.conv = Conv2D(filters=6, kernel_size=5, padding=padding,\n",
        "                        activation='tanh')\n",
        "\n",
        "    if pool == True:\n",
        "      self.conv_pool = AveragePooling2D(pool_size=2, strides=2)\n",
        "\n",
        "  def call(self, x):\n",
        "    x = self.conv(x)\n",
        "    if self.pool == True:\n",
        "      x = self.conv_pool(x)\n",
        "    return x\n",
        "\n",
        "\n",
        "class LeNet(Model):\n",
        "  def __init__(self):\n",
        "    super(LeNet, self).__init__()\n",
        "\n",
        "    self.conv1 = ConvLayer(filters=6, padding='same')\n",
        "    self.conv2 = ConvLayer(filters=16, padding='valid')\n",
        "    self.conv3 = ConvLayer(filters=120, padding='valid', pool=False)\n",
        "\n",
        "    self.flatten = Flatten()\n",
        "\n",
        "    self.dense1 = Dense(units=84, activation='tanh')\n",
        "    self.dense2 = Dense(units=10, activation='softmax')\n",
        "  \n",
        "  def call(self, x):\n",
        "    print(f\"x: {x.shape}\")\n",
        "\n",
        "    x = self.conv1(x)\n",
        "    print(f\"x: {x.shape}\")\n",
        "\n",
        "    x = self.conv2(x)\n",
        "    print(f\"x: {x.shape}\")\n",
        "\n",
        "    x = self.conv3(x)\n",
        "    print(f\"x: {x.shape}\")\n",
        "\n",
        "    x = self.dense1(x)\n",
        "    print(f\"x: {x.shape}\")\n",
        "    x = self.dense2(x)\n",
        "    print(f\"x: {x.shape}\")\n",
        "\n",
        "model=LeNet()\n",
        "\n",
        "x = tf.random.normal(shape=(32, 28, 28, 1))\n",
        "predictions = model(x)"
      ],
      "metadata": {
        "colab": {
          "base_uri": "https://localhost:8080/"
        },
        "id": "-NNxl2JCYtVf",
        "outputId": "aa5ebdb5-0c67-4ce8-95a1-ad3bea8991cb"
      },
      "execution_count": 13,
      "outputs": [
        {
          "output_type": "stream",
          "name": "stdout",
          "text": [
            "x: (32, 28, 28, 1)\n",
            "x: (32, 14, 14, 6)\n",
            "x: (32, 5, 5, 6)\n",
            "x: (32, 1, 1, 6)\n",
            "x: (32, 1, 1, 84)\n",
            "x: (32, 1, 1, 10)\n"
          ]
        }
      ]
    },
    {
      "cell_type": "markdown",
      "source": [
        "## Code.7-2-3: Forward Propagation of LeNet"
      ],
      "metadata": {
        "id": "xKYQwObRdgoa"
      }
    },
    {
      "cell_type": "code",
      "source": [
        "import numpy as np\n",
        "import tensorflow as tf\n",
        "from tensorflow.keras.models import Model\n",
        "from tensorflow.keras.layers import Layer\n",
        "\n",
        "from tensorflow.keras.layers import Conv2D\n",
        "from tensorflow.keras.layers import AveragePooling2D\n",
        "from tensorflow.keras.layers import Flatten\n",
        "from tensorflow.keras.layers import Dense\n",
        "\n",
        "# 임의의 데이터 셋을 가져올 수 있음\n",
        "from tensorflow.keras.datasets import mnist\n",
        "\n",
        "from tensorflow.keras.losses import SparseCategoricalCrossentropy\n",
        "\n",
        "### LeNet Implementation ###\n",
        "class ConvLayer(Layer):\n",
        "  def __init__(self, filters, padding, pool=True):\n",
        "    super(ConvLayer, self).__init__()\n",
        "    self.pool = pool\n",
        "\n",
        "    self.conv = Conv2D(filters=6, kernel_size=5, padding=padding,\n",
        "                        activation='tanh')\n",
        "\n",
        "    if pool == True:\n",
        "      self.conv_pool = AveragePooling2D(pool_size=2, strides=2)\n",
        "\n",
        "  def call(self, x):\n",
        "    x = self.conv(x)\n",
        "    if self.pool == True:\n",
        "      x = self.conv_pool(x)\n",
        "    return x\n",
        "\n",
        "\n",
        "class LeNet(Model):\n",
        "  def __init__(self):\n",
        "    super(LeNet, self).__init__()\n",
        "\n",
        "    self.conv1 = ConvLayer(filters=6, padding='same')\n",
        "    self.conv2 = ConvLayer(filters=16, padding='valid')\n",
        "    self.conv3 = ConvLayer(filters=120, padding='valid', pool=False)\n",
        "\n",
        "    self.flatten = Flatten()\n",
        "\n",
        "    self.dense1 = Dense(units=84, activation='tanh')\n",
        "    self.dense2 = Dense(units=10, activation='softmax')\n",
        "  \n",
        "  def call(self, x):\n",
        "    print(f\"x: {x.shape}\")\n",
        "\n",
        "    x = self.conv1(x)\n",
        "    print(f\"x: {x.shape}\")\n",
        "\n",
        "    x = self.conv2(x)\n",
        "    print(f\"x: {x.shape}\")\n",
        "\n",
        "    x = self.conv3(x)\n",
        "    print(f\"x: {x.shape}\")\n",
        "\n",
        "    x = self.dense1(x)\n",
        "    print(f\"x: {x.shape}\")\n",
        "    x = self.dense2(x)\n",
        "    print(f\"x: {x.shape}\")\n",
        "\n",
        "    return x\n",
        "\n",
        "### Dataset Preparation ###\n",
        "(train_images, train_labels), _ = mnist.load_data()\n",
        "# color channel 생성 \n",
        "train_images = np.expand_dims(train_images, axis=3).astype(np.float32)\n",
        "train_labels = train_labels.astype(np.int32)\n",
        "\n",
        "# print(train_images.shape, train_images.dtype) \n",
        "train_ds = tf.data.Dataset.from_tensor_slices((train_images, train_labels))\n",
        "train_ds = train_ds.batch(32)\n",
        "\n",
        "### Forward Propagation ###\n",
        "model = LeNet()\n",
        "loss_object = SparseCategoricalCrossentropy()\n",
        "\n",
        "for images, labels in train_ds:\n",
        "  predictions = model(images)\n",
        "  loss = loss_object(labels, predictions)\n",
        "\n",
        "  print(loss)\n",
        "\n",
        "  break"
      ],
      "metadata": {
        "id": "owSWhaBB6hFU",
        "colab": {
          "base_uri": "https://localhost:8080/"
        },
        "outputId": "395b2ca1-cf80-4b4b-9800-8c4fd5763d5b"
      },
      "execution_count": 24,
      "outputs": [
        {
          "output_type": "stream",
          "name": "stdout",
          "text": [
            "x: (32, 28, 28, 1)\n",
            "x: (32, 14, 14, 6)\n",
            "x: (32, 5, 5, 6)\n",
            "x: (32, 1, 1, 6)\n",
            "x: (32, 1, 1, 84)\n",
            "x: (32, 1, 1, 10)\n",
            "tf.Tensor(2.28972, shape=(), dtype=float32)\n"
          ]
        }
      ]
    },
    {
      "cell_type": "markdown",
      "source": [
        "## Code.7-1-4: Implementation with Model and Layer Sub-classing"
      ],
      "metadata": {
        "id": "Q1TaqdJOJgNV"
      }
    },
    {
      "cell_type": "code",
      "source": [
        "import tensorflow as tf\n",
        "\n",
        "from tensorflow.keras.models import Sequential\n",
        "from tensorflow.keras.layers import Conv2D, MaxPooling2D, Flatten, Dense, Layer\n",
        "\n",
        "class MyConv(Layer):\n",
        "  def __init__(self, n_neuron):\n",
        "    super(MyConv, self).__init__()\n",
        "\n",
        "    self.conv = Conv2D(filters=n_neuron, kernel_size=k_size, padding=padding,\n",
        "                 activation=activation)\n",
        "    self.conv_pool = MaxPooling2D(pool_size=pool_size, strides=pool_strides)\n",
        "  \n",
        "  def call(self, x):\n",
        "    x = self.conv(x)\n",
        "    x = self.conv_pool(x)\n",
        "    return x\n",
        "\n",
        "class TestCNN(Model):\n",
        "  def __init__(self):\n",
        "    super(TestCNN, self).__init__()\n",
        "\n",
        "    self.conv1 = MyConv(n_conv_neurons[0])\n",
        "    self.conv2 = MyConv(n_conv_neurons[1])\n",
        "    self.conv3 = MyConv(n_conv_neurons[2])\n",
        "    self.flatten = Flatten()\n",
        "\n",
        "    self.dense1 = Dense(units=n_dense_neurons[0], activation=activation)\n",
        "    self.dense2 = Dense(units=n_dense_neurons[1], activation=activation)\n",
        "    self.dense3 = Dense(units=n_dense_neurons[2], activation='softmax')\n",
        "  \n",
        "  def call(self, x):\n",
        "    x = self.conv1(x)\n",
        "    x = self.conv1_pool(x)\n",
        "\n",
        "    x = self.conv2(x)\n",
        "    x = self.conv2_pool(x)\n",
        "\n",
        "    x = self.conv3(x)\n",
        "    x = self.conv3_pool(x)\n",
        "\n",
        "    x = self.flatten(x)\n",
        "\n",
        "    x = self.dense1(x)\n",
        "    x = self.dense2(x)\n",
        "    x = self.dense3(x)\n",
        "    return x\n"
      ],
      "metadata": {
        "id": "ihKfTjHZJdqA"
      },
      "execution_count": null,
      "outputs": []
    },
    {
      "cell_type": "code",
      "source": [
        "import tensorflow as tf\n",
        "\n",
        "from tensorflow.keras.models import Sequential\n",
        "from tensorflow.keras.layers import Conv2D, MaxPooling2D, Flatten, Dense, Layer\n",
        "\n",
        "class MyConv(Layer):\n",
        "  def __init__(self, n_neuron):\n",
        "    super(MyConv, self).__init__()\n",
        "\n",
        "    self.conv = Conv2D(filters=n_neuron, kernel_size=k_size, padding=padding,\n",
        "                 activation=activation)\n",
        "    self.conv_pool = MaxPooling2D(pool_size=pool_size, strides=pool_strides)\n",
        "  \n",
        "  def call(self, x):\n",
        "    x = self.conv(x)\n",
        "    x = self.conv_pool(x)\n",
        "    return x\n",
        "\n",
        "class TestCNN(Model):\n",
        "  def __init__(self):\n",
        "    super(TestCNN, self).__init__()\n",
        "    self.fe = Sequential()\n",
        "\n",
        "    self.fe.add(MyConv(n_conv_neurons[0]))\n",
        "    self.fe.add(MyConv(n_conv_neurons[1]))\n",
        "    self.fe.add(MyConv(n_conv_neurons[2]))\n",
        "    self.fe.add(Flatten())\n",
        "\n",
        "    self.classifier = Sequential()\n",
        "    self.classifier.add(Dense(units=n_dense_neurons[0], activation=activation))\n",
        "    self.classifier.add(Dense(units=n_dense_neurons[1], activation=activation))\n",
        "    self.classifier.add(Dense(units=n_dense_neurons[2], activation='softmax'))\n",
        "  \n",
        "  def call(self, x):\n",
        "    x = self.fe(x)\n",
        "    x = self.classifier(x)\n",
        "\n",
        "    return x"
      ],
      "metadata": {
        "id": "aXK2ed-OJeqN"
      },
      "execution_count": null,
      "outputs": []
    },
    {
      "cell_type": "code",
      "source": [],
      "metadata": {
        "id": "TECRG9jyLAH8"
      },
      "execution_count": null,
      "outputs": []
    }
  ]
}