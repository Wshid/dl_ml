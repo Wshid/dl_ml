{
  "nbformat": 4,
  "nbformat_minor": 0,
  "metadata": {
    "colab": {
      "provenance": []
    },
    "kernelspec": {
      "name": "python3",
      "display_name": "Python 3"
    },
    "language_info": {
      "name": "python"
    }
  },
  "cells": [
    {
      "cell_type": "markdown",
      "source": [
        "# 6-3: 3D Max/Avg Pooling\n",
        "- Channel-wise(채널별)\n",
        "- 결과가 Channel은 동일하나, Width, Height가 달라질 수 있음\n",
        "- 가우스식도 필요함"
      ],
      "metadata": {
        "id": "A__cI9iWYYpE"
      }
    },
    {
      "cell_type": "markdown",
      "source": [
        "## Code.6-3-1: 3D Max Pooling"
      ],
      "metadata": {
        "id": "dS-AlguZqj-B"
      }
    },
    {
      "cell_type": "code",
      "execution_count": 12,
      "metadata": {
        "id": "lEOdBtPco5ar",
        "colab": {
          "base_uri": "https://localhost:8080/"
        },
        "outputId": "6ad4cc1a-9bac-495a-d7a7-359d1a58ec5a"
      },
      "outputs": [
        {
          "output_type": "stream",
          "name": "stdout",
          "text": [
            "pooled_max(Tensorflow): (1, 2, 2, 3)\n",
            "[[[0.74605805 0.99293303]\n",
            "  [0.1007857  1.466899  ]]\n",
            "\n",
            " [[0.46927193 0.91023743]\n",
            "  [1.6741854  0.38664454]]\n",
            "\n",
            " [[0.06659878 0.52235645]\n",
            "  [1.9468899  1.799589  ]]]\n",
            "(2, 2, 3)\n",
            "pooled_max(Manual): (2, 2, 3)\n",
            "[[[0.74605805 0.99293303]\n",
            "  [0.1007857  1.46689904]]\n",
            "\n",
            " [[0.46927193 0.91023743]\n",
            "  [1.6741854  0.38664454]]\n",
            "\n",
            " [[0.06659878 0.52235645]\n",
            "  [1.94688988 1.79958904]]]\n"
          ]
        }
      ],
      "source": [
        "import math\n",
        "import numpy as np\n",
        "import tensorflow as tf\n",
        "from tensorflow.keras.layers import MaxPooling2D\n",
        "\n",
        "N, n_H, n_W, n_C = 1, 5, 5, 3\n",
        "f, s = 2,2\n",
        "\n",
        "# 채녈별로 편히 보기 위해 trasnpose\n",
        "\n",
        "x = tf.random.normal(shape=(N, n_H, n_W, n_C))\n",
        "# 채널별 4,5의 결과 출력\n",
        "# print(f\"x: {x.shape}\\n {np.transpose(x.numpy().squeeze(), (2,0,1))}\")\n",
        "\n",
        "pool_max = MaxPooling2D(pool_size=f, strides=s)\n",
        "pooled_max = pool_max(x)\n",
        "\n",
        "pooled_max_t = np.transpose(pooled_max.numpy().squeeze(), (2,0,1))\n",
        "print(f\"pooled_max(Tensorflow): {pooled_max.shape}\\n{pooled_max_t}\")\n",
        "\n",
        "x = x.numpy().squeeze()\n",
        "n_H_ = math.floor((n_H-f)/s + 1)\n",
        "n_W_ = math.floor((n_W-f)/s + 1)\n",
        "pooled_max_man = np.zeros(shape=(n_H_, n_W_, n_C))\n",
        "print(pooled_max_man.shape)\n",
        "\n",
        "for c in range(n_C):\n",
        "  c_image = x[:,:,c]\n",
        "  # s(strides)를 통해 점프\n",
        "  # 수학적인 내용과 코딩적인 측면의 인덱스 오차를 표현하기 위해 별도의 index 변수 선언\n",
        "  # stride를 통해 건너뛰는 변수와, pooled_max_man에 할당되는 차이 발생\n",
        "  h_ = 0\n",
        "  for h in range(0, n_H -f + 1, s):\n",
        "    w_ = 0\n",
        "    for w in range(0, n_W -f + 1, s):\n",
        "      window = c_image[h:h+f, w:w+f]\n",
        "      pooled_max_man[h_, w_, c] = np.max(window)\n",
        "\n",
        "      w_ +=1\n",
        "    h_ +=1\n",
        "\n",
        "pooled_max_t = np.transpose(pooled_max_man, (2,0,1))\n",
        "print(f\"pooled_max(Manual): {pooled_max_man.shape}\\n{pooled_max_t}\")\n"
      ]
    },
    {
      "cell_type": "markdown",
      "source": [
        "# 6-4: Padding"
      ],
      "metadata": {
        "id": "mW6W4H0GYf8z"
      }
    },
    {
      "cell_type": "markdown",
      "source": [
        "## Code.6-4-1: ZeroPadding2D Layer"
      ],
      "metadata": {
        "id": "yj9uvNfpcvMr"
      }
    },
    {
      "cell_type": "code",
      "source": [
        "import numpy as np\n",
        "import tensorflow as tf\n",
        "\n",
        "from tensorflow.keras.layers import ZeroPadding2D\n",
        "\n",
        "images = tf.random.normal(shape=(1, 28, 28, 3))\n",
        "print(images.shape)\n",
        "# print(np.transpose(images.numpy().squeeze(), (2,0,1)))\n",
        "\n",
        "zero_padding = ZeroPadding2D(padding=2)\n",
        "y = zero_padding(images)\n",
        "# print(np.transpose(y.numpy().squeeze(), (2,0,1)))\n",
        "print(y.shape)"
      ],
      "metadata": {
        "colab": {
          "base_uri": "https://localhost:8080/"
        },
        "id": "-NNxl2JCYtVf",
        "outputId": "fda3c292-0d20-41fb-f195-10ae27892b88"
      },
      "execution_count": 21,
      "outputs": [
        {
          "output_type": "stream",
          "name": "stdout",
          "text": [
            "(1, 28, 28, 3)\n",
            "(1, 32, 32, 3)\n"
          ]
        }
      ]
    },
    {
      "cell_type": "markdown",
      "source": [
        "## Code.6-4-2: Zero Padding with Conv2D Layers"
      ],
      "metadata": {
        "id": "xKYQwObRdgoa"
      }
    },
    {
      "cell_type": "code",
      "source": [
        "import tensorflow as tf\n",
        "from tensorflow.keras.layers import Conv2D\n",
        "\n",
        "images = tf.random.normal(shape=(1,28,28,3))\n",
        "# Conv2D내에서 바로 padding 사용 가능\n",
        "# padding=valid; 패딩을 안하겠다는 의미\n",
        "# padding=same; 커널이 움직일때 corner case를 계산하여 사이즈가 줄어들이 않도록 동작\n",
        "conv = Conv2D(filters=1, kernel_size=3, padding='same')\n",
        "\n",
        "# 아래와 같이 특정 숫자 기입시 에러 발생\n",
        "# 결과값이 동일해야하기 때문\n",
        "# conv = Conv2D(filters=1, kernel_size=3, padding=3)\n",
        "y = conv(images)\n",
        "print(y.shape)"
      ],
      "metadata": {
        "colab": {
          "base_uri": "https://localhost:8080/"
        },
        "id": "owSWhaBB6hFU",
        "outputId": "cb763c26-4794-4291-a13b-b72c811e00cc"
      },
      "execution_count": 25,
      "outputs": [
        {
          "output_type": "stream",
          "name": "stdout",
          "text": [
            "(1, 28, 28, 1)\n"
          ]
        }
      ]
    },
    {
      "cell_type": "markdown",
      "source": [
        "# 6-5: Strides"
      ],
      "metadata": {
        "id": "OAbnVXA2YlSs"
      }
    },
    {
      "cell_type": "markdown",
      "source": [
        "## Code.6-5-1. Strides in Conv2D Layers"
      ],
      "metadata": {
        "id": "w_zXn3id-dbc"
      }
    },
    {
      "cell_type": "code",
      "source": [
        "import tensorflow as tf\n",
        "from tensorflow.keras.layers import Conv2D\n",
        "\n",
        "images = tf.random.normal(shape=(1,28,28,3))\n",
        "# padding=valid; 패딩을 안하겠다는 의미\n",
        "conv = Conv2D(filters=1, kernel_size=3, padding='valid', strides=2)\n",
        "y = conv(images)\n",
        "\n",
        "print(images.shape)\n",
        "# strides를 통한 점프, 사이즈가 줄어듦\n",
        "print(y.shape)"
      ],
      "metadata": {
        "colab": {
          "base_uri": "https://localhost:8080/"
        },
        "id": "7ZsJeMBiYq_m",
        "outputId": "d4930c17-82c0-42a8-d349-11075f51957d"
      },
      "execution_count": 27,
      "outputs": [
        {
          "output_type": "stream",
          "name": "stdout",
          "text": [
            "(1, 28, 28, 3)\n",
            "(1, 13, 13, 1)\n"
          ]
        }
      ]
    },
    {
      "cell_type": "markdown",
      "source": [
        "## Code.6-5-2. Strides in Pooling Layers"
      ],
      "metadata": {
        "id": "e6_2U8QTeiAT"
      }
    },
    {
      "cell_type": "code",
      "source": [
        "import tensorflow as tf\n",
        "from tensorflow.keras.layers import MaxPooling2D\n",
        "\n",
        "images = tf.random.normal(shape=(1,28,28,3))\n",
        "# padding=valid; 패딩을 안하겠다는 의미\n",
        "pool = MaxPooling2D(pool_size=3, padding='valid', strides=2)\n",
        "y = pool(images)\n",
        "\n",
        "print(images.shape)\n",
        "# strides를 통한 점프, 사이즈가 줄어듦\n",
        "# 채널마다 maxPooling을 적용하기때문에, channel size는 유지\n",
        "# H,W가 동일한 값\n",
        "print(y.shape)"
      ],
      "metadata": {
        "colab": {
          "base_uri": "https://localhost:8080/"
        },
        "id": "LbcyrTWpeWWN",
        "outputId": "33509c8a-e56c-4e78-dc86-ae686acdc859"
      },
      "execution_count": 34,
      "outputs": [
        {
          "output_type": "stream",
          "name": "stdout",
          "text": [
            "(1, 28, 28, 3)\n",
            "(1, 13, 13, 3)\n"
          ]
        }
      ]
    },
    {
      "cell_type": "code",
      "source": [],
      "metadata": {
        "id": "2uRDe9ajeqpe"
      },
      "execution_count": null,
      "outputs": []
    }
  ]
}