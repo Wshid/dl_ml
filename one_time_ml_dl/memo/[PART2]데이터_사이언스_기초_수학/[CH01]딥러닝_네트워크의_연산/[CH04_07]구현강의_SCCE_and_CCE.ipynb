{
  "nbformat": 4,
  "nbformat_minor": 0,
  "metadata": {
    "colab": {
      "provenance": []
    },
    "kernelspec": {
      "name": "python3",
      "display_name": "Python 3"
    },
    "language_info": {
      "name": "python"
    }
  },
  "cells": [
    {
      "cell_type": "markdown",
      "source": [
        "# 4-4: Sparse Categorical Cross Entropy"
      ],
      "metadata": {
        "id": "A__cI9iWYYpE"
      }
    },
    {
      "cell_type": "markdown",
      "source": [
        "## Code.4.4.1: SCCE Calculation"
      ],
      "metadata": {
        "id": "vDoaD5v7hDko"
      }
    },
    {
      "cell_type": "code",
      "execution_count": 8,
      "metadata": {
        "id": "lEOdBtPco5ar",
        "colab": {
          "base_uri": "https://localhost:8080/"
        },
        "outputId": "7bcdf160-5188-4776-87c7-87558147becb"
      },
      "outputs": [
        {
          "output_type": "stream",
          "name": "stdout",
          "text": [
            "(16, 5) (16, 1)\n",
            "2.014523\n",
            "2.014523\n"
          ]
        }
      ],
      "source": [
        "import tensorflow as tf\n",
        "\n",
        "# one-hot encoding이 아니고, 실제 값 자체가 들어있는 형태에서 활용\n",
        "from tensorflow.keras.losses import SparseCategoricalCrossentropy\n",
        "\n",
        "batch_size, n_class = 16, 5\n",
        "\n",
        "# 결과 데이터는 N x k 형태, 그에따른 matrix 설정\n",
        "predictions = tf.random.uniform(shape=(batch_size, n_class), minval=0, maxval=1, dtype=tf.float32)\n",
        "\n",
        "# 확률의 합은 모두 1이되어야 함\n",
        "# column vector 생성\n",
        "pred_sum = tf.reshape(tf.reduce_sum(predictions, axis=1), (-1, 1))\n",
        "print(predictions.shape, pred_sum.shape)\n",
        "\n",
        "# 실질적인 확률 계산(각 값 / 합계)\n",
        "predictions = predictions/pred_sum\n",
        "\n",
        "labels = tf.random.uniform(shape=(batch_size, ),\n",
        "                           minval=0, maxval=n_class,\n",
        "                           dtype=tf.int32)\n",
        "\n",
        "# print(labels) \n",
        "\n",
        "loss_object = SparseCategoricalCrossentropy()\n",
        "loss = loss_object(labels, predictions)\n",
        "\n",
        "print(loss.numpy())\n",
        "\n",
        "# 위 값과 동일한 내용 확인 가능\n",
        "ce = 0\n",
        "for label, prediction in zip(labels, predictions):\n",
        "  # print(label, prediction)\n",
        "  ce += -tf.math.log(prediction[label])\n",
        "ce /= batch_size # 나누어야 평균을 구함\n",
        "print(ce.numpy())"
      ]
    },
    {
      "cell_type": "markdown",
      "source": [
        "### Code.4-4-2. SCCE with Model/Dataset\n",
        "- Dataset 안에 data label(index)가 들어있을 때 어떻게 Output layer가 만들어지고 loss가 계산되는지"
      ],
      "metadata": {
        "id": "mW6W4H0GYf8z"
      }
    },
    {
      "cell_type": "code",
      "source": [
        "import tensorflow as tf\n",
        "import matplotlib.pyplot as plt\n",
        "\n",
        "from tensorflow.keras.layers import Dense\n",
        "from tensorflow.keras.losses import SparseCategoricalCrossentropy\n",
        "\n",
        "plt.style.use('seaborn')\n",
        "\n",
        "N, n_feature = 100, 2\n",
        "n_class = 3\n",
        "\n",
        "X = tf.zeros(shape=(0, n_feature))\n",
        "Y = tf.zeros(shape=(0, 1), dtype=tf.int32)\n",
        "\n",
        "fig, ax = plt.subplots(figsize=(5, 5))\n",
        "for class_idx in range(n_class):\n",
        "  center = tf.random.uniform(minval=-15, maxval=15, shape=(2, ))\n",
        "\n",
        "  x1 = center[0] + tf.random.normal(shape=(N, 1))\n",
        "  x2 = center[1] + tf.random.normal(shape=(N, 1))\n",
        "\n",
        "  x = tf.concat((x1, x2), axis=1)\n",
        "  y = class_idx * tf.ones(shape=(N, 1), dtype=tf.int32)\n",
        "\n",
        "  ax.scatter(x[:, 0].numpy(), x[:, 1].numpy(), alpha=0.3)\n",
        "\n",
        "  X = tf.concat((X, x), axis=0)\n",
        "  Y = tf.concat((Y, y), axis=0)\n",
        "\n",
        "# print(f\"X(shape/dtype/data): {X.shape}, {X.dtype}, {X.numpy()}\")\n",
        "# print(f\"Y(shape/dtype/data): {Y.shape}, {Y.dtype}, {Y.numpy()}\")\n",
        "\n",
        "dataset = tf.data.Dataset.from_tensor_slices((X, Y))\n",
        "dataset = dataset.batch(batch_size)\n",
        "\n",
        "model = Dense(units=n_class, activation='softmax')\n",
        "loss_object = SparseCategoricalCrossentropy()\n",
        "\n",
        "for x, y in dataset:\n",
        "  predictions = model(x)\n",
        "  loss = loss_object(y, predictions)\n",
        "  print(predictions.shape, y.shape)"
      ],
      "metadata": {
        "colab": {
          "base_uri": "https://localhost:8080/",
          "height": 650
        },
        "id": "-NNxl2JCYtVf",
        "outputId": "4d10f44a-378e-4f37-e582-5256de05c48a"
      },
      "execution_count": 15,
      "outputs": [
        {
          "output_type": "stream",
          "name": "stdout",
          "text": [
            "(16, 3) (16, 1)\n",
            "(16, 3) (16, 1)\n",
            "(16, 3) (16, 1)\n",
            "(16, 3) (16, 1)\n",
            "(16, 3) (16, 1)\n",
            "(16, 3) (16, 1)\n",
            "(16, 3) (16, 1)\n",
            "(16, 3) (16, 1)\n",
            "(16, 3) (16, 1)\n",
            "(16, 3) (16, 1)\n",
            "(16, 3) (16, 1)\n",
            "(16, 3) (16, 1)\n",
            "(16, 3) (16, 1)\n",
            "(16, 3) (16, 1)\n",
            "(16, 3) (16, 1)\n",
            "(16, 3) (16, 1)\n",
            "(16, 3) (16, 1)\n",
            "(16, 3) (16, 1)\n",
            "(12, 3) (12, 1)\n"
          ]
        },
        {
          "output_type": "display_data",
          "data": {
            "text/plain": [
              "<Figure size 360x360 with 1 Axes>"
            ],
            "image/png": "[encoded data removed]"
          },
          "metadata": {}
        }
      ]
    },
    {
      "cell_type": "markdown",
      "source": [
        "# 4.5: Categorical Cross Entropy\n",
        "- one-hot encoding"
      ],
      "metadata": {
        "id": "OAbnVXA2YlSs"
      }
    },
    {
      "cell_type": "markdown",
      "source": [
        "## Code.4-5-1: CCE Calculation"
      ],
      "metadata": {
        "id": "j7HrqKiHYosq"
      }
    },
    {
      "cell_type": "code",
      "source": [
        "import tensorflow as tf\n",
        "\n",
        "from tensorflow.keras.losses import CategoricalCrossentropy\n",
        "\n",
        "batch_size, n_class = 16, 5\n",
        "\n",
        "# 결과 데이터는 N x k 형태, 그에따른 matrix 설정\n",
        "predictions = tf.random.uniform(shape=(batch_size, n_class), minval=0, maxval=1, dtype=tf.float32)\n",
        "\n",
        "# 확률의 합은 모두 1이되어야 함\n",
        "# column vector 생성\n",
        "pred_sum = tf.reshape(tf.reduce_sum(predictions, axis=1), (-1, 1))\n",
        "print(predictions.shape, pred_sum.shape)\n",
        "\n",
        "# 실질적인 확률 계산(각 값 / 합계)\n",
        "predictions = predictions/pred_sum\n",
        "\n",
        "labels = tf.random.uniform(shape=(batch_size, ),\n",
        "                           minval=0, maxval=n_class,\n",
        "                           dtype=tf.int32)\n",
        "\n",
        "\n",
        "# print(labels)\n",
        "labels = tf.one_hot(labels, n_class)\n",
        "print(labels)\n",
        "\n",
        "# y가 one-hot encoding이 되어 있을 때 사용 가능\n",
        "loss_object = CategoricalCrossentropy()\n",
        "loss = loss_object(labels, predictions)\n",
        "print(f\"CCE(Tensorflow): {loss.numpy()}\")\n",
        "\n",
        "cce_man = -tf.reduce_mean(tf.reduce_sum(labels*tf.math.log(predictions), axis=1))\n",
        "print(f\"CCE(Manual): {cce_man.numpy()}\")"
      ],
      "metadata": {
        "colab": {
          "base_uri": "https://localhost:8080/"
        },
        "id": "7ZsJeMBiYq_m",
        "outputId": "6f16c6eb-948a-42d5-813d-7cf54f02acfa"
      },
      "execution_count": 27,
      "outputs": [
        {
          "output_type": "stream",
          "name": "stdout",
          "text": [
            "(16, 5) (16, 1)\n",
            "tf.Tensor(\n",
            "[[0. 0. 1. 0. 0.]\n",
            " [0. 0. 1. 0. 0.]\n",
            " [0. 0. 0. 0. 1.]\n",
            " [0. 0. 0. 1. 0.]\n",
            " [0. 0. 0. 1. 0.]\n",
            " [0. 1. 0. 0. 0.]\n",
            " [1. 0. 0. 0. 0.]\n",
            " [0. 0. 1. 0. 0.]\n",
            " [0. 1. 0. 0. 0.]\n",
            " [0. 1. 0. 0. 0.]\n",
            " [0. 0. 1. 0. 0.]\n",
            " [0. 0. 0. 0. 1.]\n",
            " [0. 0. 1. 0. 0.]\n",
            " [1. 0. 0. 0. 0.]\n",
            " [0. 0. 0. 1. 0.]\n",
            " [1. 0. 0. 0. 0.]], shape=(16, 5), dtype=float32)\n",
            "CCE(Tensorflow): 1.6435346603393555\n",
            "CCE(Manual): 1.6435346603393555\n"
          ]
        }
      ]
    },
    {
      "cell_type": "markdown",
      "source": [
        "## Code.4-5-2: CCE with Model/Dataset"
      ],
      "metadata": {
        "id": "hD_wx5W-oi6k"
      }
    },
    {
      "cell_type": "code",
      "source": [
        "import tensorflow as tf\n",
        "from tensorflow.keras.losses import CategoricalCrossentropy\n",
        "\n",
        "N, n_feature = 8,2\n",
        "n_class = 5\n",
        "\n",
        "X = tf.zeros(shape=(0, n_feature))\n",
        "Y = tf.zeros(shape=(0, ), dtype=tf.int32)\n",
        "\n",
        "for class_idx in range(n_class):\n",
        "  center = tf.random.uniform(minval=-15, maxval=15, shape=(2, ))\n",
        "\n",
        "  x1 = center[0] + tf.random.normal(shape=(N,1))\n",
        "  x2 = center[1] + tf.random.normal(shape=(N,1))\n",
        "\n",
        "  x = tf.concat((x1, x2), axis=1)\n",
        "  y = class_idx * tf.ones(shape=(N,), dtype=tf.int32)\n",
        "\n",
        "  X = tf.concat((X, x), axis=0)\n",
        "  Y = tf.concat((Y, y), axis=0)\n",
        "\n",
        "Y = tf.one_hot(Y, depth=n_class, dtype=tf.int32)\n",
        "dataset = tf.data.Dataset.from_tensor_slices((X, Y))\n",
        "dataset = dataset.batch(batch_size)\n",
        "\n",
        "model = Dense(units=n_class, activation='softmax')\n",
        "loss_object = CategoricalCrossentropy()\n",
        "\n",
        "for x,y in dataset:\n",
        "  predictions = model(x)\n",
        "  # print(y.shape, predictions.shape)\n",
        "  # loss = loss_object(y, predictions)\n",
        "  print(loss.numpy())"
      ],
      "metadata": {
        "id": "1fdlRCgibaLt",
        "colab": {
          "base_uri": "https://localhost:8080/"
        },
        "outputId": "fb264767-7e73-4e6e-b2f1-1768cb2bedac"
      },
      "execution_count": 33,
      "outputs": [
        {
          "output_type": "stream",
          "name": "stdout",
          "text": [
            "1.6435347\n",
            "1.6435347\n",
            "1.6435347\n"
          ]
        }
      ]
    },
    {
      "cell_type": "code",
      "source": [],
      "metadata": {
        "id": "tuw8EBzBpmEp"
      },
      "execution_count": null,
      "outputs": []
    }
  ]
}