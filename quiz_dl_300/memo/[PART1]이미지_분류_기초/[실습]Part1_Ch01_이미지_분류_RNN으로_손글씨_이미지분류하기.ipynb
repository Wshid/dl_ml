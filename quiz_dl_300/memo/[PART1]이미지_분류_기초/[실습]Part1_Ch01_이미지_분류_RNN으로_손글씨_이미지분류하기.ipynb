{
  "nbformat": 4,
  "nbformat_minor": 0,
  "metadata": {
    "colab": {
      "provenance": [],
      "collapsed_sections": [
        "Kz3kWteP8Kap"
      ]
    },
    "kernelspec": {
      "name": "python3",
      "display_name": "Python 3"
    }
  },
  "cells": [
    {
      "cell_type": "markdown",
      "metadata": {
        "id": "oR0VJlz7mi5A"
      },
      "source": [
        "# 주제 : 이미지 분류 - RNN으로 손글씨 이미지 분류하기\n",
        "--------------\n",
        "## 실습 가이드\n",
        "    1. 데이터를 다운로드하여 Colab에 불러옵니다.\n",
        "    2. 필요한 라이브러리는 모두 코드로 작성되어 있습니다.\n",
        "    3. 코드는 위에서부터 아래로 순서대로 실행합니다.\n",
        "    4. 전체 문제 구성은 좌측 첫 번째 아이콘을 통해 확인할 수 있습니다.\n",
        "\n",
        "## 데이터 소개  \n",
        "    - 이번 주제의 데이터는 너무나 유명한 MNIST 데이터를 사용합니다.\n",
        "  ![mnist 이미지](https://www.mdpi.com/applsci/applsci-09-03169/article_deploy/html/images/applsci-09-03169-g001.png)\n",
        "\n",
        "      위의 이미지는 다음과 같은 것을 보여줍니다.  \n",
        "      (a) 28x28의 배열에서 3이 어떻게 모사되는지   \n",
        "      (b) 각 0-9까지의 다양한 그림의 모습들\n",
        "\n",
        "\n",
        "- 데이터 출처: [MNIST](http://yann.lecun.com/exdb/mnist/)\n",
        "\n",
        "\n",
        "## 최종 목표\n",
        "\n",
        "    - 이전에 배웠던 MNIST fully-conntect network과 CNN classificaion외 RNN식 접근을 배워본다.  \n",
        "    - 또한, data augmentation 기법의 기초가 될 수 있는 이미지에 noisy와 같은 변형을 줄 수 있는 방법을 알아본다.\n",
        "    - 이미지에 대한 RNN 접근 방법을 배울 수 있습니다.\n",
        "\n",
        "- 출제자 : 손근영 강사\n",
        "---\n"
      ]
    },
    {
      "cell_type": "code",
      "metadata": {
        "id": "e7kl3hgkikbo"
      },
      "source": [
        "import tensorflow as tf\n",
        "from tensorflow import keras\n",
        "from keras.layers import Dense\n",
        "from keras.models import Sequential\n",
        "\n",
        "import pandas as pd\n",
        "import numpy as np\n",
        "import matplotlib.pyplot as plt\n",
        "import seaborn as sns\n",
        "import warnings \n",
        "from IPython.display import Image\n",
        "\n",
        "warnings.filterwarnings('ignore')\n",
        "%matplotlib inline\n",
        "\n",
        "SEED = 34"
      ],
      "execution_count": null,
      "outputs": []
    },
    {
      "cell_type": "markdown",
      "metadata": {
        "id": "c5uDUVunS1Yk"
      },
      "source": [
        "## Step 1. 도입전 기본 처리"
      ]
    },
    {
      "cell_type": "markdown",
      "metadata": {
        "id": "2Bgf6uZtoBob"
      },
      "source": [
        "### 문제 1. mnist 데이터 살펴보기"
      ]
    },
    {
      "cell_type": "code",
      "metadata": {
        "id": "l2NW5G5nTgsb",
        "colab": {
          "base_uri": "https://localhost:8080/"
        },
        "outputId": "b37d16ea-53c0-45b5-afb6-878be133c0c9"
      },
      "source": [
        "# 데이터를 불러오는 코드를 작성해주세요.\n",
        "\n",
        "mnist = keras.datasets.mnist\n",
        "# 1번 runtime session에서 캐싱, 2회부터 쉽게 다운로드 가능\n",
        "# mnist.load_data()\n",
        "\n",
        "((train_images, train_labels), (test_images, test_labels)) = mnist.load_data()"
      ],
      "execution_count": null,
      "outputs": [
        {
          "output_type": "stream",
          "name": "stdout",
          "text": [
            "Downloading data from https://storage.googleapis.com/tensorflow/tf-keras-datasets/mnist.npz\n",
            "11490434/11490434 [==============================] - 0s 0us/step\n"
          ]
        }
      ]
    },
    {
      "cell_type": "markdown",
      "metadata": {
        "id": "ko4D-BpJTq2r"
      },
      "source": [
        "### 문제 2. 데이터의 shape을 출력해보세요."
      ]
    },
    {
      "cell_type": "code",
      "metadata": {
        "id": "waksbx9aT5tK",
        "colab": {
          "base_uri": "https://localhost:8080/"
        },
        "outputId": "145ff09b-ff08-42fc-b867-6efb59d402fa"
      },
      "source": [
        "# 데이터의 크기를 shape 함수를 통해 출력해주세요.\n",
        "# 딥러닝 하기 위해 가장 먼저 체크해야하는 것은 크기\n",
        "# batch_size * height * width = BHW\n",
        "print(f'train_images: {train_images.shape}')\n",
        "print(f'train_labels: {train_labels.shape}')\n",
        "\n",
        "print(f'test_images: {test_images.shape}')\n",
        "print(f'test_labels: {test_labels.shape}')"
      ],
      "execution_count": null,
      "outputs": [
        {
          "output_type": "stream",
          "name": "stdout",
          "text": [
            "train_images: (60000, 28, 28)\n",
            "train_labels: (60000,)\n",
            "test_images: (10000, 28, 28)\n",
            "test_labels: (10000,)\n"
          ]
        }
      ]
    },
    {
      "cell_type": "markdown",
      "metadata": {
        "id": "hrmQ7HzEUKrz"
      },
      "source": [
        "### 문제 3. (28, 28) 형태의 이미지를 plt을 이용하여 출력해보세요."
      ]
    },
    {
      "cell_type": "code",
      "metadata": {
        "id": "fVzGHMSYUUKk",
        "colab": {
          "base_uri": "https://localhost:8080/",
          "height": 448
        },
        "outputId": "420dd84d-4e44-4a34-9d39-d0b8b9ceffac"
      },
      "source": [
        "# 28x28의 흑백 이미지를 plt를 이용하여 출력하는 코드를 작성해보세요.\n",
        "# train_images[0].shape # 28 * 28\n",
        "plt.figure()\n",
        "plt.imshow(train_images[0])\n",
        "plt.colorbar()\n",
        "plt.grid(True)\n",
        "plt.show()\n",
        "print(train_labels[0]) # 첫번째 값은 5를 의미"
      ],
      "execution_count": null,
      "outputs": [
        {
          "output_type": "display_data",
          "data": {
            "text/plain": [
              "<Figure size 640x480 with 2 Axes>"
            ],
            "image/png": "[encoded data removed]"
          },
          "metadata": {}
        },
        {
          "output_type": "stream",
          "name": "stdout",
          "text": [
            "5\n"
          ]
        }
      ]
    },
    {
      "cell_type": "markdown",
      "metadata": {
        "id": "vDLHexaGUs17"
      },
      "source": [
        "### 문제 4. train_images에서 0이 아닌 값들을 출력해보세요."
      ]
    },
    {
      "cell_type": "code",
      "metadata": {
        "id": "1NYdCv1yUsKG",
        "colab": {
          "base_uri": "https://localhost:8080/"
        },
        "outputId": "c95ff130-817d-4ebc-b2b2-65ebdb876fdf"
      },
      "source": [
        "# 하나의 이미지에 대한 모든 0이 아닌 값을 출력하는 코드를 작성하세요.\n",
        "# train_images[0] # 글씨가 써지지 않은 부분은 모두 0\n",
        "# train_images[0].reshape(-1) # 1차원으로 변경\n",
        "list(filter(lambda x: x !=0, train_images[0].reshape(-1)))[:10]"
      ],
      "execution_count": null,
      "outputs": [
        {
          "output_type": "execute_result",
          "data": {
            "text/plain": [
              "[3, 18, 18, 18, 126, 136, 175, 26, 166, 255]"
            ]
          },
          "metadata": {},
          "execution_count": 7
        }
      ]
    },
    {
      "cell_type": "markdown",
      "metadata": {
        "id": "CZOhbFOFU_jr"
      },
      "source": [
        "### 문제 5. train_images의 dtype을 출력해보세요."
      ]
    },
    {
      "cell_type": "code",
      "metadata": {
        "id": "nVc4kjgAVNl7",
        "colab": {
          "base_uri": "https://localhost:8080/"
        },
        "outputId": "b763ff4e-9d0c-45a1-f637-3742c28569a7"
      },
      "source": [
        "# dtype을 이용하여 이미지의 np array type을 확인해보세요.\n",
        "# dtype = data type\n",
        "print(train_images.dtype)\n",
        "print(train_labels.dtype)\n",
        "print(test_images.dtype)\n",
        "print(test_labels.dtype)\n",
        "#uint8 -> unsigned int 8bits"
      ],
      "execution_count": null,
      "outputs": [
        {
          "output_type": "stream",
          "name": "stdout",
          "text": [
            "uint8\n",
            "uint8\n",
            "uint8\n",
            "uint8\n"
          ]
        }
      ]
    },
    {
      "cell_type": "markdown",
      "metadata": {
        "id": "eKv9UoZAxTr6"
      },
      "source": [
        "## Step 2. 전처리"
      ]
    },
    {
      "cell_type": "markdown",
      "metadata": {
        "id": "UTXpP1Imyaad"
      },
      "source": [
        "### 문제 6. train/test 이미지 데이터의 범위 확인"
      ]
    },
    {
      "cell_type": "code",
      "metadata": {
        "id": "Ji6XLxvRy5eJ",
        "colab": {
          "base_uri": "https://localhost:8080/"
        },
        "outputId": "9be2a21a-fff3-4cc1-d6db-d5e091ca7d38"
      },
      "source": [
        "# test_images의 shape과 dtype, 0이 아닌 숫자를 출력하는 코드를 작성하세요.\n",
        "print(list(filter(lambda x: x !=0, train_images[0].reshape(-1)))[:10])\n",
        "print(list(filter(lambda x: x !=0, train_labels[0].reshape(-1)))[:10])\n",
        "print(list(filter(lambda x: x !=0, test_images[0].reshape(-1)))[:10])\n",
        "print(list(filter(lambda x: x !=0, test_labels[0].reshape(-1)))[:10])"
      ],
      "execution_count": null,
      "outputs": [
        {
          "output_type": "stream",
          "name": "stdout",
          "text": [
            "[3, 18, 18, 18, 126, 136, 175, 26, 166, 255]\n",
            "[5]\n",
            "[84, 185, 159, 151, 60, 36, 222, 254, 254, 254]\n",
            "[7]\n"
          ]
        }
      ]
    },
    {
      "cell_type": "markdown",
      "metadata": {
        "id": "7OpFGbD6V8Zl"
      },
      "source": [
        "### 문제 7. train/test 이미지 데이터의 최소/최대값을 출력"
      ]
    },
    {
      "cell_type": "code",
      "metadata": {
        "id": "sFOJNRTvYo7d",
        "colab": {
          "base_uri": "https://localhost:8080/"
        },
        "outputId": "85113433-ec82-4ec0-932d-a231bb570e74"
      },
      "source": [
        "# train/test 전체 데이터에서 각 images, labels의 min, max를 출력하는 코드를 작성하세요.\n",
        "# train_images.reshape((60000, 28, 28)).shape\n",
        "# train_images.reshape(-1).shape\n",
        "# 1차원으로 데이터를 변환하여 max, min 확인\n",
        "\n",
        "print(max(train_images.reshape(-1)), min(train_images.reshape(-1)))\n",
        "print(max(test_images.reshape(-1)), min(test_images.reshape(-1)))\n",
        "# 255 0 으로 출력되는 것으로 보아, 데이터 자체는 정상으로 검증"
      ],
      "execution_count": null,
      "outputs": [
        {
          "output_type": "stream",
          "name": "stdout",
          "text": [
            "255 0\n",
            "255 0\n"
          ]
        }
      ]
    },
    {
      "cell_type": "markdown",
      "metadata": {
        "id": "W_xsByHegZhh"
      },
      "source": [
        "### 문제 8. 정수형을 실수형으로 변경 후 dtype으로 비교"
      ]
    },
    {
      "cell_type": "code",
      "metadata": {
        "id": "Y88qmAVChg_Z"
      },
      "source": [
        "# train/test 데이터의 타입을 dtype으로 확인해보고 실수형으로 전환하는 코드를 작성하세요.\n",
        "# test_images.dtype\n",
        "test_images = test_images.astype(np.float64)\n",
        "train_images = train_images.astype(np.float64)"
      ],
      "execution_count": null,
      "outputs": []
    },
    {
      "cell_type": "markdown",
      "metadata": {
        "id": "9iIJK2qsfevX"
      },
      "source": [
        "### 문제 9. 데이터 0-1 노말라이즈 수행\n"
      ]
    },
    {
      "cell_type": "markdown",
      "metadata": {
        "id": "L0f__zuBfotM"
      },
      "source": [
        "#### 힌트\n",
        "\n",
        "일반적으로 0-1사의의 값을 가지게 하기 위해서는 다음 수식을 사용합니다.\n",
        "\n",
        "$$normalize(x) = \\frac{x - 최소값}{최대값 - 최소값}$$\n",
        "\n",
        "이 경우 최소값이 0이기 떄문에 다음과 같이 간편하게 구할 수 있습니다.\n",
        "\n",
        "$$normalize(x) = \\frac{x}{최대값}$$"
      ]
    },
    {
      "cell_type": "code",
      "metadata": {
        "id": "SV2A6JZBf7Ku",
        "colab": {
          "base_uri": "https://localhost:8080/"
        },
        "outputId": "742c73bd-48cc-4eb9-dd43-72db68a03bfa"
      },
      "source": [
        "# images의 값이 0-1사이의 값을 같도록 코드를 작성해보세요.\n",
        "# max((train_images / 255).reshape(-1))\n",
        "## 아래 연산은 멱등적이지 않기 때문에, 만약 재수행시 해당 노트의 처음부터 재수행 필요\n",
        "train_images = train_images / 255\n",
        "test_images = test_images / 255\n"
      ],
      "execution_count": null,
      "outputs": [
        {
          "output_type": "execute_result",
          "data": {
            "text/plain": [
              "1.0"
            ]
          },
          "metadata": {},
          "execution_count": 24
        }
      ]
    },
    {
      "cell_type": "markdown",
      "metadata": {
        "id": "8QqqdPzDiC3F"
      },
      "source": [
        "### 문제 10. 0-1 노말라이즈 후 데이터의 값이 변경되었는지 문제 6, 7의 방법을 이용하여 확인하세요."
      ]
    },
    {
      "cell_type": "markdown",
      "metadata": {
        "id": "C_04Z-Kj2uyh"
      },
      "source": [
        "노말라이즈가 제대로 됐는지 확안해 보겠습니다."
      ]
    },
    {
      "cell_type": "code",
      "metadata": {
        "id": "t-ZKXRKO2rBE",
        "colab": {
          "base_uri": "https://localhost:8080/"
        },
        "outputId": "965aeff3-c396-4b55-e85f-ef99ba16a1f7"
      },
      "source": [
        "# 노말라이즈 후 min/max, shape, 0이 아닌 값, dtype 등을 확인하는 코드를 작성해보세요.\n",
        "print(list(filter(lambda x: x !=0, train_images[0].reshape(-1)))[:10])\n",
        "print(list(filter(lambda x: x !=0, train_labels[0].reshape(-1)))[:10])\n",
        "print(list(filter(lambda x: x !=0, test_images[0].reshape(-1)))[:10])\n",
        "print(list(filter(lambda x: x !=0, test_labels[0].reshape(-1)))[:10])"
      ],
      "execution_count": null,
      "outputs": [
        {
          "output_type": "stream",
          "name": "stdout",
          "text": [
            "[3.0, 18.0, 18.0, 18.0, 126.0, 136.0, 175.0, 26.0, 166.0, 255.0]\n",
            "[5]\n",
            "[84.0, 185.0, 159.0, 151.0, 60.0, 36.0, 222.0, 254.0, 254.0, 254.0]\n",
            "[7]\n"
          ]
        }
      ]
    },
    {
      "cell_type": "code",
      "source": [
        "print(train_images.shape, train_labels.shape, test_images.shape, test_labels.shape)\n",
        "print(train_images.dtype, train_labels.dtype, test_images.dtype, test_labels.dtype)"
      ],
      "metadata": {
        "colab": {
          "base_uri": "https://localhost:8080/"
        },
        "id": "i2vMEsxkYPgk",
        "outputId": "097fe70d-14fa-48bd-e736-1537b63e26b6"
      },
      "execution_count": null,
      "outputs": [
        {
          "output_type": "stream",
          "name": "stdout",
          "text": [
            "(60000, 28, 28) (60000,) (10000, 28, 28) (10000,)\n",
            "float64 uint8 float64 uint8\n"
          ]
        }
      ]
    },
    {
      "cell_type": "markdown",
      "metadata": {
        "id": "SMyUArry3UhT"
      },
      "source": [
        "## Step 3. 시각화 방법"
      ]
    },
    {
      "cell_type": "markdown",
      "metadata": {
        "id": "UFga-Bbo6L0E"
      },
      "source": [
        "### 문제 11. train_image의 이미지를 5장 획득하여 (5, 28, 28)의 shape을 출력하세요."
      ]
    },
    {
      "cell_type": "code",
      "metadata": {
        "id": "cLaqqwz4i_7D",
        "colab": {
          "base_uri": "https://localhost:8080/"
        },
        "outputId": "f5acaa53-4d02-49ec-e369-c484464e3d2d"
      },
      "source": [
        "# (60000, 28, 28)인 train_images에서 (5, 28, 28)을 획득하는 코드를 작성하세요.\n",
        "train_images[:5].shape"
      ],
      "execution_count": null,
      "outputs": [
        {
          "output_type": "execute_result",
          "data": {
            "text/plain": [
              "(5, 28, 28)"
            ]
          },
          "metadata": {},
          "execution_count": 39
        }
      ]
    },
    {
      "cell_type": "markdown",
      "metadata": {
        "id": "gX8JH97njNNr"
      },
      "source": [
        "### 문제 12. 획득한 5장의 의미지를 (28, 28 * 5)의 shape으로 변경해보세요."
      ]
    },
    {
      "cell_type": "code",
      "metadata": {
        "id": "bxRhMcaKk3Pa",
        "colab": {
          "base_uri": "https://localhost:8080/",
          "height": 163
        },
        "outputId": "f24e0e41-f113-4178-c9a2-3989377499c9"
      },
      "source": [
        "# np.hstack은 height 방향의 배열을 풀어서 width 방향으로 연결해줍니다.\n",
        "# 해당 기능을 쓰면 (height, image_height, image_width)의 shape을 (image_height, image_width * height)으로 바꿔 줄 수 있습니다.\n",
        "# 코드를 작성해보세요.\n",
        "# plt.imshow(train_images[:5].reshape(28, 28 * 5))\n",
        "# plt.show()\n",
        "\n",
        "# 의도한대로 shape을 바꾸는 과정\n",
        "plt.imshow(np.hstack(train_images[:5]))\n",
        "plt.show()"
      ],
      "execution_count": 41,
      "outputs": [
        {
          "output_type": "display_data",
          "data": {
            "text/plain": [
              "<Figure size 640x480 with 1 Axes>"
            ],
            "image/png": "[encoded data removed]"
          },
          "metadata": {}
        }
      ]
    },
    {
      "cell_type": "markdown",
      "metadata": {
        "id": "xqyaO-5bk-sj"
      },
      "source": [
        "### 문제 13. np.hstack은 tensorflow에서 제공하는 방법이 아니므로 transpose 함수를 이용하여 (28, 28 * 5)로 shape을 변경해보세요."
      ]
    },
    {
      "cell_type": "code",
      "metadata": {
        "id": "SqmKdjlGlqLJ",
        "colab": {
          "base_uri": "https://localhost:8080/"
        },
        "outputId": "68adc71d-f97c-4640-aeb0-f831918166fe"
      },
      "source": [
        "# transpose는 tensor의 axis를 섞는 기능을 합니다.\n",
        "# 해당 기능을 이용해서 (28, 140)을 작성하는 코드를 작성해보세요.\n",
        "\n",
        "# np를 자주사용하게 되면 cpu를 사용하기 때문에, 이를 회피하는 방법\n",
        "# 0: batch, 1: width, 2: height\n",
        "train_images[:5].transpose((1, 0, 2)).reshape(28, -1)"
      ],
      "execution_count": 57,
      "outputs": [
        {
          "output_type": "execute_result",
          "data": {
            "text/plain": [
              "array([[0., 0., 0., ..., 0., 0., 0.],\n",
              "       [0., 0., 0., ..., 0., 0., 0.],\n",
              "       [0., 0., 0., ..., 0., 0., 0.],\n",
              "       ...,\n",
              "       [0., 0., 0., ..., 0., 0., 0.],\n",
              "       [0., 0., 0., ..., 0., 0., 0.],\n",
              "       [0., 0., 0., ..., 0., 0., 0.]])"
            ]
          },
          "metadata": {},
          "execution_count": 57
        }
      ]
    },
    {
      "cell_type": "markdown",
      "metadata": {
        "id": "T0oaToP6l0Pd"
      },
      "source": [
        "### 문제 14. (28, 140)이 된 tensor를 plt로 출력해보세요."
      ]
    },
    {
      "cell_type": "code",
      "metadata": {
        "id": "ToUpk3oBmIr1",
        "colab": {
          "base_uri": "https://localhost:8080/",
          "height": 163
        },
        "outputId": "cf0f6411-865d-4285-db10-11d9a80be7ba"
      },
      "source": [
        "# (28, 140)의 이미지를 plt로 출력해보세요.\n",
        "# plt.imshow(np.hstack(train_images[:5]))\n",
        "plt.imshow(train_images[:5].transpose((1, 0, 2)).reshape(28, -1))\n",
        "plt.show()\n",
        "# print(train_labels[:5])"
      ],
      "execution_count": 53,
      "outputs": [
        {
          "output_type": "display_data",
          "data": {
            "text/plain": [
              "<Figure size 640x480 with 1 Axes>"
            ],
            "image/png": "[encoded data removed]"
          },
          "metadata": {}
        }
      ]
    },
    {
      "cell_type": "markdown",
      "metadata": {
        "id": "LDwAlHN5mQ6K"
      },
      "source": [
        "###문제 15. (28, 140)이 된 tensor를 plt로 흑백으로 출력해보세요. 또한, 해당되는 labels의 값도 print로 출력하세요.\n",
        "\n",
        "hit: imshow 함수의 cmap ='gray' 옵션은 흑백이미지를 heatmap으로 출력하지 않습니다."
      ]
    },
    {
      "cell_type": "code",
      "metadata": {
        "id": "cT-BXF6OmQUy",
        "colab": {
          "base_uri": "https://localhost:8080/",
          "height": 433
        },
        "outputId": "00f9b29a-9934-4023-fba0-3fe336f9259e"
      },
      "source": [
        "# images와 labels 5개를 출력하는 코드를 작성하세요.\n",
        "plt.imshow(train_images[:5].transpose((1, 0, 2)).reshape(28, -1), cmap=\"gray\")\n",
        "plt.colorbar()\n",
        "plt.show()\n",
        "print(train_labels[:5])"
      ],
      "execution_count": 60,
      "outputs": [
        {
          "output_type": "display_data",
          "data": {
            "text/plain": [
              "<Figure size 640x480 with 2 Axes>"
            ],
            "image/png": "[encoded data removed]"
          },
          "metadata": {}
        },
        {
          "output_type": "stream",
          "name": "stdout",
          "text": [
            "[5 0 4 1 9]\n"
          ]
        }
      ]
    },
    {
      "cell_type": "markdown",
      "metadata": {
        "id": "Kz3kWteP8Kap"
      },
      "source": [
        "## Step 4. Data augmentation - Noise 추가 방법"
      ]
    },
    {
      "cell_type": "markdown",
      "metadata": {
        "id": "fesKKJqio--a"
      },
      "source": [
        "### 문제 16. np.random.random 함수를 이용하여 0-1 사이의 랜덤값을 3회 print로 출력해보시오."
      ]
    },
    {
      "cell_type": "code",
      "metadata": {
        "id": "Jsmh1keWpODx"
      },
      "source": [
        "# np.random.ranodm을 이용해서 0-1 사의의 랜덤값을 3회 출력하는 코드를 작성하시오."
      ],
      "execution_count": null,
      "outputs": []
    },
    {
      "cell_type": "markdown",
      "metadata": {
        "id": "_1NMpB6LqIB5"
      },
      "source": [
        "### 문제 17. np.random.random 함수와 shape 파라매터를 (28, 28)의 랜덤 노이즈를 생성해보세요."
      ]
    },
    {
      "cell_type": "code",
      "metadata": {
        "id": "U9-NlbEhqhCx"
      },
      "source": [
        "# np.random.randpm 함수와 shape 파라매터를 이용하여 (28, 28)의 랜덤 노이즈를 생성하는 코드를 작성하시오.\n",
        "np.random.random((28,28)).shape"
      ],
      "execution_count": null,
      "outputs": []
    },
    {
      "cell_type": "markdown",
      "metadata": {
        "id": "JLSYLZr0qvGI"
      },
      "source": [
        "### 문제 18. 생성된 random (28, 28) 노이즈를 plt를 통하여 확인해보세요."
      ]
    },
    {
      "cell_type": "code",
      "metadata": {
        "id": "EsgmHRFSrDX4"
      },
      "source": [
        "# plt를 통하여 random (28, 28) 노이즈를 2회 출력하는 코드를 작성하시고, 이미지가 다른지 확인하세요.\n",
        "plt.imshow(np.random.random((28,28)), cmap=\"gray\")\n",
        "plt.colorbar()\n",
        "plt.show()"
      ],
      "execution_count": null,
      "outputs": []
    },
    {
      "cell_type": "markdown",
      "metadata": {
        "id": "nWy8FKR1AYJU"
      },
      "source": [
        "### 문제 19. 가우시안 노이즈 함수를 사용하여 평균 0, 표준편차 0.1, 사이즈 1로 랜덤 값을 3번 출력하세요. (np.random.normal)"
      ]
    },
    {
      "cell_type": "code",
      "metadata": {
        "id": "ENpSWYu_stHp"
      },
      "source": [
        "# 가우시안 노이즈 함수를 이용하여 mu 0.1 std 0.1 size 1인 랜덤값을 3번 출력하는 코드를 작성하세요.\n",
        "print(np.random.normal(0.0, 0.1, 1))\n",
        "print(np.random.normal(0.0, 0.1, 1))\n",
        "print(np.random.normal(0.0, 0.1, 1))"
      ],
      "execution_count": null,
      "outputs": []
    },
    {
      "cell_type": "markdown",
      "metadata": {
        "id": "OQPItJ4zBWTt"
      },
      "source": [
        "### 문제 20. 가우시안 노이즈 함수의 옵션을 문제 19과 동일하지만 평균이 3.0인 경우, 표준 편차가 0.01인 경우로 각각 3회씩 출력해보세요."
      ]
    },
    {
      "cell_type": "code",
      "metadata": {
        "id": "CuvUg3SmtRrx"
      },
      "source": [
        "# 가우시안 노이즈 함수 mu = 3.0, std = 0.1, size = 1을 3 회 출력, mu = 0.0, std = 0.01, size = 1을 3회 출력하는 코드를 작성해보세요.\n",
        "print(np.random.normal(3.0, 0.01, 1))\n",
        "print(np.random.normal(3.0, 0.01, 1))\n",
        "print(np.random.normal(3.0, 0.01, 1))"
      ],
      "execution_count": null,
      "outputs": []
    },
    {
      "cell_type": "markdown",
      "metadata": {
        "id": "ef1qyJ8HtZfu"
      },
      "source": [
        "### 문제 21. 가우시안 노이즈 함수를 문제 19의 옵션으로 size를 (28, 28)로 생성 후 plt로 출력해보세요."
      ]
    },
    {
      "cell_type": "code",
      "metadata": {
        "id": "kh_v1QZYt0kJ"
      },
      "source": [
        "# 가우시안 노이즈 함수를 문제 17의 옵션으로 size를 (28, 28)로 생성 후 plt로 출력하는 코드를 작성해보세요. 단, std = 0.01\n",
        "plt.imshow(np.random.normal(0.0, 0.01, (28, 28)), cmap=\"gray\")\n",
        "plt.colorbar()\n",
        "plt.show()"
      ],
      "execution_count": null,
      "outputs": []
    },
    {
      "cell_type": "markdown",
      "metadata": {
        "id": "MUdBACZuCDfA"
      },
      "source": [
        "### 문제 22. train_images의 5번째 이미지와 가우시안 노이즈 (28, 28)를 생성 한 뒤 각각 tensor를 더한 뒤 noisy_image 변수에 할당 해보세요."
      ]
    },
    {
      "cell_type": "code",
      "metadata": {
        "id": "pWia41PbumMX"
      },
      "source": [
        "# train_images[5]와 가우시안 노이즈 (28, 28)을 더한 뒤 noisy_image 변수에 할당하는 코드를 작성하세요. mu = 0.5, std = 0.1\n",
        "noisy_image = train_images[5] + np.random.normal(0.5, 0.1, (28, 28))"
      ],
      "execution_count": null,
      "outputs": []
    },
    {
      "cell_type": "markdown",
      "metadata": {
        "id": "WsA0v_tNuv7Z"
      },
      "source": [
        "### 문제 23. noisy_image를 plt를 통해서 출력해보세요."
      ]
    },
    {
      "cell_type": "code",
      "metadata": {
        "id": "SMLTjkltv4g3"
      },
      "source": [
        "# noisy_image를 plt로 출력하는 코드를 작성해보세요.\n",
        "plt.imshow(noisy_image, cmap=\"gray\")\n",
        "plt.colorbar()\n",
        "plt.show()"
      ],
      "execution_count": null,
      "outputs": []
    },
    {
      "cell_type": "markdown",
      "metadata": {
        "id": "Mqv2vE5EwChf"
      },
      "source": [
        "### 문제 24. 노이지 이미지를 생성했지만, max가 1이 넘습니다. max값을 1로 조절해보세요."
      ]
    },
    {
      "cell_type": "code",
      "metadata": {
        "id": "yxlKvbMBwyZu"
      },
      "source": [
        "# max가 1을 초과하지 않게 noisy_image를 수정한 뒤 plt로 출력해보세요.\n",
        "noisy_image[noisy_image > 1.0] = 1.0\n",
        "plt.imshow(noisy_image, cmap=\"gray\")\n",
        "plt.colorbar()\n",
        "plt.show()"
      ],
      "execution_count": null,
      "outputs": []
    },
    {
      "cell_type": "markdown",
      "metadata": {
        "id": "-ZGNiCnuxQTO"
      },
      "source": [
        "### 문제 25. 위의 방법을 전부 활용하여 train_images와 test_images 데이터에 랜덤 노이즈를 추가한 train_noisy_images와 test_noisy_images를 생성해보세요."
      ]
    },
    {
      "cell_type": "code",
      "metadata": {
        "id": "c7292i2CMFCz"
      },
      "source": [
        "# train_noisy_image와 test_nosiy_images를 생성하는 코드를 작성하세요.\n",
        "train_noisy_images = train_images + np.random.normal(0.5, 0.1, train_images.shape)\n",
        "train_noisy_images[train_noisy_images > 1.0] = 1.0\n",
        "\n",
        "test_noisy_images = test_images + np.random.normal(0.5, 0.1, test_images.shape)\n",
        "test_noisy_images[test_noisy_images > 1.0] = 1.0"
      ],
      "execution_count": null,
      "outputs": []
    },
    {
      "cell_type": "code",
      "metadata": {
        "id": "zGzd99EolQBo"
      },
      "source": [
        "plt.imshow(train_noisy_images[:5].transpose( (1, 0, 2) ).reshape(28, -1), cmap=\"gray\")\n",
        "plt.colorbar()\n",
        "plt.show()"
      ],
      "execution_count": null,
      "outputs": []
    },
    {
      "cell_type": "markdown",
      "metadata": {
        "id": "cclii1-lS_HA"
      },
      "source": [
        "### 문제 26. labels에 onehot 인코딩을 적용하여 (배치 사이즈, 클래스 개수)의 shape으로 변경해보세요."
      ]
    },
    {
      "cell_type": "code",
      "metadata": {
        "id": "S34frxLyxAD-"
      },
      "source": [
        "# train/test labels에 onehot encoding을 적용하여 shape을 (배치사이즈,) 에서 (배치사이즈, 클래스 개수)로 변경하는 코드를 작성하세요.\n",
        "from keras.utils import to_categorical\n",
        "print(train_labels.shape, test_labels.shape)\n",
        "train_labels = to_categorical( train_labels, 10)\n",
        "test_labels = to_categorical( test_labels, 10)\n",
        "print(train_labels.shape, test_labels.shape)"
      ],
      "execution_count": null,
      "outputs": []
    },
    {
      "cell_type": "markdown",
      "metadata": {
        "id": "z67dTPu0xJSu"
      },
      "source": [
        "## Step 5. 모델링"
      ]
    },
    {
      "cell_type": "markdown",
      "metadata": {
        "id": "20iJHg2gXrC2"
      },
      "source": [
        "### 문제 27. 해당 학습셋을 처리하는 이미지 classification 모델을 작성하세요."
      ]
    },
    {
      "cell_type": "code",
      "metadata": {
        "id": "1Q1XtFoxX0eN"
      },
      "source": [
        "# input (28, 28), 64 unit의 simple RNN, 10 unit의 fully-conntect를 가진 모델을 작성하세요."
      ],
      "execution_count": null,
      "outputs": []
    },
    {
      "cell_type": "markdown",
      "metadata": {
        "id": "svYCsKxOyJzt"
      },
      "source": [
        "### 문제 28. 모델 요약 정보를 출력해보세요."
      ]
    },
    {
      "cell_type": "code",
      "metadata": {
        "id": "d4qnTxHpyN37"
      },
      "source": [
        "# 모델 요약 정보를 출력해보세요."
      ],
      "execution_count": null,
      "outputs": []
    },
    {
      "cell_type": "markdown",
      "metadata": {
        "id": "PkOrDR1yam4a"
      },
      "source": [
        "### 문제 29. 27에서 만든 모델에 로스와 옵티마이저, 메트릭을 설정하세요."
      ]
    },
    {
      "cell_type": "code",
      "metadata": {
        "id": "nufi0CMyazsF"
      },
      "source": [
        "# 만든 모델에 loss는 categorical_crossentropy, optimizer는 adam 매트릭은 accuracy으로 설정하는 코드를 작성하세요."
      ],
      "execution_count": null,
      "outputs": []
    },
    {
      "cell_type": "markdown",
      "metadata": {
        "id": "IZRqZC50ZoaE"
      },
      "source": [
        "### 문제 30. 만든 모델에 train_noisy_images를 학습시켜 보세요."
      ]
    },
    {
      "cell_type": "code",
      "metadata": {
        "id": "PtpJp3fmaRuA"
      },
      "source": [
        "# train_noisy_images를 학습시키고 5 epochs을 돌리고 그 진행 사항을 hist에 저장하는 코드를 작성하세요."
      ],
      "execution_count": null,
      "outputs": []
    },
    {
      "cell_type": "markdown",
      "metadata": {
        "id": "hU3-Lm7Ma_97"
      },
      "source": [
        "### 문제 31. 학습 진행 사항을 plt으로 출력하세요."
      ]
    },
    {
      "cell_type": "code",
      "metadata": {
        "id": "B6pKz5o3bPIT"
      },
      "source": [
        "# hist의 accuracy plt의 plot을 이용하여 출력하는 코드를 작성하세요."
      ],
      "execution_count": null,
      "outputs": []
    },
    {
      "cell_type": "markdown",
      "metadata": {
        "id": "bfxPsEKTrKBq"
      },
      "source": [
        "## Step 6. 결과 확인"
      ]
    },
    {
      "cell_type": "markdown",
      "metadata": {
        "id": "J6nvDS4yOSCD"
      },
      "source": [
        "### 문제 32. 완성된 모델에서 test_noisy_image를 1장 넣고 결과를 res 변수에 저정하세요."
      ]
    },
    {
      "cell_type": "code",
      "metadata": {
        "id": "uKFAu5z4QRjR"
      },
      "source": [
        "# 모델에 test_noisy_images 중 1장을 넣고 결과를 받는 코드를 작성하세요."
      ],
      "execution_count": null,
      "outputs": []
    },
    {
      "cell_type": "markdown",
      "metadata": {
        "id": "KMHHUTQfQcU0"
      },
      "source": [
        "### 문제 33. test_noisy_images[0], test_images[0]를 width 방향으로 결합하여 plt로 출력하세요"
      ]
    },
    {
      "cell_type": "code",
      "metadata": {
        "id": "L0t-FO9qRfoK"
      },
      "source": [
        "# test_noisy_images[0], test_images[0]를 width 방향으로 결합하여 (28, 28 * 2) 의 이미지를 만들어 plt로 출력하는 코드를 작성하세요."
      ],
      "execution_count": null,
      "outputs": []
    },
    {
      "cell_type": "markdown",
      "metadata": {
        "id": "16fGMxJRwhc6"
      },
      "source": [
        "### 문제 34. res와 test_labels[0]의 결과를 plt.bar로 확인하세요."
      ]
    },
    {
      "cell_type": "code",
      "metadata": {
        "id": "oLZEQHHAwqPC"
      },
      "source": [
        "# res와 test_labels[0]의 결과를 plt.bar로 확인하세요."
      ],
      "execution_count": null,
      "outputs": []
    },
    {
      "cell_type": "markdown",
      "metadata": {
        "id": "7FQT89oqrdkA"
      },
      "source": [
        "## Step 7. 모델 저장 및 로드, 다운"
      ]
    },
    {
      "cell_type": "markdown",
      "metadata": {
        "id": "c2GZFvCAzFNl"
      },
      "source": [
        "### 문제 35. 모델을 저장하세요."
      ]
    },
    {
      "cell_type": "code",
      "metadata": {
        "id": "YjuCVTNbriVJ"
      },
      "source": [
        "# 모델을 저장하는 코드를 작성하세요. "
      ],
      "execution_count": null,
      "outputs": []
    },
    {
      "cell_type": "markdown",
      "metadata": {
        "id": "Bj4P3DdzzhyC"
      },
      "source": [
        "### 문제 36. 모델 파일을 새로운 모델에 로드하세요."
      ]
    },
    {
      "cell_type": "code",
      "metadata": {
        "id": "xuRAnBR8zY-X"
      },
      "source": [
        "# 모델을 로드하는 코드를 작성하세요."
      ],
      "execution_count": null,
      "outputs": []
    },
    {
      "cell_type": "markdown",
      "metadata": {
        "id": "ta1I5ZEY1FBR"
      },
      "source": [
        "### 문제 37. 로드한 모델을 test 데이터로 평가해보세요.\n"
      ]
    },
    {
      "cell_type": "code",
      "metadata": {
        "id": "ALrVf_lm0_Bc"
      },
      "source": [
        "# 로드한 모델을 test 데이터로 평가해보세요."
      ],
      "execution_count": null,
      "outputs": []
    },
    {
      "cell_type": "markdown",
      "metadata": {
        "id": "gfEgY1Vr1T1v"
      },
      "source": [
        "### 문제 38. 모델을 내 컴퓨터에 저장해보세요"
      ]
    },
    {
      "cell_type": "code",
      "metadata": {
        "id": "ASkJv_Ui1RGv"
      },
      "source": [
        "# 모델을 내 컴퓨터에 저장해보세요."
      ],
      "execution_count": null,
      "outputs": []
    },
    {
      "cell_type": "code",
      "metadata": {
        "id": "4qBQZvGj2IkF"
      },
      "source": [],
      "execution_count": null,
      "outputs": []
    }
  ]
}